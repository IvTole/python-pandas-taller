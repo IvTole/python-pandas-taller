{
 "cells": [
  {
   "cell_type": "markdown",
   "metadata": {},
   "source": [
    "# Trabajando con fechas y tiempos en Pandas"
   ]
  },
  {
   "cell_type": "code",
   "execution_count": 133,
   "metadata": {},
   "outputs": [],
   "source": [
    "import pandas as pd\n",
    "import datetime as dt"
   ]
  },
  {
   "cell_type": "markdown",
   "metadata": {},
   "source": [
    "## Revisión del módulo `datetime` de Python\n",
    "- El módulo `datetime` está incorporado dentro de Python.\n",
    "- El alias común para el módulo `datetime` es `dt`.\n",
    "- El módulo `datetime` incluye las clases `date` y `datetime` para representar fechas y fechas con tiempo.\n",
    "- El constructor `date` acepta argumentos para año, mes y día. Python asigna por defecto el valor 0 a cualquier valor faltante.\n",
    "- El constructor `datetime` acepta argumentos para año, mes, día, hora, minuto y segundo.\n"
   ]
  },
  {
   "cell_type": "code",
   "execution_count": 134,
   "metadata": {},
   "outputs": [
    {
     "name": "stdout",
     "output_type": "stream",
     "text": [
      "year = 2025\n",
      "month = 12\n",
      "day = 15\n",
      "<class 'datetime.date'>\n",
      "year = 2025\n",
      "month = 12\n",
      "day = 15\n",
      "hour = 8\n",
      "minute = 13\n",
      "second = 59\n"
     ]
    }
   ],
   "source": [
    "# Ejemplo del uso de datetime\n",
    "someday = dt.date(2025, 12, 15)\n",
    "\n",
    "print(f'year = {someday.year}')\n",
    "print(f'month = {someday.month}')\n",
    "print(f'day = {someday.day}')\n",
    "print(type(someday))\n",
    "sometime = dt.datetime(2025, 12, 15, 8, 13, 59)\n",
    "print(f'year = {sometime.year}')\n",
    "print(f'month = {sometime.month}')\n",
    "print(f'day = {sometime.day}')\n",
    "print(f'hour = {sometime.hour}')\n",
    "print(f'minute = {sometime.minute}')\n",
    "print(f'second = {sometime.second}')"
   ]
  },
  {
   "cell_type": "markdown",
   "metadata": {},
   "source": [
    "## Los objetos `Timestamp` y `DatetimeIndex`\n",
    "\n",
    "- Pandas incluye varias clases relacionadas con fechas y horas.\n",
    "- El **Timestamp** es similar al objeto **datetime** de Python (pero con funcionalidades ampliadas).\n",
    "- Un **DatetimeIndex** es un índice de objetos **Timestamp**.\n",
    "- El constructor de **Timestamp** acepta una cadena de texto, un objeto **datetime**, o argumentos equivalentes a los de la clase **datetime**.\n"
   ]
  },
  {
   "cell_type": "code",
   "execution_count": 135,
   "metadata": {},
   "outputs": [
    {
     "data": {
      "text/plain": [
       "Timestamp('2027-03-12 00:00:00')"
      ]
     },
     "execution_count": 135,
     "metadata": {},
     "output_type": "execute_result"
    }
   ],
   "source": [
    "pd.Timestamp(2027, 3, 12)"
   ]
  },
  {
   "cell_type": "code",
   "execution_count": 136,
   "metadata": {},
   "outputs": [
    {
     "data": {
      "text/plain": [
       "Timestamp('2027-03-12 18:23:49')"
      ]
     },
     "execution_count": 136,
     "metadata": {},
     "output_type": "execute_result"
    }
   ],
   "source": [
    "pd.Timestamp(2027, 3, 12, 18, 23, 49)\n"
   ]
  },
  {
   "cell_type": "code",
   "execution_count": 137,
   "metadata": {},
   "outputs": [
    {
     "data": {
      "text/plain": [
       "Timestamp('2028-10-23 00:00:00')"
      ]
     },
     "execution_count": 137,
     "metadata": {},
     "output_type": "execute_result"
    }
   ],
   "source": [
    "pd.Timestamp(dt.date(2028, 10, 23))\n"
   ]
  },
  {
   "cell_type": "code",
   "execution_count": 138,
   "metadata": {},
   "outputs": [
    {
     "data": {
      "text/plain": [
       "Timestamp('2028-10-23 14:35:00')"
      ]
     },
     "execution_count": 138,
     "metadata": {},
     "output_type": "execute_result"
    }
   ],
   "source": [
    "pd.Timestamp(dt.datetime(2028, 10, 23, 14, 35))\n"
   ]
  },
  {
   "cell_type": "code",
   "execution_count": 139,
   "metadata": {},
   "outputs": [
    {
     "data": {
      "text/plain": [
       "Timestamp('2025-01-01 00:00:00')"
      ]
     },
     "execution_count": 139,
     "metadata": {},
     "output_type": "execute_result"
    }
   ],
   "source": [
    "pd.Timestamp(\"2025-01-01\")\n"
   ]
  },
  {
   "cell_type": "code",
   "execution_count": 140,
   "metadata": {},
   "outputs": [
    {
     "data": {
      "text/plain": [
       "Timestamp('2025-04-01 00:00:00')"
      ]
     },
     "execution_count": 140,
     "metadata": {},
     "output_type": "execute_result"
    }
   ],
   "source": [
    "pd.Timestamp(\"2025/04/01\")\n"
   ]
  },
  {
   "cell_type": "code",
   "execution_count": 141,
   "metadata": {},
   "outputs": [
    {
     "data": {
      "text/plain": [
       "Timestamp('2021-03-08 08:35:15')"
      ]
     },
     "execution_count": 141,
     "metadata": {},
     "output_type": "execute_result"
    }
   ],
   "source": [
    "pd.Timestamp(\"2021-03-08 08:35:15\")\n"
   ]
  },
  {
   "cell_type": "code",
   "execution_count": 142,
   "metadata": {},
   "outputs": [
    {
     "data": {
      "text/plain": [
       "Timestamp('2021-03-08 08:35:15')"
      ]
     },
     "execution_count": 142,
     "metadata": {},
     "output_type": "execute_result"
    }
   ],
   "source": [
    "pd.Series([pd.Timestamp(\"2021-03-08 08:35:15\")]).iloc[0]\n"
   ]
  },
  {
   "cell_type": "code",
   "execution_count": 144,
   "metadata": {},
   "outputs": [
    {
     "data": {
      "text/plain": [
       "DatetimeIndex(['2025-01-01', '2025-02-01', '2025-03-01'], dtype='datetime64[ns]', freq=None)"
      ]
     },
     "execution_count": 144,
     "metadata": {},
     "output_type": "execute_result"
    }
   ],
   "source": [
    "time_index = pd.DatetimeIndex([\"2025-01-01\", \"2025-02-01\", \"2025-03-01\"])\n",
    "time_index\n"
   ]
  },
  {
   "cell_type": "code",
   "execution_count": 147,
   "metadata": {},
   "outputs": [
    {
     "data": {
      "text/plain": [
       "Timestamp('2025-01-01 00:00:00')"
      ]
     },
     "execution_count": 147,
     "metadata": {},
     "output_type": "execute_result"
    }
   ],
   "source": [
    "pd.Series(time_index).iloc[0]"
   ]
  },
  {
   "cell_type": "code",
   "execution_count": 148,
   "metadata": {},
   "outputs": [
    {
     "name": "stdout",
     "output_type": "stream",
     "text": [
      "2026-01-10 00:00:00\n",
      "<class 'pandas._libs.tslibs.timestamps.Timestamp'>\n"
     ]
    }
   ],
   "source": [
    "index = pd.DatetimeIndex([\n",
    "    dt.date(2026, 1, 10),\n",
    "    dt.date(2026, 2, 20)\n",
    "])\n",
    "\n",
    "print(index[0])\n",
    "print(type(index[0]))"
   ]
  },
  {
   "cell_type": "markdown",
   "metadata": {},
   "source": [
    "## Crear un rango de fechas con la función `pd.date_range`\n",
    "\n",
    "- La función `date_range` genera y devuelve un **DatetimeIndex** que contiene una secuencia de fechas.\n",
    "- La función requiere 2 de los 3 siguientes parámetros: `start`, `end` y `period`.\n",
    "- Si se proporcionan `start` y `end`, Pandas asumirá un intervalo/período diario.\n",
    "- Cada elemento dentro de un **DatetimeIndex** es un **Timestamp**.\n"
   ]
  },
  {
   "cell_type": "code",
   "execution_count": 149,
   "metadata": {},
   "outputs": [
    {
     "data": {
      "text/plain": [
       "DatetimeIndex(['2025-01-01', '2025-01-02', '2025-01-03', '2025-01-04',\n",
       "               '2025-01-05', '2025-01-06', '2025-01-07'],\n",
       "              dtype='datetime64[ns]', freq='D')"
      ]
     },
     "execution_count": 149,
     "metadata": {},
     "output_type": "execute_result"
    }
   ],
   "source": [
    "pd.date_range(start=\"2025-01-01\", end=\"2025-01-07\")"
   ]
  },
  {
   "cell_type": "code",
   "execution_count": 150,
   "metadata": {},
   "outputs": [
    {
     "data": {
      "text/plain": [
       "DatetimeIndex(['2025-01-01', '2025-01-02', '2025-01-03', '2025-01-04',\n",
       "               '2025-01-05', '2025-01-06', '2025-01-07'],\n",
       "              dtype='datetime64[ns]', freq='D')"
      ]
     },
     "execution_count": 150,
     "metadata": {},
     "output_type": "execute_result"
    }
   ],
   "source": [
    "pd.date_range(start=\"2025-01-01\", end=\"2025-01-07\", freq=\"D\")\n"
   ]
  },
  {
   "cell_type": "code",
   "execution_count": 151,
   "metadata": {},
   "outputs": [
    {
     "data": {
      "text/plain": [
       "DatetimeIndex(['2025-01-01', '2025-01-03', '2025-01-05', '2025-01-07'], dtype='datetime64[ns]', freq='2D')"
      ]
     },
     "execution_count": 151,
     "metadata": {},
     "output_type": "execute_result"
    }
   ],
   "source": [
    "pd.date_range(start=\"2025-01-01\", end=\"2025-01-07\", freq=\"2D\")\n"
   ]
  },
  {
   "cell_type": "code",
   "execution_count": 152,
   "metadata": {},
   "outputs": [
    {
     "data": {
      "text/plain": [
       "DatetimeIndex(['2025-01-01', '2025-01-02', '2025-01-03', '2025-01-06',\n",
       "               '2025-01-07'],\n",
       "              dtype='datetime64[ns]', freq='B')"
      ]
     },
     "execution_count": 152,
     "metadata": {},
     "output_type": "execute_result"
    }
   ],
   "source": [
    "pd.date_range(start=\"2025-01-01\", end=\"2025-01-07\", freq=\"B\") # business days - Monday-Friday\n"
   ]
  },
  {
   "cell_type": "code",
   "execution_count": 153,
   "metadata": {},
   "outputs": [
    {
     "data": {
      "text/plain": [
       "DatetimeIndex(['2025-01-05', '2025-01-12', '2025-01-19', '2025-01-26'], dtype='datetime64[ns]', freq='W-SUN')"
      ]
     },
     "execution_count": 153,
     "metadata": {},
     "output_type": "execute_result"
    }
   ],
   "source": [
    "pd.date_range(start=\"2025-01-01\", end=\"2025-01-31\", freq=\"W\")\n"
   ]
  },
  {
   "cell_type": "code",
   "execution_count": 154,
   "metadata": {},
   "outputs": [
    {
     "data": {
      "text/plain": [
       "DatetimeIndex(['2025-01-03', '2025-01-10', '2025-01-17', '2025-01-24',\n",
       "               '2025-01-31'],\n",
       "              dtype='datetime64[ns]', freq='W-FRI')"
      ]
     },
     "execution_count": 154,
     "metadata": {},
     "output_type": "execute_result"
    }
   ],
   "source": [
    "pd.date_range(start=\"2025-01-01\", end=\"2025-01-31\", freq=\"W-FRI\")\n"
   ]
  },
  {
   "cell_type": "code",
   "execution_count": 155,
   "metadata": {},
   "outputs": [
    {
     "data": {
      "text/plain": [
       "DatetimeIndex(['2025-01-02', '2025-01-09', '2025-01-16', '2025-01-23',\n",
       "               '2025-01-30'],\n",
       "              dtype='datetime64[ns]', freq='W-THU')"
      ]
     },
     "execution_count": 155,
     "metadata": {},
     "output_type": "execute_result"
    }
   ],
   "source": [
    "pd.date_range(start=\"2025-01-01\", end=\"2025-01-31\", freq=\"W-THU\")\n"
   ]
  },
  {
   "cell_type": "code",
   "execution_count": 158,
   "metadata": {},
   "outputs": [
    {
     "data": {
      "text/plain": [
       "DatetimeIndex(['2025-01-01 00:00:00', '2025-01-01 01:00:00',\n",
       "               '2025-01-01 02:00:00', '2025-01-01 03:00:00',\n",
       "               '2025-01-01 04:00:00', '2025-01-01 05:00:00',\n",
       "               '2025-01-01 06:00:00', '2025-01-01 07:00:00',\n",
       "               '2025-01-01 08:00:00', '2025-01-01 09:00:00',\n",
       "               ...\n",
       "               '2025-01-30 15:00:00', '2025-01-30 16:00:00',\n",
       "               '2025-01-30 17:00:00', '2025-01-30 18:00:00',\n",
       "               '2025-01-30 19:00:00', '2025-01-30 20:00:00',\n",
       "               '2025-01-30 21:00:00', '2025-01-30 22:00:00',\n",
       "               '2025-01-30 23:00:00', '2025-01-31 00:00:00'],\n",
       "              dtype='datetime64[ns]', length=721, freq='h')"
      ]
     },
     "execution_count": 158,
     "metadata": {},
     "output_type": "execute_result"
    }
   ],
   "source": [
    "pd.date_range(start=\"2025-01-01\", end=\"2025-01-31\", freq=\"h\")\n"
   ]
  },
  {
   "cell_type": "code",
   "execution_count": 159,
   "metadata": {},
   "outputs": [
    {
     "data": {
      "text/plain": [
       "DatetimeIndex(['2025-01-01 00:00:00', '2025-01-01 06:00:00',\n",
       "               '2025-01-01 12:00:00', '2025-01-01 18:00:00',\n",
       "               '2025-01-02 00:00:00', '2025-01-02 06:00:00',\n",
       "               '2025-01-02 12:00:00', '2025-01-02 18:00:00',\n",
       "               '2025-01-03 00:00:00', '2025-01-03 06:00:00',\n",
       "               ...\n",
       "               '2025-01-28 18:00:00', '2025-01-29 00:00:00',\n",
       "               '2025-01-29 06:00:00', '2025-01-29 12:00:00',\n",
       "               '2025-01-29 18:00:00', '2025-01-30 00:00:00',\n",
       "               '2025-01-30 06:00:00', '2025-01-30 12:00:00',\n",
       "               '2025-01-30 18:00:00', '2025-01-31 00:00:00'],\n",
       "              dtype='datetime64[ns]', length=121, freq='6h')"
      ]
     },
     "execution_count": 159,
     "metadata": {},
     "output_type": "execute_result"
    }
   ],
   "source": [
    "pd.date_range(start=\"2025-01-01\", end=\"2025-01-31\", freq=\"6h\")\n"
   ]
  },
  {
   "cell_type": "code",
   "execution_count": 160,
   "metadata": {},
   "outputs": [
    {
     "data": {
      "text/plain": [
       "DatetimeIndex(['2025-01-31', '2025-02-28', '2025-03-31', '2025-04-30',\n",
       "               '2025-05-31', '2025-06-30', '2025-07-31', '2025-08-31',\n",
       "               '2025-09-30', '2025-10-31', '2025-11-30', '2025-12-31'],\n",
       "              dtype='datetime64[ns]', freq='ME')"
      ]
     },
     "execution_count": 160,
     "metadata": {},
     "output_type": "execute_result"
    }
   ],
   "source": [
    "pd.date_range(start=\"2025-01-01\", end=\"2025-12-31\", freq=\"ME\")\n"
   ]
  },
  {
   "cell_type": "code",
   "execution_count": 161,
   "metadata": {},
   "outputs": [
    {
     "data": {
      "text/plain": [
       "DatetimeIndex(['2025-01-01', '2025-02-01', '2025-03-01', '2025-04-01',\n",
       "               '2025-05-01', '2025-06-01', '2025-07-01', '2025-08-01',\n",
       "               '2025-09-01', '2025-10-01', '2025-11-01', '2025-12-01'],\n",
       "              dtype='datetime64[ns]', freq='MS')"
      ]
     },
     "execution_count": 161,
     "metadata": {},
     "output_type": "execute_result"
    }
   ],
   "source": [
    "pd.date_range(start=\"2025-01-01\", end=\"2025-12-31\", freq=\"MS\")\n"
   ]
  },
  {
   "cell_type": "code",
   "execution_count": 162,
   "metadata": {},
   "outputs": [
    {
     "data": {
      "text/plain": [
       "DatetimeIndex(['2025-12-31', '2026-12-31', '2027-12-31', '2028-12-31',\n",
       "               '2029-12-31', '2030-12-31', '2031-12-31', '2032-12-31',\n",
       "               '2033-12-31', '2034-12-31', '2035-12-31', '2036-12-31',\n",
       "               '2037-12-31', '2038-12-31', '2039-12-31', '2040-12-31',\n",
       "               '2041-12-31', '2042-12-31', '2043-12-31', '2044-12-31',\n",
       "               '2045-12-31', '2046-12-31', '2047-12-31', '2048-12-31',\n",
       "               '2049-12-31', '2050-12-31'],\n",
       "              dtype='datetime64[ns]', freq='YE-DEC')"
      ]
     },
     "execution_count": 162,
     "metadata": {},
     "output_type": "execute_result"
    }
   ],
   "source": [
    "pd.date_range(start=\"2025-01-01\", end=\"2050-12-31\", freq=\"YE\")\n"
   ]
  },
  {
   "cell_type": "code",
   "execution_count": 163,
   "metadata": {},
   "outputs": [
    {
     "data": {
      "text/plain": [
       "DatetimeIndex(['2012-09-09', '2012-09-10', '2012-09-11', '2012-09-12',\n",
       "               '2012-09-13', '2012-09-14', '2012-09-15', '2012-09-16',\n",
       "               '2012-09-17', '2012-09-18', '2012-09-19', '2012-09-20',\n",
       "               '2012-09-21', '2012-09-22', '2012-09-23', '2012-09-24',\n",
       "               '2012-09-25', '2012-09-26', '2012-09-27', '2012-09-28',\n",
       "               '2012-09-29', '2012-09-30', '2012-10-01', '2012-10-02',\n",
       "               '2012-10-03'],\n",
       "              dtype='datetime64[ns]', freq='D')"
      ]
     },
     "execution_count": 163,
     "metadata": {},
     "output_type": "execute_result"
    }
   ],
   "source": [
    "pd.date_range(start=\"2012-09-09\", freq=\"D\", periods=25)\n"
   ]
  },
  {
   "cell_type": "code",
   "execution_count": 164,
   "metadata": {},
   "outputs": [
    {
     "data": {
      "text/plain": [
       "DatetimeIndex(['2012-09-09', '2012-09-12', '2012-09-15', '2012-09-18',\n",
       "               '2012-09-21', '2012-09-24', '2012-09-27', '2012-09-30',\n",
       "               '2012-10-03', '2012-10-06', '2012-10-09', '2012-10-12',\n",
       "               '2012-10-15', '2012-10-18', '2012-10-21', '2012-10-24',\n",
       "               '2012-10-27', '2012-10-30', '2012-11-02', '2012-11-05',\n",
       "               '2012-11-08', '2012-11-11', '2012-11-14', '2012-11-17',\n",
       "               '2012-11-20', '2012-11-23', '2012-11-26', '2012-11-29',\n",
       "               '2012-12-02', '2012-12-05', '2012-12-08', '2012-12-11',\n",
       "               '2012-12-14', '2012-12-17', '2012-12-20', '2012-12-23',\n",
       "               '2012-12-26', '2012-12-29', '2013-01-01', '2013-01-04'],\n",
       "              dtype='datetime64[ns]', freq='3D')"
      ]
     },
     "execution_count": 164,
     "metadata": {},
     "output_type": "execute_result"
    }
   ],
   "source": [
    "pd.date_range(start=\"2012-09-09\", freq=\"3D\", periods=40)\n"
   ]
  },
  {
   "cell_type": "code",
   "execution_count": 165,
   "metadata": {},
   "outputs": [
    {
     "data": {
      "text/plain": [
       "DatetimeIndex(['2012-09-10', '2012-09-11', '2012-09-12', '2012-09-13',\n",
       "               '2012-09-14', '2012-09-17', '2012-09-18', '2012-09-19',\n",
       "               '2012-09-20', '2012-09-21',\n",
       "               ...\n",
       "               '2013-05-06', '2013-05-07', '2013-05-08', '2013-05-09',\n",
       "               '2013-05-10', '2013-05-13', '2013-05-14', '2013-05-15',\n",
       "               '2013-05-16', '2013-05-17'],\n",
       "              dtype='datetime64[ns]', length=180, freq='B')"
      ]
     },
     "execution_count": 165,
     "metadata": {},
     "output_type": "execute_result"
    }
   ],
   "source": [
    "pd.date_range(start=\"2012-09-09\", freq=\"B\", periods=180)\n"
   ]
  },
  {
   "cell_type": "code",
   "execution_count": 166,
   "metadata": {},
   "outputs": [
    {
     "data": {
      "text/plain": [
       "DatetimeIndex(['2013-10-12', '2013-10-13', '2013-10-14', '2013-10-15',\n",
       "               '2013-10-16', '2013-10-17', '2013-10-18', '2013-10-19',\n",
       "               '2013-10-20', '2013-10-21', '2013-10-22', '2013-10-23',\n",
       "               '2013-10-24', '2013-10-25', '2013-10-26', '2013-10-27',\n",
       "               '2013-10-28', '2013-10-29', '2013-10-30', '2013-10-31'],\n",
       "              dtype='datetime64[ns]', freq='D')"
      ]
     },
     "execution_count": 166,
     "metadata": {},
     "output_type": "execute_result"
    }
   ],
   "source": [
    "pd.date_range(end=\"2013-10-31\", freq=\"D\", periods=20)\n"
   ]
  },
  {
   "cell_type": "code",
   "execution_count": 167,
   "metadata": {},
   "outputs": [
    {
     "data": {
      "text/plain": [
       "DatetimeIndex(['2016-09-19', '2016-09-20', '2016-09-21', '2016-09-22',\n",
       "               '2016-09-23', '2016-09-26', '2016-09-27', '2016-09-28',\n",
       "               '2016-09-29', '2016-09-30', '2016-10-03', '2016-10-04',\n",
       "               '2016-10-05', '2016-10-06', '2016-10-07', '2016-10-10',\n",
       "               '2016-10-11', '2016-10-12', '2016-10-13', '2016-10-14',\n",
       "               '2016-10-17', '2016-10-18', '2016-10-19', '2016-10-20',\n",
       "               '2016-10-21', '2016-10-24', '2016-10-25', '2016-10-26',\n",
       "               '2016-10-27', '2016-10-28', '2016-10-31', '2016-11-01',\n",
       "               '2016-11-02', '2016-11-03', '2016-11-04', '2016-11-07',\n",
       "               '2016-11-08', '2016-11-09', '2016-11-10', '2016-11-11',\n",
       "               '2016-11-14', '2016-11-15', '2016-11-16', '2016-11-17',\n",
       "               '2016-11-18', '2016-11-21', '2016-11-22', '2016-11-23',\n",
       "               '2016-11-24', '2016-11-25', '2016-11-28', '2016-11-29',\n",
       "               '2016-11-30', '2016-12-01', '2016-12-02', '2016-12-05',\n",
       "               '2016-12-06', '2016-12-07', '2016-12-08', '2016-12-09',\n",
       "               '2016-12-12', '2016-12-13', '2016-12-14', '2016-12-15',\n",
       "               '2016-12-16', '2016-12-19', '2016-12-20', '2016-12-21',\n",
       "               '2016-12-22', '2016-12-23', '2016-12-26', '2016-12-27',\n",
       "               '2016-12-28', '2016-12-29', '2016-12-30'],\n",
       "              dtype='datetime64[ns]', freq='B')"
      ]
     },
     "execution_count": 167,
     "metadata": {},
     "output_type": "execute_result"
    }
   ],
   "source": [
    "pd.date_range(end=\"2016-12-31\", freq=\"B\", periods=75)\n"
   ]
  },
  {
   "cell_type": "code",
   "execution_count": 168,
   "metadata": {},
   "outputs": [
    {
     "data": {
      "text/plain": [
       "DatetimeIndex(['1989-11-10', '1989-11-17', '1989-11-24', '1989-12-01',\n",
       "               '1989-12-08', '1989-12-15', '1989-12-22', '1989-12-29',\n",
       "               '1990-01-05', '1990-01-12', '1990-01-19', '1990-01-26',\n",
       "               '1990-02-02', '1990-02-09', '1990-02-16', '1990-02-23',\n",
       "               '1990-03-02', '1990-03-09', '1990-03-16', '1990-03-23',\n",
       "               '1990-03-30', '1990-04-06', '1990-04-13', '1990-04-20',\n",
       "               '1990-04-27', '1990-05-04', '1990-05-11', '1990-05-18',\n",
       "               '1990-05-25', '1990-06-01', '1990-06-08', '1990-06-15',\n",
       "               '1990-06-22', '1990-06-29', '1990-07-06', '1990-07-13',\n",
       "               '1990-07-20', '1990-07-27', '1990-08-03', '1990-08-10',\n",
       "               '1990-08-17', '1990-08-24', '1990-08-31', '1990-09-07',\n",
       "               '1990-09-14', '1990-09-21', '1990-09-28', '1990-10-05',\n",
       "               '1990-10-12', '1990-10-19', '1990-10-26', '1990-11-02',\n",
       "               '1990-11-09', '1990-11-16', '1990-11-23', '1990-11-30',\n",
       "               '1990-12-07', '1990-12-14', '1990-12-21', '1990-12-28',\n",
       "               '1991-01-04', '1991-01-11', '1991-01-18', '1991-01-25',\n",
       "               '1991-02-01', '1991-02-08', '1991-02-15', '1991-02-22',\n",
       "               '1991-03-01', '1991-03-08', '1991-03-15', '1991-03-22',\n",
       "               '1991-03-29', '1991-04-05', '1991-04-12'],\n",
       "              dtype='datetime64[ns]', freq='W-FRI')"
      ]
     },
     "execution_count": 168,
     "metadata": {},
     "output_type": "execute_result"
    }
   ],
   "source": [
    "pd.date_range(end=\"1991-04-12\", freq=\"W-FRI\", periods=75)"
   ]
  },
  {
   "cell_type": "markdown",
   "metadata": {},
   "source": [
    "## El atributo `dt`\n",
    "\n",
    "- El atributo `dt` revela un objeto `DatetimeProperties` con atributos y métodos para trabajar con fechas y horas. Es similar al atributo `str` para métodos de cadenas de texto.\n",
    "- El objeto `DatetimeProperties` tiene atributos como `day`, `month` y `year` para mostrar información sobre cada fecha en la **Series**.\n",
    "- El método `day_name` devuelve el nombmre del día de la semana en texto.\n",
    "- Atributos como `is_month_end` e `is_quarter_start` devuelven una **Series** booleana.\n"
   ]
  },
  {
   "cell_type": "code",
   "execution_count": 169,
   "metadata": {},
   "outputs": [
    {
     "data": {
      "text/plain": [
       "0   2000-01-01 00:00:00\n",
       "1   2000-01-25 03:00:00\n",
       "2   2000-02-18 06:00:00\n",
       "3   2000-03-13 09:00:00\n",
       "4   2000-04-06 12:00:00\n",
       "dtype: datetime64[ns]"
      ]
     },
     "execution_count": 169,
     "metadata": {},
     "output_type": "execute_result"
    }
   ],
   "source": [
    "bunch_of_dates = pd.Series(pd.date_range(start=\"2000-01-01\", end=\"2020-12-31\", freq=\"24D 3h\"))\n",
    "\n",
    "bunch_of_dates.head()"
   ]
  },
  {
   "cell_type": "code",
   "execution_count": 171,
   "metadata": {},
   "outputs": [
    {
     "data": {
      "text/plain": [
       "0       1\n",
       "1      25\n",
       "2      18\n",
       "3      13\n",
       "4       6\n",
       "       ..\n",
       "313     3\n",
       "314    27\n",
       "315    21\n",
       "316    14\n",
       "317     8\n",
       "Length: 318, dtype: int32"
      ]
     },
     "execution_count": 171,
     "metadata": {},
     "output_type": "execute_result"
    }
   ],
   "source": [
    "bunch_of_dates.dt.day\n"
   ]
  },
  {
   "cell_type": "code",
   "execution_count": 172,
   "metadata": {},
   "outputs": [
    {
     "data": {
      "text/plain": [
       "0       1\n",
       "1       1\n",
       "2       2\n",
       "3       3\n",
       "4       4\n",
       "       ..\n",
       "313     9\n",
       "314     9\n",
       "315    10\n",
       "316    11\n",
       "317    12\n",
       "Length: 318, dtype: int32"
      ]
     },
     "execution_count": 172,
     "metadata": {},
     "output_type": "execute_result"
    }
   ],
   "source": [
    "bunch_of_dates.dt.month\n"
   ]
  },
  {
   "cell_type": "code",
   "execution_count": 173,
   "metadata": {},
   "outputs": [
    {
     "data": {
      "text/plain": [
       "0      2000\n",
       "1      2000\n",
       "2      2000\n",
       "3      2000\n",
       "4      2000\n",
       "       ... \n",
       "313    2020\n",
       "314    2020\n",
       "315    2020\n",
       "316    2020\n",
       "317    2020\n",
       "Length: 318, dtype: int32"
      ]
     },
     "execution_count": 173,
     "metadata": {},
     "output_type": "execute_result"
    }
   ],
   "source": [
    "bunch_of_dates.dt.year\n"
   ]
  },
  {
   "cell_type": "code",
   "execution_count": 174,
   "metadata": {},
   "outputs": [
    {
     "data": {
      "text/plain": [
       "0       0\n",
       "1       3\n",
       "2       6\n",
       "3       9\n",
       "4      12\n",
       "       ..\n",
       "313     3\n",
       "314     6\n",
       "315     9\n",
       "316    12\n",
       "317    15\n",
       "Length: 318, dtype: int32"
      ]
     },
     "execution_count": 174,
     "metadata": {},
     "output_type": "execute_result"
    }
   ],
   "source": [
    "bunch_of_dates.dt.hour\n"
   ]
  },
  {
   "cell_type": "code",
   "execution_count": 63,
   "metadata": {},
   "outputs": [
    {
     "data": {
      "text/plain": [
       "0        1\n",
       "1       25\n",
       "2       49\n",
       "3       73\n",
       "4       97\n",
       "      ... \n",
       "313    247\n",
       "314    271\n",
       "315    295\n",
       "316    319\n",
       "317    343\n",
       "Length: 318, dtype: int32"
      ]
     },
     "execution_count": 63,
     "metadata": {},
     "output_type": "execute_result"
    }
   ],
   "source": [
    "bunch_of_dates.dt.day_of_year\n"
   ]
  },
  {
   "cell_type": "code",
   "execution_count": 175,
   "metadata": {},
   "outputs": [
    {
     "data": {
      "text/plain": [
       "0       Saturday\n",
       "1        Tuesday\n",
       "2         Friday\n",
       "3         Monday\n",
       "4       Thursday\n",
       "         ...    \n",
       "313     Thursday\n",
       "314       Sunday\n",
       "315    Wednesday\n",
       "316     Saturday\n",
       "317      Tuesday\n",
       "Length: 318, dtype: object"
      ]
     },
     "execution_count": 175,
     "metadata": {},
     "output_type": "execute_result"
    }
   ],
   "source": [
    "bunch_of_dates.dt.day_name()\n"
   ]
  },
  {
   "cell_type": "code",
   "execution_count": 176,
   "metadata": {},
   "outputs": [
    {
     "data": {
      "text/plain": [
       "0      False\n",
       "1      False\n",
       "2      False\n",
       "3      False\n",
       "4      False\n",
       "       ...  \n",
       "313    False\n",
       "314    False\n",
       "315    False\n",
       "316    False\n",
       "317    False\n",
       "Length: 318, dtype: bool"
      ]
     },
     "execution_count": 176,
     "metadata": {},
     "output_type": "execute_result"
    }
   ],
   "source": [
    "bunch_of_dates.dt.is_month_end\n"
   ]
  },
  {
   "cell_type": "code",
   "execution_count": 66,
   "metadata": {},
   "outputs": [
    {
     "data": {
      "text/plain": [
       "0       True\n",
       "1      False\n",
       "2      False\n",
       "3      False\n",
       "4      False\n",
       "       ...  \n",
       "313    False\n",
       "314    False\n",
       "315    False\n",
       "316    False\n",
       "317    False\n",
       "Length: 318, dtype: bool"
      ]
     },
     "execution_count": 66,
     "metadata": {},
     "output_type": "execute_result"
    }
   ],
   "source": [
    "bunch_of_dates.dt.is_month_start\n"
   ]
  },
  {
   "cell_type": "code",
   "execution_count": 67,
   "metadata": {},
   "outputs": [
    {
     "data": {
      "text/plain": [
       "0     2000-01-01 00:00:00\n",
       "106   2007-01-01 06:00:00\n",
       "212   2014-01-01 12:00:00\n",
       "299   2019-10-01 09:00:00\n",
       "dtype: datetime64[ns]"
      ]
     },
     "execution_count": 67,
     "metadata": {},
     "output_type": "execute_result"
    }
   ],
   "source": [
    "bunch_of_dates[bunch_of_dates.dt.is_quarter_start]"
   ]
  },
  {
   "cell_type": "markdown",
   "metadata": {},
   "source": [
    "## Selección de filas en un DataFrame con un `DateTimeIndex`\n",
    "\n",
    "- El accesor `iloc` está disponible para la extracción basada en la posición del índice.\n",
    "- El accesor `loc` acepta cadenas de texto o **Timestamps** para extraer por etiqueta/valor de índice. Nota: los objetos `datetime` de Python no funcionarán directamente.\n",
    "- Puedes usar el corte de listas (slicing) para extraer una secuencia de fechas. El método `truncate` es otra alternativa.\n"
   ]
  },
  {
   "cell_type": "code",
   "execution_count": 177,
   "metadata": {},
   "outputs": [
    {
     "name": "stdout",
     "output_type": "stream",
     "text": [
      "Requirement already satisfied: yfinance in /Users/vanotole/anaconda3/envs/tsi_ml_env/lib/python3.10/site-packages (0.2.54)\n",
      "Requirement already satisfied: pandas>=1.3.0 in /Users/vanotole/anaconda3/envs/tsi_ml_env/lib/python3.10/site-packages (from yfinance) (2.2.3)\n",
      "Requirement already satisfied: numpy>=1.16.5 in /Users/vanotole/anaconda3/envs/tsi_ml_env/lib/python3.10/site-packages (from yfinance) (2.0.2)\n",
      "Requirement already satisfied: requests>=2.31 in /Users/vanotole/anaconda3/envs/tsi_ml_env/lib/python3.10/site-packages (from yfinance) (2.32.3)\n",
      "Requirement already satisfied: multitasking>=0.0.7 in /Users/vanotole/anaconda3/envs/tsi_ml_env/lib/python3.10/site-packages (from yfinance) (0.0.11)\n",
      "Requirement already satisfied: platformdirs>=2.0.0 in /Users/vanotole/anaconda3/envs/tsi_ml_env/lib/python3.10/site-packages (from yfinance) (4.3.6)\n",
      "Requirement already satisfied: pytz>=2022.5 in /Users/vanotole/anaconda3/envs/tsi_ml_env/lib/python3.10/site-packages (from yfinance) (2024.1)\n",
      "Requirement already satisfied: frozendict>=2.3.4 in /Users/vanotole/anaconda3/envs/tsi_ml_env/lib/python3.10/site-packages (from yfinance) (2.4.6)\n",
      "Requirement already satisfied: peewee>=3.16.2 in /Users/vanotole/anaconda3/envs/tsi_ml_env/lib/python3.10/site-packages (from yfinance) (3.17.9)\n",
      "Requirement already satisfied: beautifulsoup4>=4.11.1 in /Users/vanotole/anaconda3/envs/tsi_ml_env/lib/python3.10/site-packages (from yfinance) (4.12.3)\n",
      "Requirement already satisfied: soupsieve>1.2 in /Users/vanotole/anaconda3/envs/tsi_ml_env/lib/python3.10/site-packages (from beautifulsoup4>=4.11.1->yfinance) (2.5)\n",
      "Requirement already satisfied: python-dateutil>=2.8.2 in /Users/vanotole/anaconda3/envs/tsi_ml_env/lib/python3.10/site-packages (from pandas>=1.3.0->yfinance) (2.9.0.post0)\n",
      "Requirement already satisfied: tzdata>=2022.7 in /Users/vanotole/anaconda3/envs/tsi_ml_env/lib/python3.10/site-packages (from pandas>=1.3.0->yfinance) (2024.2)\n",
      "Requirement already satisfied: charset_normalizer<4,>=2 in /Users/vanotole/anaconda3/envs/tsi_ml_env/lib/python3.10/site-packages (from requests>=2.31->yfinance) (3.4.1)\n",
      "Requirement already satisfied: idna<4,>=2.5 in /Users/vanotole/anaconda3/envs/tsi_ml_env/lib/python3.10/site-packages (from requests>=2.31->yfinance) (3.10)\n",
      "Requirement already satisfied: urllib3<3,>=1.21.1 in /Users/vanotole/anaconda3/envs/tsi_ml_env/lib/python3.10/site-packages (from requests>=2.31->yfinance) (2.3.0)\n",
      "Requirement already satisfied: certifi>=2017.4.17 in /Users/vanotole/anaconda3/envs/tsi_ml_env/lib/python3.10/site-packages (from requests>=2.31->yfinance) (2025.1.31)\n",
      "Requirement already satisfied: six>=1.5 in /Users/vanotole/anaconda3/envs/tsi_ml_env/lib/python3.10/site-packages (from python-dateutil>=2.8.2->pandas>=1.3.0->yfinance) (1.17.0)\n"
     ]
    }
   ],
   "source": [
    "# Instalar un paquete para api de yahoo finance\n",
    "!pip install yfinance"
   ]
  },
  {
   "cell_type": "code",
   "execution_count": 192,
   "metadata": {},
   "outputs": [
    {
     "name": "stderr",
     "output_type": "stream",
     "text": [
      "[*********************100%***********************]  1 of 1 completed"
     ]
    },
    {
     "name": "stdout",
     "output_type": "stream",
     "text": [
      "Price          Close      High       Low      Open   Volume\n",
      "Ticker         NTDOY     NTDOY     NTDOY     NTDOY    NTDOY\n",
      "Date                                                       \n",
      "1996-11-18  1.710279  1.710279  1.639018  1.710279   406500\n",
      "1996-11-19  1.710279  1.710279  1.639018  1.710279   690500\n",
      "1996-11-20  1.722156  1.757787  1.615264  1.722156   280000\n",
      "1996-11-21  1.710279  1.734033  1.627141  1.710279   458500\n",
      "1996-11-22  1.734033  1.757787  1.662772  1.734033  1000500\n"
     ]
    },
    {
     "name": "stderr",
     "output_type": "stream",
     "text": [
      "\n"
     ]
    }
   ],
   "source": [
    "import yfinance as yf\n",
    "\n",
    "# Dynamic ticker symbol\n",
    "ticker = \"NTDOY\"  # You can make this a variable input\n",
    "\n",
    "# Download historical stock data\n",
    "stocks = yf.download(ticker, start=\"1962-01-01\", end=\"2024-12-31\")\n",
    "\n",
    "# Show the first few rows\n",
    "print(stocks.head())"
   ]
  },
  {
   "cell_type": "code",
   "execution_count": 193,
   "metadata": {},
   "outputs": [
    {
     "data": {
      "text/html": [
       "<div>\n",
       "<style scoped>\n",
       "    .dataframe tbody tr th:only-of-type {\n",
       "        vertical-align: middle;\n",
       "    }\n",
       "\n",
       "    .dataframe tbody tr th {\n",
       "        vertical-align: top;\n",
       "    }\n",
       "\n",
       "    .dataframe thead tr th {\n",
       "        text-align: left;\n",
       "    }\n",
       "\n",
       "    .dataframe thead tr:last-of-type th {\n",
       "        text-align: right;\n",
       "    }\n",
       "</style>\n",
       "<table border=\"1\" class=\"dataframe\">\n",
       "  <thead>\n",
       "    <tr>\n",
       "      <th>Price</th>\n",
       "      <th>Close</th>\n",
       "      <th>High</th>\n",
       "      <th>Low</th>\n",
       "      <th>Open</th>\n",
       "      <th>Volume</th>\n",
       "    </tr>\n",
       "    <tr>\n",
       "      <th>Ticker</th>\n",
       "      <th>NTDOY</th>\n",
       "      <th>NTDOY</th>\n",
       "      <th>NTDOY</th>\n",
       "      <th>NTDOY</th>\n",
       "      <th>NTDOY</th>\n",
       "    </tr>\n",
       "    <tr>\n",
       "      <th>Date</th>\n",
       "      <th></th>\n",
       "      <th></th>\n",
       "      <th></th>\n",
       "      <th></th>\n",
       "      <th></th>\n",
       "    </tr>\n",
       "  </thead>\n",
       "  <tbody>\n",
       "    <tr>\n",
       "      <th>1996-11-18</th>\n",
       "      <td>1.710279</td>\n",
       "      <td>1.710279</td>\n",
       "      <td>1.639018</td>\n",
       "      <td>1.710279</td>\n",
       "      <td>406500</td>\n",
       "    </tr>\n",
       "    <tr>\n",
       "      <th>1996-11-19</th>\n",
       "      <td>1.710279</td>\n",
       "      <td>1.710279</td>\n",
       "      <td>1.639018</td>\n",
       "      <td>1.710279</td>\n",
       "      <td>690500</td>\n",
       "    </tr>\n",
       "    <tr>\n",
       "      <th>1996-11-20</th>\n",
       "      <td>1.722156</td>\n",
       "      <td>1.757787</td>\n",
       "      <td>1.615264</td>\n",
       "      <td>1.722156</td>\n",
       "      <td>280000</td>\n",
       "    </tr>\n",
       "    <tr>\n",
       "      <th>1996-11-21</th>\n",
       "      <td>1.710279</td>\n",
       "      <td>1.734033</td>\n",
       "      <td>1.627141</td>\n",
       "      <td>1.710279</td>\n",
       "      <td>458500</td>\n",
       "    </tr>\n",
       "    <tr>\n",
       "      <th>1996-11-22</th>\n",
       "      <td>1.734033</td>\n",
       "      <td>1.757787</td>\n",
       "      <td>1.662772</td>\n",
       "      <td>1.734033</td>\n",
       "      <td>1000500</td>\n",
       "    </tr>\n",
       "    <tr>\n",
       "      <th>...</th>\n",
       "      <td>...</td>\n",
       "      <td>...</td>\n",
       "      <td>...</td>\n",
       "      <td>...</td>\n",
       "      <td>...</td>\n",
       "    </tr>\n",
       "    <tr>\n",
       "      <th>2024-12-23</th>\n",
       "      <td>14.650000</td>\n",
       "      <td>14.800000</td>\n",
       "      <td>14.520000</td>\n",
       "      <td>14.750000</td>\n",
       "      <td>1707600</td>\n",
       "    </tr>\n",
       "    <tr>\n",
       "      <th>2024-12-24</th>\n",
       "      <td>14.650000</td>\n",
       "      <td>14.740000</td>\n",
       "      <td>14.530000</td>\n",
       "      <td>14.540000</td>\n",
       "      <td>366700</td>\n",
       "    </tr>\n",
       "    <tr>\n",
       "      <th>2024-12-26</th>\n",
       "      <td>14.640000</td>\n",
       "      <td>14.780000</td>\n",
       "      <td>14.630000</td>\n",
       "      <td>14.640000</td>\n",
       "      <td>413200</td>\n",
       "    </tr>\n",
       "    <tr>\n",
       "      <th>2024-12-27</th>\n",
       "      <td>14.680000</td>\n",
       "      <td>14.970000</td>\n",
       "      <td>14.660000</td>\n",
       "      <td>14.680000</td>\n",
       "      <td>427100</td>\n",
       "    </tr>\n",
       "    <tr>\n",
       "      <th>2024-12-30</th>\n",
       "      <td>14.620000</td>\n",
       "      <td>14.680000</td>\n",
       "      <td>14.550000</td>\n",
       "      <td>14.650000</td>\n",
       "      <td>421100</td>\n",
       "    </tr>\n",
       "  </tbody>\n",
       "</table>\n",
       "<p>7075 rows × 5 columns</p>\n",
       "</div>"
      ],
      "text/plain": [
       "Price           Close       High        Low       Open   Volume\n",
       "Ticker          NTDOY      NTDOY      NTDOY      NTDOY    NTDOY\n",
       "Date                                                           \n",
       "1996-11-18   1.710279   1.710279   1.639018   1.710279   406500\n",
       "1996-11-19   1.710279   1.710279   1.639018   1.710279   690500\n",
       "1996-11-20   1.722156   1.757787   1.615264   1.722156   280000\n",
       "1996-11-21   1.710279   1.734033   1.627141   1.710279   458500\n",
       "1996-11-22   1.734033   1.757787   1.662772   1.734033  1000500\n",
       "...               ...        ...        ...        ...      ...\n",
       "2024-12-23  14.650000  14.800000  14.520000  14.750000  1707600\n",
       "2024-12-24  14.650000  14.740000  14.530000  14.540000   366700\n",
       "2024-12-26  14.640000  14.780000  14.630000  14.640000   413200\n",
       "2024-12-27  14.680000  14.970000  14.660000  14.680000   427100\n",
       "2024-12-30  14.620000  14.680000  14.550000  14.650000   421100\n",
       "\n",
       "[7075 rows x 5 columns]"
      ]
     },
     "execution_count": 193,
     "metadata": {},
     "output_type": "execute_result"
    }
   ],
   "source": [
    "stocks"
   ]
  },
  {
   "cell_type": "code",
   "execution_count": 194,
   "metadata": {},
   "outputs": [
    {
     "name": "stdout",
     "output_type": "stream",
     "text": [
      "<class 'pandas.core.frame.DataFrame'>\n",
      "DatetimeIndex: 7075 entries, 1996-11-18 to 2024-12-30\n",
      "Data columns (total 5 columns):\n",
      " #   Column           Non-Null Count  Dtype  \n",
      "---  ------           --------------  -----  \n",
      " 0   (Close, NTDOY)   7075 non-null   float64\n",
      " 1   (High, NTDOY)    7075 non-null   float64\n",
      " 2   (Low, NTDOY)     7075 non-null   float64\n",
      " 3   (Open, NTDOY)    7075 non-null   float64\n",
      " 4   (Volume, NTDOY)  7075 non-null   int64  \n",
      "dtypes: float64(4), int64(1)\n",
      "memory usage: 331.6 KB\n"
     ]
    }
   ],
   "source": [
    "stocks.info()"
   ]
  },
  {
   "cell_type": "code",
   "execution_count": 184,
   "metadata": {},
   "outputs": [
    {
     "data": {
      "text/plain": [
       "Price   Ticker\n",
       "Close   NTDOY          2.422896\n",
       "High    NTDOY          2.470403\n",
       "Low     NTDOY          2.375388\n",
       "Open    NTDOY          2.422896\n",
       "Volume  NTDOY     124500.000000\n",
       "Name: 1998-01-28 00:00:00, dtype: float64"
      ]
     },
     "execution_count": 184,
     "metadata": {},
     "output_type": "execute_result"
    }
   ],
   "source": [
    "stocks.iloc[300]\n"
   ]
  },
  {
   "cell_type": "code",
   "execution_count": 185,
   "metadata": {},
   "outputs": [
    {
     "data": {
      "text/plain": [
       "Price   Ticker\n",
       "Close   NTDOY          3.112\n",
       "High    NTDOY          3.126\n",
       "Low     NTDOY          3.096\n",
       "Open    NTDOY          3.104\n",
       "Volume  NTDOY     891000.000\n",
       "Name: 2014-03-04 00:00:00, dtype: float64"
      ]
     },
     "execution_count": 185,
     "metadata": {},
     "output_type": "execute_result"
    }
   ],
   "source": [
    "stocks.loc[\"2014-03-04\"]\n"
   ]
  },
  {
   "cell_type": "code",
   "execution_count": 186,
   "metadata": {},
   "outputs": [
    {
     "data": {
      "text/plain": [
       "Price   Ticker\n",
       "Close   NTDOY          3.112\n",
       "High    NTDOY          3.126\n",
       "Low     NTDOY          3.096\n",
       "Open    NTDOY          3.104\n",
       "Volume  NTDOY     891000.000\n",
       "Name: 2014-03-04 00:00:00, dtype: float64"
      ]
     },
     "execution_count": 186,
     "metadata": {},
     "output_type": "execute_result"
    }
   ],
   "source": [
    "stocks.loc[pd.Timestamp(2014, 3, 4)]\n"
   ]
  },
  {
   "cell_type": "code",
   "execution_count": 195,
   "metadata": {},
   "outputs": [],
   "source": [
    "import matplotlib.pyplot as plt\n",
    "import seaborn as sns"
   ]
  },
  {
   "cell_type": "code",
   "execution_count": 190,
   "metadata": {},
   "outputs": [
    {
     "data": {
      "image/png": "[encoded data removed]",
      "text/plain": [
       "<Figure size 640x480 with 1 Axes>"
      ]
     },
     "metadata": {},
     "output_type": "display_data"
    }
   ],
   "source": [
    "plt.plot(stocks.index, stocks[\"High\"])\n",
    "plt.show()"
   ]
  },
  {
   "cell_type": "code",
   "execution_count": 204,
   "metadata": {},
   "outputs": [
    {
     "data": {
      "text/plain": [
       "<Axes: xlabel='Date', ylabel=\"('High', 'NTDOY')\">"
      ]
     },
     "execution_count": 204,
     "metadata": {},
     "output_type": "execute_result"
    },
    {
     "data": {
      "image/png": "[encoded data removed]",
      "text/plain": [
       "<Figure size 640x480 with 1 Axes>"
      ]
     },
     "metadata": {},
     "output_type": "display_data"
    }
   ],
   "source": [
    "sns.lineplot(data=stocks, x=stocks.index, y=('High','NTDOY'))"
   ]
  },
  {
   "cell_type": "code",
   "execution_count": 224,
   "metadata": {},
   "outputs": [
    {
     "data": {
      "image/png": "[encoded data removed]",
      "text/plain": [
       "<Figure size 2000x500 with 1 Axes>"
      ]
     },
     "metadata": {},
     "output_type": "display_data"
    }
   ],
   "source": [
    "fig = plt.figure(figsize=(20,5))\n",
    "\n",
    "ax = fig.add_subplot(1,1,1)\n",
    "\n",
    "# Agregarle plots\n",
    "ax.plot(stocks.index, stocks[\"High\"], color='black', linestyle='-')\n",
    "ax.plot(stocks.index, stocks[\"Volume\"]/5000000, color='red', linestyle='-')\n",
    "\n",
    "ax.set_xlabel('Fecha')\n",
    "ax.set_ylabel('High [USD]')\n",
    "\n",
    "plt.show()"
   ]
  },
  {
   "cell_type": "code",
   "execution_count": 225,
   "metadata": {},
   "outputs": [
    {
     "data": {
      "text/html": [
       "<div>\n",
       "<style scoped>\n",
       "    .dataframe tbody tr th:only-of-type {\n",
       "        vertical-align: middle;\n",
       "    }\n",
       "\n",
       "    .dataframe tbody tr th {\n",
       "        vertical-align: top;\n",
       "    }\n",
       "\n",
       "    .dataframe thead tr th {\n",
       "        text-align: left;\n",
       "    }\n",
       "\n",
       "    .dataframe thead tr:last-of-type th {\n",
       "        text-align: right;\n",
       "    }\n",
       "</style>\n",
       "<table border=\"1\" class=\"dataframe\">\n",
       "  <thead>\n",
       "    <tr>\n",
       "      <th>Price</th>\n",
       "      <th>Close</th>\n",
       "      <th>High</th>\n",
       "      <th>Low</th>\n",
       "      <th>Open</th>\n",
       "      <th>Volume</th>\n",
       "    </tr>\n",
       "    <tr>\n",
       "      <th>Ticker</th>\n",
       "      <th>NTDOY</th>\n",
       "      <th>NTDOY</th>\n",
       "      <th>NTDOY</th>\n",
       "      <th>NTDOY</th>\n",
       "      <th>NTDOY</th>\n",
       "    </tr>\n",
       "    <tr>\n",
       "      <th>Date</th>\n",
       "      <th></th>\n",
       "      <th></th>\n",
       "      <th></th>\n",
       "      <th></th>\n",
       "      <th></th>\n",
       "    </tr>\n",
       "  </thead>\n",
       "  <tbody>\n",
       "    <tr>\n",
       "      <th>2014-03-04</th>\n",
       "      <td>3.112</td>\n",
       "      <td>3.126</td>\n",
       "      <td>3.096</td>\n",
       "      <td>3.104</td>\n",
       "      <td>891000</td>\n",
       "    </tr>\n",
       "    <tr>\n",
       "      <th>2014-03-05</th>\n",
       "      <td>3.056</td>\n",
       "      <td>3.090</td>\n",
       "      <td>3.056</td>\n",
       "      <td>3.090</td>\n",
       "      <td>39500</td>\n",
       "    </tr>\n",
       "    <tr>\n",
       "      <th>2014-03-06</th>\n",
       "      <td>3.060</td>\n",
       "      <td>3.090</td>\n",
       "      <td>3.060</td>\n",
       "      <td>3.082</td>\n",
       "      <td>756500</td>\n",
       "    </tr>\n",
       "    <tr>\n",
       "      <th>2014-03-07</th>\n",
       "      <td>3.046</td>\n",
       "      <td>3.052</td>\n",
       "      <td>3.046</td>\n",
       "      <td>3.046</td>\n",
       "      <td>101500</td>\n",
       "    </tr>\n",
       "    <tr>\n",
       "      <th>2014-03-10</th>\n",
       "      <td>2.974</td>\n",
       "      <td>3.010</td>\n",
       "      <td>2.970</td>\n",
       "      <td>3.010</td>\n",
       "      <td>856000</td>\n",
       "    </tr>\n",
       "    <tr>\n",
       "      <th>...</th>\n",
       "      <td>...</td>\n",
       "      <td>...</td>\n",
       "      <td>...</td>\n",
       "      <td>...</td>\n",
       "      <td>...</td>\n",
       "    </tr>\n",
       "    <tr>\n",
       "      <th>2014-12-24</th>\n",
       "      <td>2.662</td>\n",
       "      <td>2.670</td>\n",
       "      <td>2.650</td>\n",
       "      <td>2.670</td>\n",
       "      <td>37000</td>\n",
       "    </tr>\n",
       "    <tr>\n",
       "      <th>2014-12-26</th>\n",
       "      <td>2.666</td>\n",
       "      <td>2.680</td>\n",
       "      <td>2.652</td>\n",
       "      <td>2.652</td>\n",
       "      <td>136500</td>\n",
       "    </tr>\n",
       "    <tr>\n",
       "      <th>2014-12-29</th>\n",
       "      <td>2.618</td>\n",
       "      <td>2.630</td>\n",
       "      <td>2.594</td>\n",
       "      <td>2.610</td>\n",
       "      <td>475500</td>\n",
       "    </tr>\n",
       "    <tr>\n",
       "      <th>2014-12-30</th>\n",
       "      <td>2.602</td>\n",
       "      <td>2.636</td>\n",
       "      <td>2.596</td>\n",
       "      <td>2.636</td>\n",
       "      <td>570500</td>\n",
       "    </tr>\n",
       "    <tr>\n",
       "      <th>2014-12-31</th>\n",
       "      <td>2.590</td>\n",
       "      <td>2.608</td>\n",
       "      <td>2.590</td>\n",
       "      <td>2.592</td>\n",
       "      <td>411500</td>\n",
       "    </tr>\n",
       "  </tbody>\n",
       "</table>\n",
       "<p>211 rows × 5 columns</p>\n",
       "</div>"
      ],
      "text/plain": [
       "Price       Close   High    Low   Open  Volume\n",
       "Ticker      NTDOY  NTDOY  NTDOY  NTDOY   NTDOY\n",
       "Date                                          \n",
       "2014-03-04  3.112  3.126  3.096  3.104  891000\n",
       "2014-03-05  3.056  3.090  3.056  3.090   39500\n",
       "2014-03-06  3.060  3.090  3.060  3.082  756500\n",
       "2014-03-07  3.046  3.052  3.046  3.046  101500\n",
       "2014-03-10  2.974  3.010  2.970  3.010  856000\n",
       "...           ...    ...    ...    ...     ...\n",
       "2014-12-24  2.662  2.670  2.650  2.670   37000\n",
       "2014-12-26  2.666  2.680  2.652  2.652  136500\n",
       "2014-12-29  2.618  2.630  2.594  2.610  475500\n",
       "2014-12-30  2.602  2.636  2.596  2.636  570500\n",
       "2014-12-31  2.590  2.608  2.590  2.592  411500\n",
       "\n",
       "[211 rows x 5 columns]"
      ]
     },
     "execution_count": 225,
     "metadata": {},
     "output_type": "execute_result"
    }
   ],
   "source": [
    "stocks.loc[\"2014-03-04\":\"2014-12-31\"]\n"
   ]
  },
  {
   "cell_type": "code",
   "execution_count": 226,
   "metadata": {},
   "outputs": [
    {
     "data": {
      "text/html": [
       "<div>\n",
       "<style scoped>\n",
       "    .dataframe tbody tr th:only-of-type {\n",
       "        vertical-align: middle;\n",
       "    }\n",
       "\n",
       "    .dataframe tbody tr th {\n",
       "        vertical-align: top;\n",
       "    }\n",
       "\n",
       "    .dataframe thead tr th {\n",
       "        text-align: left;\n",
       "    }\n",
       "\n",
       "    .dataframe thead tr:last-of-type th {\n",
       "        text-align: right;\n",
       "    }\n",
       "</style>\n",
       "<table border=\"1\" class=\"dataframe\">\n",
       "  <thead>\n",
       "    <tr>\n",
       "      <th>Price</th>\n",
       "      <th>Close</th>\n",
       "      <th>High</th>\n",
       "      <th>Low</th>\n",
       "      <th>Open</th>\n",
       "      <th>Volume</th>\n",
       "    </tr>\n",
       "    <tr>\n",
       "      <th>Ticker</th>\n",
       "      <th>NTDOY</th>\n",
       "      <th>NTDOY</th>\n",
       "      <th>NTDOY</th>\n",
       "      <th>NTDOY</th>\n",
       "      <th>NTDOY</th>\n",
       "    </tr>\n",
       "    <tr>\n",
       "      <th>Date</th>\n",
       "      <th></th>\n",
       "      <th></th>\n",
       "      <th></th>\n",
       "      <th></th>\n",
       "      <th></th>\n",
       "    </tr>\n",
       "  </thead>\n",
       "  <tbody>\n",
       "    <tr>\n",
       "      <th>2014-03-04</th>\n",
       "      <td>3.112</td>\n",
       "      <td>3.126</td>\n",
       "      <td>3.096</td>\n",
       "      <td>3.104</td>\n",
       "      <td>891000</td>\n",
       "    </tr>\n",
       "    <tr>\n",
       "      <th>2014-03-05</th>\n",
       "      <td>3.056</td>\n",
       "      <td>3.090</td>\n",
       "      <td>3.056</td>\n",
       "      <td>3.090</td>\n",
       "      <td>39500</td>\n",
       "    </tr>\n",
       "    <tr>\n",
       "      <th>2014-03-06</th>\n",
       "      <td>3.060</td>\n",
       "      <td>3.090</td>\n",
       "      <td>3.060</td>\n",
       "      <td>3.082</td>\n",
       "      <td>756500</td>\n",
       "    </tr>\n",
       "    <tr>\n",
       "      <th>2014-03-07</th>\n",
       "      <td>3.046</td>\n",
       "      <td>3.052</td>\n",
       "      <td>3.046</td>\n",
       "      <td>3.046</td>\n",
       "      <td>101500</td>\n",
       "    </tr>\n",
       "    <tr>\n",
       "      <th>2014-03-10</th>\n",
       "      <td>2.974</td>\n",
       "      <td>3.010</td>\n",
       "      <td>2.970</td>\n",
       "      <td>3.010</td>\n",
       "      <td>856000</td>\n",
       "    </tr>\n",
       "    <tr>\n",
       "      <th>...</th>\n",
       "      <td>...</td>\n",
       "      <td>...</td>\n",
       "      <td>...</td>\n",
       "      <td>...</td>\n",
       "      <td>...</td>\n",
       "    </tr>\n",
       "    <tr>\n",
       "      <th>2014-12-24</th>\n",
       "      <td>2.662</td>\n",
       "      <td>2.670</td>\n",
       "      <td>2.650</td>\n",
       "      <td>2.670</td>\n",
       "      <td>37000</td>\n",
       "    </tr>\n",
       "    <tr>\n",
       "      <th>2014-12-26</th>\n",
       "      <td>2.666</td>\n",
       "      <td>2.680</td>\n",
       "      <td>2.652</td>\n",
       "      <td>2.652</td>\n",
       "      <td>136500</td>\n",
       "    </tr>\n",
       "    <tr>\n",
       "      <th>2014-12-29</th>\n",
       "      <td>2.618</td>\n",
       "      <td>2.630</td>\n",
       "      <td>2.594</td>\n",
       "      <td>2.610</td>\n",
       "      <td>475500</td>\n",
       "    </tr>\n",
       "    <tr>\n",
       "      <th>2014-12-30</th>\n",
       "      <td>2.602</td>\n",
       "      <td>2.636</td>\n",
       "      <td>2.596</td>\n",
       "      <td>2.636</td>\n",
       "      <td>570500</td>\n",
       "    </tr>\n",
       "    <tr>\n",
       "      <th>2014-12-31</th>\n",
       "      <td>2.590</td>\n",
       "      <td>2.608</td>\n",
       "      <td>2.590</td>\n",
       "      <td>2.592</td>\n",
       "      <td>411500</td>\n",
       "    </tr>\n",
       "  </tbody>\n",
       "</table>\n",
       "<p>211 rows × 5 columns</p>\n",
       "</div>"
      ],
      "text/plain": [
       "Price       Close   High    Low   Open  Volume\n",
       "Ticker      NTDOY  NTDOY  NTDOY  NTDOY   NTDOY\n",
       "Date                                          \n",
       "2014-03-04  3.112  3.126  3.096  3.104  891000\n",
       "2014-03-05  3.056  3.090  3.056  3.090   39500\n",
       "2014-03-06  3.060  3.090  3.060  3.082  756500\n",
       "2014-03-07  3.046  3.052  3.046  3.046  101500\n",
       "2014-03-10  2.974  3.010  2.970  3.010  856000\n",
       "...           ...    ...    ...    ...     ...\n",
       "2014-12-24  2.662  2.670  2.650  2.670   37000\n",
       "2014-12-26  2.666  2.680  2.652  2.652  136500\n",
       "2014-12-29  2.618  2.630  2.594  2.610  475500\n",
       "2014-12-30  2.602  2.636  2.596  2.636  570500\n",
       "2014-12-31  2.590  2.608  2.590  2.592  411500\n",
       "\n",
       "[211 rows x 5 columns]"
      ]
     },
     "execution_count": 226,
     "metadata": {},
     "output_type": "execute_result"
    }
   ],
   "source": [
    "stocks.loc[pd.Timestamp(2014, 3, 4):pd.Timestamp(2014, 12, 31)]\n"
   ]
  },
  {
   "cell_type": "code",
   "execution_count": 227,
   "metadata": {},
   "outputs": [
    {
     "data": {
      "text/html": [
       "<div>\n",
       "<style scoped>\n",
       "    .dataframe tbody tr th:only-of-type {\n",
       "        vertical-align: middle;\n",
       "    }\n",
       "\n",
       "    .dataframe tbody tr th {\n",
       "        vertical-align: top;\n",
       "    }\n",
       "\n",
       "    .dataframe thead tr th {\n",
       "        text-align: left;\n",
       "    }\n",
       "\n",
       "    .dataframe thead tr:last-of-type th {\n",
       "        text-align: right;\n",
       "    }\n",
       "</style>\n",
       "<table border=\"1\" class=\"dataframe\">\n",
       "  <thead>\n",
       "    <tr>\n",
       "      <th>Price</th>\n",
       "      <th>Close</th>\n",
       "      <th>High</th>\n",
       "      <th>Low</th>\n",
       "      <th>Open</th>\n",
       "      <th>Volume</th>\n",
       "    </tr>\n",
       "    <tr>\n",
       "      <th>Ticker</th>\n",
       "      <th>NTDOY</th>\n",
       "      <th>NTDOY</th>\n",
       "      <th>NTDOY</th>\n",
       "      <th>NTDOY</th>\n",
       "      <th>NTDOY</th>\n",
       "    </tr>\n",
       "    <tr>\n",
       "      <th>Date</th>\n",
       "      <th></th>\n",
       "      <th></th>\n",
       "      <th></th>\n",
       "      <th></th>\n",
       "      <th></th>\n",
       "    </tr>\n",
       "  </thead>\n",
       "  <tbody>\n",
       "    <tr>\n",
       "      <th>2014-03-04</th>\n",
       "      <td>3.112</td>\n",
       "      <td>3.126</td>\n",
       "      <td>3.096</td>\n",
       "      <td>3.104</td>\n",
       "      <td>891000</td>\n",
       "    </tr>\n",
       "    <tr>\n",
       "      <th>2014-03-05</th>\n",
       "      <td>3.056</td>\n",
       "      <td>3.090</td>\n",
       "      <td>3.056</td>\n",
       "      <td>3.090</td>\n",
       "      <td>39500</td>\n",
       "    </tr>\n",
       "    <tr>\n",
       "      <th>2014-03-06</th>\n",
       "      <td>3.060</td>\n",
       "      <td>3.090</td>\n",
       "      <td>3.060</td>\n",
       "      <td>3.082</td>\n",
       "      <td>756500</td>\n",
       "    </tr>\n",
       "    <tr>\n",
       "      <th>2014-03-07</th>\n",
       "      <td>3.046</td>\n",
       "      <td>3.052</td>\n",
       "      <td>3.046</td>\n",
       "      <td>3.046</td>\n",
       "      <td>101500</td>\n",
       "    </tr>\n",
       "    <tr>\n",
       "      <th>2014-03-10</th>\n",
       "      <td>2.974</td>\n",
       "      <td>3.010</td>\n",
       "      <td>2.970</td>\n",
       "      <td>3.010</td>\n",
       "      <td>856000</td>\n",
       "    </tr>\n",
       "    <tr>\n",
       "      <th>...</th>\n",
       "      <td>...</td>\n",
       "      <td>...</td>\n",
       "      <td>...</td>\n",
       "      <td>...</td>\n",
       "      <td>...</td>\n",
       "    </tr>\n",
       "    <tr>\n",
       "      <th>2014-12-24</th>\n",
       "      <td>2.662</td>\n",
       "      <td>2.670</td>\n",
       "      <td>2.650</td>\n",
       "      <td>2.670</td>\n",
       "      <td>37000</td>\n",
       "    </tr>\n",
       "    <tr>\n",
       "      <th>2014-12-26</th>\n",
       "      <td>2.666</td>\n",
       "      <td>2.680</td>\n",
       "      <td>2.652</td>\n",
       "      <td>2.652</td>\n",
       "      <td>136500</td>\n",
       "    </tr>\n",
       "    <tr>\n",
       "      <th>2014-12-29</th>\n",
       "      <td>2.618</td>\n",
       "      <td>2.630</td>\n",
       "      <td>2.594</td>\n",
       "      <td>2.610</td>\n",
       "      <td>475500</td>\n",
       "    </tr>\n",
       "    <tr>\n",
       "      <th>2014-12-30</th>\n",
       "      <td>2.602</td>\n",
       "      <td>2.636</td>\n",
       "      <td>2.596</td>\n",
       "      <td>2.636</td>\n",
       "      <td>570500</td>\n",
       "    </tr>\n",
       "    <tr>\n",
       "      <th>2014-12-31</th>\n",
       "      <td>2.590</td>\n",
       "      <td>2.608</td>\n",
       "      <td>2.590</td>\n",
       "      <td>2.592</td>\n",
       "      <td>411500</td>\n",
       "    </tr>\n",
       "  </tbody>\n",
       "</table>\n",
       "<p>211 rows × 5 columns</p>\n",
       "</div>"
      ],
      "text/plain": [
       "Price       Close   High    Low   Open  Volume\n",
       "Ticker      NTDOY  NTDOY  NTDOY  NTDOY   NTDOY\n",
       "Date                                          \n",
       "2014-03-04  3.112  3.126  3.096  3.104  891000\n",
       "2014-03-05  3.056  3.090  3.056  3.090   39500\n",
       "2014-03-06  3.060  3.090  3.060  3.082  756500\n",
       "2014-03-07  3.046  3.052  3.046  3.046  101500\n",
       "2014-03-10  2.974  3.010  2.970  3.010  856000\n",
       "...           ...    ...    ...    ...     ...\n",
       "2014-12-24  2.662  2.670  2.650  2.670   37000\n",
       "2014-12-26  2.666  2.680  2.652  2.652  136500\n",
       "2014-12-29  2.618  2.630  2.594  2.610  475500\n",
       "2014-12-30  2.602  2.636  2.596  2.636  570500\n",
       "2014-12-31  2.590  2.608  2.590  2.592  411500\n",
       "\n",
       "[211 rows x 5 columns]"
      ]
     },
     "execution_count": 227,
     "metadata": {},
     "output_type": "execute_result"
    }
   ],
   "source": [
    "stocks.truncate(\"2014-03-04\", \"2014-12-31\")\n"
   ]
  },
  {
   "cell_type": "code",
   "execution_count": 231,
   "metadata": {},
   "outputs": [
    {
     "data": {
      "text/plain": [
       "np.float64(3.111999988555908)"
      ]
     },
     "execution_count": 231,
     "metadata": {},
     "output_type": "execute_result"
    }
   ],
   "source": [
    "stocks.loc[\"2014-03-04\", (\"Close\",\"NTDOY\")] # El dataframe tiene elementos multiindex en las columnas\n"
   ]
  },
  {
   "cell_type": "code",
   "execution_count": 232,
   "metadata": {},
   "outputs": [
    {
     "data": {
      "text/plain": [
       "Series([], Name: 2014-03-04 00:00:00, dtype: float64)"
      ]
     },
     "execution_count": 232,
     "metadata": {},
     "output_type": "execute_result"
    }
   ],
   "source": [
    "stocks.loc[\"2014-03-04\", (\"High\",\"NTDOY\"):(\"Close\",\"NTDOY\")]\n"
   ]
  },
  {
   "cell_type": "code",
   "execution_count": 233,
   "metadata": {},
   "outputs": [
    {
     "data": {
      "text/html": [
       "<div>\n",
       "<style scoped>\n",
       "    .dataframe tbody tr th:only-of-type {\n",
       "        vertical-align: middle;\n",
       "    }\n",
       "\n",
       "    .dataframe tbody tr th {\n",
       "        vertical-align: top;\n",
       "    }\n",
       "\n",
       "    .dataframe thead tr th {\n",
       "        text-align: left;\n",
       "    }\n",
       "\n",
       "    .dataframe thead tr:last-of-type th {\n",
       "        text-align: right;\n",
       "    }\n",
       "</style>\n",
       "<table border=\"1\" class=\"dataframe\">\n",
       "  <thead>\n",
       "    <tr>\n",
       "      <th>Date</th>\n",
       "    </tr>\n",
       "  </thead>\n",
       "  <tbody>\n",
       "    <tr>\n",
       "      <th>2014-03-04</th>\n",
       "    </tr>\n",
       "    <tr>\n",
       "      <th>2014-03-05</th>\n",
       "    </tr>\n",
       "    <tr>\n",
       "      <th>2014-03-06</th>\n",
       "    </tr>\n",
       "    <tr>\n",
       "      <th>2014-03-07</th>\n",
       "    </tr>\n",
       "    <tr>\n",
       "      <th>2014-03-10</th>\n",
       "    </tr>\n",
       "    <tr>\n",
       "      <th>...</th>\n",
       "    </tr>\n",
       "    <tr>\n",
       "      <th>2014-12-24</th>\n",
       "    </tr>\n",
       "    <tr>\n",
       "      <th>2014-12-26</th>\n",
       "    </tr>\n",
       "    <tr>\n",
       "      <th>2014-12-29</th>\n",
       "    </tr>\n",
       "    <tr>\n",
       "      <th>2014-12-30</th>\n",
       "    </tr>\n",
       "    <tr>\n",
       "      <th>2014-12-31</th>\n",
       "    </tr>\n",
       "  </tbody>\n",
       "</table>\n",
       "<p>211 rows × 0 columns</p>\n",
       "</div>"
      ],
      "text/plain": [
       "Empty DataFrame\n",
       "Columns: []\n",
       "Index: [2014-03-04 00:00:00, 2014-03-05 00:00:00, 2014-03-06 00:00:00, 2014-03-07 00:00:00, 2014-03-10 00:00:00, 2014-03-11 00:00:00, 2014-03-12 00:00:00, 2014-03-13 00:00:00, 2014-03-14 00:00:00, 2014-03-17 00:00:00, 2014-03-18 00:00:00, 2014-03-19 00:00:00, 2014-03-20 00:00:00, 2014-03-21 00:00:00, 2014-03-24 00:00:00, 2014-03-25 00:00:00, 2014-03-26 00:00:00, 2014-03-27 00:00:00, 2014-03-28 00:00:00, 2014-03-31 00:00:00, 2014-04-01 00:00:00, 2014-04-02 00:00:00, 2014-04-03 00:00:00, 2014-04-04 00:00:00, 2014-04-07 00:00:00, 2014-04-08 00:00:00, 2014-04-09 00:00:00, 2014-04-10 00:00:00, 2014-04-11 00:00:00, 2014-04-14 00:00:00, 2014-04-15 00:00:00, 2014-04-16 00:00:00, 2014-04-17 00:00:00, 2014-04-21 00:00:00, 2014-04-22 00:00:00, 2014-04-23 00:00:00, 2014-04-24 00:00:00, 2014-04-25 00:00:00, 2014-04-28 00:00:00, 2014-04-29 00:00:00, 2014-04-30 00:00:00, 2014-05-01 00:00:00, 2014-05-02 00:00:00, 2014-05-05 00:00:00, 2014-05-06 00:00:00, 2014-05-07 00:00:00, 2014-05-08 00:00:00, 2014-05-09 00:00:00, 2014-05-12 00:00:00, 2014-05-13 00:00:00, 2014-05-14 00:00:00, 2014-05-15 00:00:00, 2014-05-16 00:00:00, 2014-05-19 00:00:00, 2014-05-20 00:00:00, 2014-05-21 00:00:00, 2014-05-22 00:00:00, 2014-05-23 00:00:00, 2014-05-27 00:00:00, 2014-05-28 00:00:00, 2014-05-29 00:00:00, 2014-05-30 00:00:00, 2014-06-02 00:00:00, 2014-06-03 00:00:00, 2014-06-04 00:00:00, 2014-06-05 00:00:00, 2014-06-06 00:00:00, 2014-06-09 00:00:00, 2014-06-10 00:00:00, 2014-06-11 00:00:00, 2014-06-12 00:00:00, 2014-06-13 00:00:00, 2014-06-16 00:00:00, 2014-06-17 00:00:00, 2014-06-18 00:00:00, 2014-06-19 00:00:00, 2014-06-20 00:00:00, 2014-06-23 00:00:00, 2014-06-24 00:00:00, 2014-06-25 00:00:00, 2014-06-26 00:00:00, 2014-06-27 00:00:00, 2014-06-30 00:00:00, 2014-07-01 00:00:00, 2014-07-02 00:00:00, 2014-07-03 00:00:00, 2014-07-07 00:00:00, 2014-07-08 00:00:00, 2014-07-09 00:00:00, 2014-07-10 00:00:00, 2014-07-11 00:00:00, 2014-07-14 00:00:00, 2014-07-15 00:00:00, 2014-07-16 00:00:00, 2014-07-17 00:00:00, 2014-07-18 00:00:00, 2014-07-21 00:00:00, 2014-07-22 00:00:00, 2014-07-23 00:00:00, 2014-07-24 00:00:00, ...]\n",
       "\n",
       "[211 rows x 0 columns]"
      ]
     },
     "execution_count": 233,
     "metadata": {},
     "output_type": "execute_result"
    }
   ],
   "source": [
    "stocks.loc[pd.Timestamp(2014, 3, 4):pd.Timestamp(2014, 12, 31), (\"High\",\"NTDOY\"):(\"Close\",\"NTDOY\")]"
   ]
  },
  {
   "cell_type": "code",
   "execution_count": 234,
   "metadata": {},
   "outputs": [
    {
     "name": "stderr",
     "output_type": "stream",
     "text": [
      "[*********************100%***********************]  1 of 1 completed"
     ]
    },
    {
     "name": "stdout",
     "output_type": "stream",
     "text": [
      "Price          Close      High       Low      Open   Volume\n",
      "Date                                                       \n",
      "1996-11-18  1.710279  1.710279  1.639018  1.710279   406500\n",
      "1996-11-19  1.710279  1.710279  1.639018  1.710279   690500\n",
      "1996-11-20  1.722156  1.757787  1.615264  1.722156   280000\n",
      "1996-11-21  1.710279  1.734033  1.627141  1.710279   458500\n",
      "1996-11-22  1.734033  1.757787  1.662772  1.734033  1000500\n"
     ]
    },
    {
     "name": "stderr",
     "output_type": "stream",
     "text": [
      "\n"
     ]
    }
   ],
   "source": [
    "import yfinance as yf\n",
    "\n",
    "# Dynamic ticker symbol\n",
    "ticker = \"NTDOY\"  # You can make this a variable input\n",
    "\n",
    "# Download historical stock data\n",
    "stocks = yf.download(ticker, start=\"1962-01-01\", end=\"2024-12-31\")\n",
    "stocks.columns = stocks.columns.droplevel(1)\n",
    "\n",
    "# Show the first few rows\n",
    "print(stocks.head())"
   ]
  },
  {
   "cell_type": "code",
   "execution_count": 235,
   "metadata": {},
   "outputs": [
    {
     "data": {
      "text/html": [
       "<div>\n",
       "<style scoped>\n",
       "    .dataframe tbody tr th:only-of-type {\n",
       "        vertical-align: middle;\n",
       "    }\n",
       "\n",
       "    .dataframe tbody tr th {\n",
       "        vertical-align: top;\n",
       "    }\n",
       "\n",
       "    .dataframe thead th {\n",
       "        text-align: right;\n",
       "    }\n",
       "</style>\n",
       "<table border=\"1\" class=\"dataframe\">\n",
       "  <thead>\n",
       "    <tr style=\"text-align: right;\">\n",
       "      <th>Price</th>\n",
       "      <th>Close</th>\n",
       "      <th>High</th>\n",
       "      <th>Low</th>\n",
       "      <th>Open</th>\n",
       "      <th>Volume</th>\n",
       "    </tr>\n",
       "    <tr>\n",
       "      <th>Date</th>\n",
       "      <th></th>\n",
       "      <th></th>\n",
       "      <th></th>\n",
       "      <th></th>\n",
       "      <th></th>\n",
       "    </tr>\n",
       "  </thead>\n",
       "  <tbody>\n",
       "    <tr>\n",
       "      <th>1996-11-18</th>\n",
       "      <td>1.710279</td>\n",
       "      <td>1.710279</td>\n",
       "      <td>1.639018</td>\n",
       "      <td>1.710279</td>\n",
       "      <td>406500</td>\n",
       "    </tr>\n",
       "    <tr>\n",
       "      <th>1996-11-19</th>\n",
       "      <td>1.710279</td>\n",
       "      <td>1.710279</td>\n",
       "      <td>1.639018</td>\n",
       "      <td>1.710279</td>\n",
       "      <td>690500</td>\n",
       "    </tr>\n",
       "    <tr>\n",
       "      <th>1996-11-20</th>\n",
       "      <td>1.722156</td>\n",
       "      <td>1.757787</td>\n",
       "      <td>1.615264</td>\n",
       "      <td>1.722156</td>\n",
       "      <td>280000</td>\n",
       "    </tr>\n",
       "    <tr>\n",
       "      <th>1996-11-21</th>\n",
       "      <td>1.710279</td>\n",
       "      <td>1.734033</td>\n",
       "      <td>1.627141</td>\n",
       "      <td>1.710279</td>\n",
       "      <td>458500</td>\n",
       "    </tr>\n",
       "    <tr>\n",
       "      <th>1996-11-22</th>\n",
       "      <td>1.734033</td>\n",
       "      <td>1.757787</td>\n",
       "      <td>1.662772</td>\n",
       "      <td>1.734033</td>\n",
       "      <td>1000500</td>\n",
       "    </tr>\n",
       "    <tr>\n",
       "      <th>...</th>\n",
       "      <td>...</td>\n",
       "      <td>...</td>\n",
       "      <td>...</td>\n",
       "      <td>...</td>\n",
       "      <td>...</td>\n",
       "    </tr>\n",
       "    <tr>\n",
       "      <th>2024-12-23</th>\n",
       "      <td>14.650000</td>\n",
       "      <td>14.800000</td>\n",
       "      <td>14.520000</td>\n",
       "      <td>14.750000</td>\n",
       "      <td>1707600</td>\n",
       "    </tr>\n",
       "    <tr>\n",
       "      <th>2024-12-24</th>\n",
       "      <td>14.650000</td>\n",
       "      <td>14.740000</td>\n",
       "      <td>14.530000</td>\n",
       "      <td>14.540000</td>\n",
       "      <td>366700</td>\n",
       "    </tr>\n",
       "    <tr>\n",
       "      <th>2024-12-26</th>\n",
       "      <td>14.640000</td>\n",
       "      <td>14.780000</td>\n",
       "      <td>14.630000</td>\n",
       "      <td>14.640000</td>\n",
       "      <td>413200</td>\n",
       "    </tr>\n",
       "    <tr>\n",
       "      <th>2024-12-27</th>\n",
       "      <td>14.680000</td>\n",
       "      <td>14.970000</td>\n",
       "      <td>14.660000</td>\n",
       "      <td>14.680000</td>\n",
       "      <td>427100</td>\n",
       "    </tr>\n",
       "    <tr>\n",
       "      <th>2024-12-30</th>\n",
       "      <td>14.620000</td>\n",
       "      <td>14.680000</td>\n",
       "      <td>14.550000</td>\n",
       "      <td>14.650000</td>\n",
       "      <td>421100</td>\n",
       "    </tr>\n",
       "  </tbody>\n",
       "</table>\n",
       "<p>7075 rows × 5 columns</p>\n",
       "</div>"
      ],
      "text/plain": [
       "Price           Close       High        Low       Open   Volume\n",
       "Date                                                           \n",
       "1996-11-18   1.710279   1.710279   1.639018   1.710279   406500\n",
       "1996-11-19   1.710279   1.710279   1.639018   1.710279   690500\n",
       "1996-11-20   1.722156   1.757787   1.615264   1.722156   280000\n",
       "1996-11-21   1.710279   1.734033   1.627141   1.710279   458500\n",
       "1996-11-22   1.734033   1.757787   1.662772   1.734033  1000500\n",
       "...               ...        ...        ...        ...      ...\n",
       "2024-12-23  14.650000  14.800000  14.520000  14.750000  1707600\n",
       "2024-12-24  14.650000  14.740000  14.530000  14.540000   366700\n",
       "2024-12-26  14.640000  14.780000  14.630000  14.640000   413200\n",
       "2024-12-27  14.680000  14.970000  14.660000  14.680000   427100\n",
       "2024-12-30  14.620000  14.680000  14.550000  14.650000   421100\n",
       "\n",
       "[7075 rows x 5 columns]"
      ]
     },
     "execution_count": 235,
     "metadata": {},
     "output_type": "execute_result"
    }
   ],
   "source": [
    "stocks"
   ]
  },
  {
   "cell_type": "code",
   "execution_count": 236,
   "metadata": {},
   "outputs": [
    {
     "data": {
      "text/plain": [
       "np.float64(3.111999988555908)"
      ]
     },
     "execution_count": 236,
     "metadata": {},
     "output_type": "execute_result"
    }
   ],
   "source": [
    "stocks.loc[\"2014-03-04\", \"Close\"]"
   ]
  },
  {
   "cell_type": "code",
   "execution_count": 237,
   "metadata": {},
   "outputs": [
    {
     "data": {
      "text/plain": [
       "Price\n",
       "Close    3.112\n",
       "High     3.126\n",
       "Name: 2014-03-04 00:00:00, dtype: float64"
      ]
     },
     "execution_count": 237,
     "metadata": {},
     "output_type": "execute_result"
    }
   ],
   "source": [
    "stocks.loc[\"2014-03-04\", \"Close\":\"High\"]"
   ]
  },
  {
   "cell_type": "code",
   "execution_count": 238,
   "metadata": {},
   "outputs": [
    {
     "data": {
      "text/html": [
       "<div>\n",
       "<style scoped>\n",
       "    .dataframe tbody tr th:only-of-type {\n",
       "        vertical-align: middle;\n",
       "    }\n",
       "\n",
       "    .dataframe tbody tr th {\n",
       "        vertical-align: top;\n",
       "    }\n",
       "\n",
       "    .dataframe thead th {\n",
       "        text-align: right;\n",
       "    }\n",
       "</style>\n",
       "<table border=\"1\" class=\"dataframe\">\n",
       "  <thead>\n",
       "    <tr style=\"text-align: right;\">\n",
       "      <th>Price</th>\n",
       "      <th>Close</th>\n",
       "      <th>High</th>\n",
       "    </tr>\n",
       "    <tr>\n",
       "      <th>Date</th>\n",
       "      <th></th>\n",
       "      <th></th>\n",
       "    </tr>\n",
       "  </thead>\n",
       "  <tbody>\n",
       "    <tr>\n",
       "      <th>2014-03-04</th>\n",
       "      <td>3.112</td>\n",
       "      <td>3.126</td>\n",
       "    </tr>\n",
       "    <tr>\n",
       "      <th>2014-03-05</th>\n",
       "      <td>3.056</td>\n",
       "      <td>3.090</td>\n",
       "    </tr>\n",
       "    <tr>\n",
       "      <th>2014-03-06</th>\n",
       "      <td>3.060</td>\n",
       "      <td>3.090</td>\n",
       "    </tr>\n",
       "    <tr>\n",
       "      <th>2014-03-07</th>\n",
       "      <td>3.046</td>\n",
       "      <td>3.052</td>\n",
       "    </tr>\n",
       "    <tr>\n",
       "      <th>2014-03-10</th>\n",
       "      <td>2.974</td>\n",
       "      <td>3.010</td>\n",
       "    </tr>\n",
       "    <tr>\n",
       "      <th>...</th>\n",
       "      <td>...</td>\n",
       "      <td>...</td>\n",
       "    </tr>\n",
       "    <tr>\n",
       "      <th>2014-12-24</th>\n",
       "      <td>2.662</td>\n",
       "      <td>2.670</td>\n",
       "    </tr>\n",
       "    <tr>\n",
       "      <th>2014-12-26</th>\n",
       "      <td>2.666</td>\n",
       "      <td>2.680</td>\n",
       "    </tr>\n",
       "    <tr>\n",
       "      <th>2014-12-29</th>\n",
       "      <td>2.618</td>\n",
       "      <td>2.630</td>\n",
       "    </tr>\n",
       "    <tr>\n",
       "      <th>2014-12-30</th>\n",
       "      <td>2.602</td>\n",
       "      <td>2.636</td>\n",
       "    </tr>\n",
       "    <tr>\n",
       "      <th>2014-12-31</th>\n",
       "      <td>2.590</td>\n",
       "      <td>2.608</td>\n",
       "    </tr>\n",
       "  </tbody>\n",
       "</table>\n",
       "<p>211 rows × 2 columns</p>\n",
       "</div>"
      ],
      "text/plain": [
       "Price       Close   High\n",
       "Date                    \n",
       "2014-03-04  3.112  3.126\n",
       "2014-03-05  3.056  3.090\n",
       "2014-03-06  3.060  3.090\n",
       "2014-03-07  3.046  3.052\n",
       "2014-03-10  2.974  3.010\n",
       "...           ...    ...\n",
       "2014-12-24  2.662  2.670\n",
       "2014-12-26  2.666  2.680\n",
       "2014-12-29  2.618  2.630\n",
       "2014-12-30  2.602  2.636\n",
       "2014-12-31  2.590  2.608\n",
       "\n",
       "[211 rows x 2 columns]"
      ]
     },
     "execution_count": 238,
     "metadata": {},
     "output_type": "execute_result"
    }
   ],
   "source": [
    "stocks.loc[pd.Timestamp(2014, 3, 4):pd.Timestamp(2014, 12, 31), \"Close\":\"High\"]"
   ]
  },
  {
   "cell_type": "markdown",
   "metadata": {},
   "source": [
    "## El objeto `DateOffset`\n",
    "\n",
    "- Un objeto **DateOffset** añade tiempo a un **Timestamp** para obtener un nuevo **Timestamp**.\n",
    "- El constructor de **DateOffset** acepta parámetros como `days`, `weeks`, `months`, `years`, entre otros.\n",
    "- Podemos pasar un objeto **DateOffset** al parámetro `freq` de la función `pd.date_range`.\n"
   ]
  },
  {
   "cell_type": "code",
   "execution_count": 258,
   "metadata": {},
   "outputs": [
    {
     "name": "stderr",
     "output_type": "stream",
     "text": [
      "[*********************100%***********************]  1 of 1 completed"
     ]
    },
    {
     "name": "stdout",
     "output_type": "stream",
     "text": [
      "Price          Close      High       Low      Open   Volume\n",
      "Date                                                       \n",
      "1996-11-18  1.710279  1.710279  1.639018  1.710279   406500\n",
      "1996-11-19  1.710279  1.710279  1.639018  1.710279   690500\n",
      "1996-11-20  1.722156  1.757787  1.615264  1.722156   280000\n",
      "1996-11-21  1.710279  1.734033  1.627141  1.710279   458500\n",
      "1996-11-22  1.734033  1.757787  1.662772  1.734033  1000500\n"
     ]
    },
    {
     "name": "stderr",
     "output_type": "stream",
     "text": [
      "\n"
     ]
    }
   ],
   "source": [
    "import yfinance as yf\n",
    "\n",
    "# Dynamic ticker symbol\n",
    "ticker = \"NTDOY\"  # You can make this a variable input\n",
    "\n",
    "# Download historical stock data\n",
    "stocks = yf.download(ticker, start=\"1962-01-01\", end=\"2024-12-31\")\n",
    "stocks.columns = stocks.columns.droplevel(1)\n",
    "\n",
    "# Show the first few rows\n",
    "print(stocks.head())"
   ]
  },
  {
   "cell_type": "code",
   "execution_count": 259,
   "metadata": {},
   "outputs": [
    {
     "data": {
      "text/plain": [
       "DatetimeIndex(['1996-11-23', '1996-11-24', '1996-11-25', '1996-11-26',\n",
       "               '1996-11-27', '1996-11-30', '1996-12-01', '1996-12-02',\n",
       "               '1996-12-04', '1996-12-07',\n",
       "               ...\n",
       "               '2024-12-21', '2024-12-22', '2024-12-23', '2024-12-24',\n",
       "               '2024-12-25', '2024-12-28', '2024-12-29', '2024-12-31',\n",
       "               '2025-01-01', '2025-01-04'],\n",
       "              dtype='datetime64[ns]', name='Date', length=7075, freq=None)"
      ]
     },
     "execution_count": 259,
     "metadata": {},
     "output_type": "execute_result"
    }
   ],
   "source": [
    "stocks.index + pd.DateOffset(days=5)\n"
   ]
  },
  {
   "cell_type": "code",
   "execution_count": 260,
   "metadata": {},
   "outputs": [
    {
     "data": {
      "text/plain": [
       "DatetimeIndex(['1996-11-13', '1996-11-14', '1996-11-15', '1996-11-16',\n",
       "               '1996-11-17', '1996-11-20', '1996-11-21', '1996-11-22',\n",
       "               '1996-11-24', '1996-11-27',\n",
       "               ...\n",
       "               '2024-12-11', '2024-12-12', '2024-12-13', '2024-12-14',\n",
       "               '2024-12-15', '2024-12-18', '2024-12-19', '2024-12-21',\n",
       "               '2024-12-22', '2024-12-25'],\n",
       "              dtype='datetime64[ns]', name='Date', length=7075, freq=None)"
      ]
     },
     "execution_count": 260,
     "metadata": {},
     "output_type": "execute_result"
    }
   ],
   "source": [
    "stocks.index - pd.DateOffset(days=5)\n"
   ]
  },
  {
   "cell_type": "code",
   "execution_count": 261,
   "metadata": {},
   "outputs": [
    {
     "data": {
      "text/plain": [
       "DatetimeIndex(['1997-02-18', '1997-02-19', '1997-02-20', '1997-02-21',\n",
       "               '1997-02-22', '1997-02-25', '1997-02-26', '1997-02-27',\n",
       "               '1997-02-28', '1997-03-02',\n",
       "               ...\n",
       "               '2025-03-16', '2025-03-17', '2025-03-18', '2025-03-19',\n",
       "               '2025-03-20', '2025-03-23', '2025-03-24', '2025-03-26',\n",
       "               '2025-03-27', '2025-03-30'],\n",
       "              dtype='datetime64[ns]', name='Date', length=7075, freq=None)"
      ]
     },
     "execution_count": 261,
     "metadata": {},
     "output_type": "execute_result"
    }
   ],
   "source": [
    "stocks.index + pd.DateOffset(months=3)\n"
   ]
  },
  {
   "cell_type": "code",
   "execution_count": 262,
   "metadata": {},
   "outputs": [
    {
     "data": {
      "text/plain": [
       "DatetimeIndex(['1995-11-18', '1995-11-19', '1995-11-20', '1995-11-21',\n",
       "               '1995-11-22', '1995-11-25', '1995-11-26', '1995-11-27',\n",
       "               '1995-11-29', '1995-12-02',\n",
       "               ...\n",
       "               '2023-12-16', '2023-12-17', '2023-12-18', '2023-12-19',\n",
       "               '2023-12-20', '2023-12-23', '2023-12-24', '2023-12-26',\n",
       "               '2023-12-27', '2023-12-30'],\n",
       "              dtype='datetime64[ns]', name='Date', length=7075, freq=None)"
      ]
     },
     "execution_count": 262,
     "metadata": {},
     "output_type": "execute_result"
    }
   ],
   "source": [
    "stocks.index - pd.DateOffset(years=1)\n"
   ]
  },
  {
   "cell_type": "code",
   "execution_count": 263,
   "metadata": {},
   "outputs": [
    {
     "data": {
      "text/plain": [
       "DatetimeIndex(['1996-11-18 07:00:00', '1996-11-19 07:00:00',\n",
       "               '1996-11-20 07:00:00', '1996-11-21 07:00:00',\n",
       "               '1996-11-22 07:00:00', '1996-11-25 07:00:00',\n",
       "               '1996-11-26 07:00:00', '1996-11-27 07:00:00',\n",
       "               '1996-11-29 07:00:00', '1996-12-02 07:00:00',\n",
       "               ...\n",
       "               '2024-12-16 07:00:00', '2024-12-17 07:00:00',\n",
       "               '2024-12-18 07:00:00', '2024-12-19 07:00:00',\n",
       "               '2024-12-20 07:00:00', '2024-12-23 07:00:00',\n",
       "               '2024-12-24 07:00:00', '2024-12-26 07:00:00',\n",
       "               '2024-12-27 07:00:00', '2024-12-30 07:00:00'],\n",
       "              dtype='datetime64[ns]', name='Date', length=7075, freq=None)"
      ]
     },
     "execution_count": 263,
     "metadata": {},
     "output_type": "execute_result"
    }
   ],
   "source": [
    "stocks.index + pd.DateOffset(hours=7)\n"
   ]
  },
  {
   "cell_type": "code",
   "execution_count": 264,
   "metadata": {},
   "outputs": [
    {
     "data": {
      "text/plain": [
       "DatetimeIndex(['1998-02-20 14:23:12', '1998-02-21 14:23:12',\n",
       "               '1998-02-22 14:23:12', '1998-02-23 14:23:12',\n",
       "               '1998-02-24 14:23:12', '1998-02-27 14:23:12',\n",
       "               '1998-02-28 14:23:12', '1998-03-01 14:23:12',\n",
       "               '1998-03-02 14:23:12', '1998-03-04 14:23:12',\n",
       "               ...\n",
       "               '2026-03-18 14:23:12', '2026-03-19 14:23:12',\n",
       "               '2026-03-20 14:23:12', '2026-03-21 14:23:12',\n",
       "               '2026-03-22 14:23:12', '2026-03-25 14:23:12',\n",
       "               '2026-03-26 14:23:12', '2026-03-28 14:23:12',\n",
       "               '2026-03-29 14:23:12', '2026-04-01 14:23:12'],\n",
       "              dtype='datetime64[ns]', name='Date', length=7075, freq=None)"
      ]
     },
     "execution_count": 264,
     "metadata": {},
     "output_type": "execute_result"
    }
   ],
   "source": [
    "\n",
    "stocks.index + pd.DateOffset(years=1, months=3, days=2, hours=14, minutes=23, seconds=12)"
   ]
  },
  {
   "cell_type": "markdown",
   "metadata": {},
   "source": [
    "### Ejercicio\n",
    "\n",
    "Encontrar el valor de la acción en cada día de su cumpleaños, cada año."
   ]
  },
  {
   "cell_type": "code",
   "execution_count": 273,
   "metadata": {},
   "outputs": [
    {
     "data": {
      "text/plain": [
       "DatetimeIndex(['1998-11-17', '1999-11-17', '2000-11-17', '2001-11-17',\n",
       "               '2002-11-17', '2003-11-17', '2004-11-17', '2005-11-17',\n",
       "               '2006-11-17', '2007-11-17', '2008-11-17', '2009-11-17',\n",
       "               '2010-11-17', '2011-11-17', '2012-11-17', '2013-11-17',\n",
       "               '2014-11-17', '2015-11-17', '2016-11-17', '2017-11-17',\n",
       "               '2018-11-17', '2019-11-17', '2020-11-17', '2021-11-17',\n",
       "               '2022-11-17', '2023-11-17', '2024-11-17'],\n",
       "              dtype='datetime64[ns]', freq='<DateOffset: years=1>')"
      ]
     },
     "execution_count": 273,
     "metadata": {},
     "output_type": "execute_result"
    }
   ],
   "source": [
    "birthday_range = pd.date_range(start=\"1998-11-17\", end=\"2025-03-14\", freq=pd.DateOffset(years=1))\n",
    "birthday_range"
   ]
  },
  {
   "cell_type": "code",
   "execution_count": 274,
   "metadata": {},
   "outputs": [
    {
     "data": {
      "text/plain": [
       "0    1998-11-17\n",
       "1    1999-11-17\n",
       "2    2000-11-17\n",
       "3    2001-11-17\n",
       "4    2002-11-17\n",
       "5    2003-11-17\n",
       "6    2004-11-17\n",
       "7    2005-11-17\n",
       "8    2006-11-17\n",
       "9    2007-11-17\n",
       "10   2008-11-17\n",
       "11   2009-11-17\n",
       "12   2010-11-17\n",
       "13   2011-11-17\n",
       "14   2012-11-17\n",
       "15   2013-11-17\n",
       "16   2014-11-17\n",
       "17   2015-11-17\n",
       "18   2016-11-17\n",
       "19   2017-11-17\n",
       "20   2018-11-17\n",
       "21   2019-11-17\n",
       "22   2020-11-17\n",
       "23   2021-11-17\n",
       "24   2022-11-17\n",
       "25   2023-11-17\n",
       "26   2024-11-17\n",
       "dtype: datetime64[ns]"
      ]
     },
     "execution_count": 274,
     "metadata": {},
     "output_type": "execute_result"
    }
   ],
   "source": [
    "birthday_series = pd.Series(birthday_range)\n",
    "birthday_series"
   ]
  },
  {
   "cell_type": "code",
   "execution_count": 279,
   "metadata": {},
   "outputs": [
    {
     "data": {
      "text/html": [
       "<div>\n",
       "<style scoped>\n",
       "    .dataframe tbody tr th:only-of-type {\n",
       "        vertical-align: middle;\n",
       "    }\n",
       "\n",
       "    .dataframe tbody tr th {\n",
       "        vertical-align: top;\n",
       "    }\n",
       "\n",
       "    .dataframe thead th {\n",
       "        text-align: right;\n",
       "    }\n",
       "</style>\n",
       "<table border=\"1\" class=\"dataframe\">\n",
       "  <thead>\n",
       "    <tr style=\"text-align: right;\">\n",
       "      <th>Price</th>\n",
       "      <th>Close</th>\n",
       "      <th>High</th>\n",
       "      <th>Low</th>\n",
       "      <th>Open</th>\n",
       "      <th>Volume</th>\n",
       "    </tr>\n",
       "    <tr>\n",
       "      <th>Date</th>\n",
       "      <th></th>\n",
       "      <th></th>\n",
       "      <th></th>\n",
       "      <th></th>\n",
       "      <th></th>\n",
       "    </tr>\n",
       "  </thead>\n",
       "  <tbody>\n",
       "    <tr>\n",
       "      <th>1996-11-18</th>\n",
       "      <td>1.710279</td>\n",
       "      <td>1.710279</td>\n",
       "      <td>1.639018</td>\n",
       "      <td>1.710279</td>\n",
       "      <td>406500</td>\n",
       "    </tr>\n",
       "    <tr>\n",
       "      <th>1996-11-19</th>\n",
       "      <td>1.710279</td>\n",
       "      <td>1.710279</td>\n",
       "      <td>1.639018</td>\n",
       "      <td>1.710279</td>\n",
       "      <td>690500</td>\n",
       "    </tr>\n",
       "    <tr>\n",
       "      <th>1996-11-20</th>\n",
       "      <td>1.722156</td>\n",
       "      <td>1.757787</td>\n",
       "      <td>1.615264</td>\n",
       "      <td>1.722156</td>\n",
       "      <td>280000</td>\n",
       "    </tr>\n",
       "    <tr>\n",
       "      <th>1996-11-21</th>\n",
       "      <td>1.710279</td>\n",
       "      <td>1.734033</td>\n",
       "      <td>1.627141</td>\n",
       "      <td>1.710279</td>\n",
       "      <td>458500</td>\n",
       "    </tr>\n",
       "    <tr>\n",
       "      <th>1996-11-22</th>\n",
       "      <td>1.734033</td>\n",
       "      <td>1.757787</td>\n",
       "      <td>1.662772</td>\n",
       "      <td>1.734033</td>\n",
       "      <td>1000500</td>\n",
       "    </tr>\n",
       "    <tr>\n",
       "      <th>...</th>\n",
       "      <td>...</td>\n",
       "      <td>...</td>\n",
       "      <td>...</td>\n",
       "      <td>...</td>\n",
       "      <td>...</td>\n",
       "    </tr>\n",
       "    <tr>\n",
       "      <th>2024-12-23</th>\n",
       "      <td>14.650000</td>\n",
       "      <td>14.800000</td>\n",
       "      <td>14.520000</td>\n",
       "      <td>14.750000</td>\n",
       "      <td>1707600</td>\n",
       "    </tr>\n",
       "    <tr>\n",
       "      <th>2024-12-24</th>\n",
       "      <td>14.650000</td>\n",
       "      <td>14.740000</td>\n",
       "      <td>14.530000</td>\n",
       "      <td>14.540000</td>\n",
       "      <td>366700</td>\n",
       "    </tr>\n",
       "    <tr>\n",
       "      <th>2024-12-26</th>\n",
       "      <td>14.640000</td>\n",
       "      <td>14.780000</td>\n",
       "      <td>14.630000</td>\n",
       "      <td>14.640000</td>\n",
       "      <td>413200</td>\n",
       "    </tr>\n",
       "    <tr>\n",
       "      <th>2024-12-27</th>\n",
       "      <td>14.680000</td>\n",
       "      <td>14.970000</td>\n",
       "      <td>14.660000</td>\n",
       "      <td>14.680000</td>\n",
       "      <td>427100</td>\n",
       "    </tr>\n",
       "    <tr>\n",
       "      <th>2024-12-30</th>\n",
       "      <td>14.620000</td>\n",
       "      <td>14.680000</td>\n",
       "      <td>14.550000</td>\n",
       "      <td>14.650000</td>\n",
       "      <td>421100</td>\n",
       "    </tr>\n",
       "  </tbody>\n",
       "</table>\n",
       "<p>7075 rows × 5 columns</p>\n",
       "</div>"
      ],
      "text/plain": [
       "Price           Close       High        Low       Open   Volume\n",
       "Date                                                           \n",
       "1996-11-18   1.710279   1.710279   1.639018   1.710279   406500\n",
       "1996-11-19   1.710279   1.710279   1.639018   1.710279   690500\n",
       "1996-11-20   1.722156   1.757787   1.615264   1.722156   280000\n",
       "1996-11-21   1.710279   1.734033   1.627141   1.710279   458500\n",
       "1996-11-22   1.734033   1.757787   1.662772   1.734033  1000500\n",
       "...               ...        ...        ...        ...      ...\n",
       "2024-12-23  14.650000  14.800000  14.520000  14.750000  1707600\n",
       "2024-12-24  14.650000  14.740000  14.530000  14.540000   366700\n",
       "2024-12-26  14.640000  14.780000  14.630000  14.640000   413200\n",
       "2024-12-27  14.680000  14.970000  14.660000  14.680000   427100\n",
       "2024-12-30  14.620000  14.680000  14.550000  14.650000   421100\n",
       "\n",
       "[7075 rows x 5 columns]"
      ]
     },
     "execution_count": 279,
     "metadata": {},
     "output_type": "execute_result"
    }
   ],
   "source": [
    "stocks"
   ]
  },
  {
   "cell_type": "code",
   "execution_count": 283,
   "metadata": {},
   "outputs": [
    {
     "data": {
      "text/plain": [
       "array([False, False, False, ..., False, False, False])"
      ]
     },
     "execution_count": 283,
     "metadata": {},
     "output_type": "execute_result"
    }
   ],
   "source": [
    "is_birthday = stocks.index.isin(birthday_series)\n",
    "is_birthday"
   ]
  },
  {
   "cell_type": "code",
   "execution_count": 284,
   "metadata": {},
   "outputs": [
    {
     "data": {
      "text/html": [
       "<div>\n",
       "<style scoped>\n",
       "    .dataframe tbody tr th:only-of-type {\n",
       "        vertical-align: middle;\n",
       "    }\n",
       "\n",
       "    .dataframe tbody tr th {\n",
       "        vertical-align: top;\n",
       "    }\n",
       "\n",
       "    .dataframe thead th {\n",
       "        text-align: right;\n",
       "    }\n",
       "</style>\n",
       "<table border=\"1\" class=\"dataframe\">\n",
       "  <thead>\n",
       "    <tr style=\"text-align: right;\">\n",
       "      <th>Price</th>\n",
       "      <th>Close</th>\n",
       "      <th>High</th>\n",
       "      <th>Low</th>\n",
       "      <th>Open</th>\n",
       "      <th>Volume</th>\n",
       "    </tr>\n",
       "    <tr>\n",
       "      <th>Date</th>\n",
       "      <th></th>\n",
       "      <th></th>\n",
       "      <th></th>\n",
       "      <th></th>\n",
       "      <th></th>\n",
       "    </tr>\n",
       "  </thead>\n",
       "  <tbody>\n",
       "    <tr>\n",
       "      <th>1998-11-17</th>\n",
       "      <td>2.256618</td>\n",
       "      <td>2.304126</td>\n",
       "      <td>2.209111</td>\n",
       "      <td>2.256618</td>\n",
       "      <td>68500</td>\n",
       "    </tr>\n",
       "    <tr>\n",
       "      <th>1999-11-17</th>\n",
       "      <td>4.156930</td>\n",
       "      <td>4.275699</td>\n",
       "      <td>4.133176</td>\n",
       "      <td>4.156930</td>\n",
       "      <td>218000</td>\n",
       "    </tr>\n",
       "    <tr>\n",
       "      <th>2000-11-17</th>\n",
       "      <td>4.133175</td>\n",
       "      <td>4.228190</td>\n",
       "      <td>4.038159</td>\n",
       "      <td>4.133175</td>\n",
       "      <td>94000</td>\n",
       "    </tr>\n",
       "    <tr>\n",
       "      <th>2003-11-17</th>\n",
       "      <td>2.025337</td>\n",
       "      <td>2.044719</td>\n",
       "      <td>2.005956</td>\n",
       "      <td>2.025337</td>\n",
       "      <td>200000</td>\n",
       "    </tr>\n",
       "    <tr>\n",
       "      <th>2004-11-17</th>\n",
       "      <td>2.983140</td>\n",
       "      <td>2.983140</td>\n",
       "      <td>2.934075</td>\n",
       "      <td>2.983140</td>\n",
       "      <td>212500</td>\n",
       "    </tr>\n",
       "    <tr>\n",
       "      <th>2005-11-17</th>\n",
       "      <td>2.710790</td>\n",
       "      <td>2.750508</td>\n",
       "      <td>2.710790</td>\n",
       "      <td>2.710790</td>\n",
       "      <td>2617500</td>\n",
       "    </tr>\n",
       "    <tr>\n",
       "      <th>2006-11-17</th>\n",
       "      <td>5.590000</td>\n",
       "      <td>5.590000</td>\n",
       "      <td>5.500000</td>\n",
       "      <td>5.590000</td>\n",
       "      <td>596000</td>\n",
       "    </tr>\n",
       "    <tr>\n",
       "      <th>2008-11-17</th>\n",
       "      <td>7.702000</td>\n",
       "      <td>7.930000</td>\n",
       "      <td>7.680000</td>\n",
       "      <td>7.830000</td>\n",
       "      <td>1280000</td>\n",
       "    </tr>\n",
       "    <tr>\n",
       "      <th>2009-11-17</th>\n",
       "      <td>6.360000</td>\n",
       "      <td>6.410000</td>\n",
       "      <td>6.330000</td>\n",
       "      <td>6.410000</td>\n",
       "      <td>428000</td>\n",
       "    </tr>\n",
       "    <tr>\n",
       "      <th>2010-11-17</th>\n",
       "      <td>6.546000</td>\n",
       "      <td>6.590000</td>\n",
       "      <td>6.520000</td>\n",
       "      <td>6.520000</td>\n",
       "      <td>275000</td>\n",
       "    </tr>\n",
       "    <tr>\n",
       "      <th>2011-11-17</th>\n",
       "      <td>3.710000</td>\n",
       "      <td>3.800000</td>\n",
       "      <td>3.706000</td>\n",
       "      <td>3.800000</td>\n",
       "      <td>665500</td>\n",
       "    </tr>\n",
       "    <tr>\n",
       "      <th>2014-11-17</th>\n",
       "      <td>2.716000</td>\n",
       "      <td>2.720000</td>\n",
       "      <td>2.704000</td>\n",
       "      <td>2.718000</td>\n",
       "      <td>39000</td>\n",
       "    </tr>\n",
       "    <tr>\n",
       "      <th>2015-11-17</th>\n",
       "      <td>3.916000</td>\n",
       "      <td>3.924000</td>\n",
       "      <td>3.896000</td>\n",
       "      <td>3.896000</td>\n",
       "      <td>150500</td>\n",
       "    </tr>\n",
       "    <tr>\n",
       "      <th>2016-11-17</th>\n",
       "      <td>6.028000</td>\n",
       "      <td>6.030000</td>\n",
       "      <td>5.944000</td>\n",
       "      <td>5.988000</td>\n",
       "      <td>1640500</td>\n",
       "    </tr>\n",
       "    <tr>\n",
       "      <th>2017-11-17</th>\n",
       "      <td>9.930000</td>\n",
       "      <td>9.976000</td>\n",
       "      <td>9.930000</td>\n",
       "      <td>9.966000</td>\n",
       "      <td>1439500</td>\n",
       "    </tr>\n",
       "    <tr>\n",
       "      <th>2020-11-17</th>\n",
       "      <td>12.830000</td>\n",
       "      <td>12.862000</td>\n",
       "      <td>12.540000</td>\n",
       "      <td>12.596000</td>\n",
       "      <td>7738000</td>\n",
       "    </tr>\n",
       "    <tr>\n",
       "      <th>2021-11-17</th>\n",
       "      <td>11.062000</td>\n",
       "      <td>11.100000</td>\n",
       "      <td>11.002000</td>\n",
       "      <td>11.040000</td>\n",
       "      <td>1602000</td>\n",
       "    </tr>\n",
       "    <tr>\n",
       "      <th>2022-11-17</th>\n",
       "      <td>10.430000</td>\n",
       "      <td>10.440000</td>\n",
       "      <td>10.270000</td>\n",
       "      <td>10.400000</td>\n",
       "      <td>1008900</td>\n",
       "    </tr>\n",
       "    <tr>\n",
       "      <th>2023-11-17</th>\n",
       "      <td>11.530000</td>\n",
       "      <td>11.710000</td>\n",
       "      <td>11.510000</td>\n",
       "      <td>11.540000</td>\n",
       "      <td>612600</td>\n",
       "    </tr>\n",
       "  </tbody>\n",
       "</table>\n",
       "</div>"
      ],
      "text/plain": [
       "Price           Close       High        Low       Open   Volume\n",
       "Date                                                           \n",
       "1998-11-17   2.256618   2.304126   2.209111   2.256618    68500\n",
       "1999-11-17   4.156930   4.275699   4.133176   4.156930   218000\n",
       "2000-11-17   4.133175   4.228190   4.038159   4.133175    94000\n",
       "2003-11-17   2.025337   2.044719   2.005956   2.025337   200000\n",
       "2004-11-17   2.983140   2.983140   2.934075   2.983140   212500\n",
       "2005-11-17   2.710790   2.750508   2.710790   2.710790  2617500\n",
       "2006-11-17   5.590000   5.590000   5.500000   5.590000   596000\n",
       "2008-11-17   7.702000   7.930000   7.680000   7.830000  1280000\n",
       "2009-11-17   6.360000   6.410000   6.330000   6.410000   428000\n",
       "2010-11-17   6.546000   6.590000   6.520000   6.520000   275000\n",
       "2011-11-17   3.710000   3.800000   3.706000   3.800000   665500\n",
       "2014-11-17   2.716000   2.720000   2.704000   2.718000    39000\n",
       "2015-11-17   3.916000   3.924000   3.896000   3.896000   150500\n",
       "2016-11-17   6.028000   6.030000   5.944000   5.988000  1640500\n",
       "2017-11-17   9.930000   9.976000   9.930000   9.966000  1439500\n",
       "2020-11-17  12.830000  12.862000  12.540000  12.596000  7738000\n",
       "2021-11-17  11.062000  11.100000  11.002000  11.040000  1602000\n",
       "2022-11-17  10.430000  10.440000  10.270000  10.400000  1008900\n",
       "2023-11-17  11.530000  11.710000  11.510000  11.540000   612600"
      ]
     },
     "execution_count": 284,
     "metadata": {},
     "output_type": "execute_result"
    }
   ],
   "source": [
    "stocks_birthday = stocks[is_birthday]\n",
    "stocks_birthday"
   ]
  },
  {
   "cell_type": "code",
   "execution_count": null,
   "metadata": {},
   "outputs": [
    {
     "data": {
      "image/png": "[encoded data removed]",
      "text/plain": [
       "<Figure size 2000x500 with 2 Axes>"
      ]
     },
     "metadata": {},
     "output_type": "display_data"
    }
   ],
   "source": [
    "fig = plt.figure(figsize=(20,5))\n",
    "\n",
    "ax1 = fig.add_subplot(2,1,1)\n",
    "ax1.set_ylabel('High [USD]')\n",
    "ax1.plot(stocks.index, stocks['High'], color='black', linestyle='-', label='Datos completos')\n",
    "\n",
    "ax2 = fig.add_subplot(2,1,2)\n",
    "ax2.set_xlabel('Fecha')\n",
    "ax2.set_ylabel('High [USD]')\n",
    "ax2.plot(stocks_birthday.index, stocks_birthday['High'], color='red', linestyle='dotted', marker='x', markersize=14, label='Mi cumple')\n",
    "\n",
    "ax1.legend()\n",
    "ax2.legend()\n",
    "plt.show()"
   ]
  },
  {
   "cell_type": "code",
   "execution_count": 320,
   "metadata": {},
   "outputs": [
    {
     "data": {
      "image/png": "[encoded data removed]",
      "text/plain": [
       "<Figure size 2000x500 with 1 Axes>"
      ]
     },
     "metadata": {},
     "output_type": "display_data"
    }
   ],
   "source": [
    "fig = plt.figure(figsize=(20,5))\n",
    "\n",
    "ax1 = fig.add_subplot(1,1,1)\n",
    "ax1.set_ylabel('High [USD]')\n",
    "ax1.plot(stocks.index, stocks['High'], color='black', linestyle='-', label='Datos completos')\n",
    "\n",
    "ax1.set_xlabel('Fecha')\n",
    "ax1.set_ylabel('High [USD]')\n",
    "ax1.plot(stocks_birthday.index, stocks_birthday['High'], color='red', linestyle='dotted', marker='x', markersize=14, label=r'Mi cumple $\\bar{x} = \\frac{\\sum x_i}{N}$')\n",
    "\n",
    "#ax1.axvline(x=stocks_birthday.index)\n",
    "\n",
    "ax1.annotate(text='hola', xy=(2004,20), xytext=(2004,20), size=40)\n",
    "\n",
    "ax1.legend()\n",
    "\n",
    "plt.savefig(\"stocks_birthday.pdf\")\n",
    "plt.show()"
   ]
  },
  {
   "cell_type": "markdown",
   "metadata": {},
   "source": [
    "## Offsets de fecha especializados\n",
    "\n",
    "- Pandas incluye offsets de fecha más especializados en `pd.tseries.offsets`.\n",
    "- Podemos agregar diferentes cantidades de tiempo a cada fecha (por ejemplo, fin de mes, fin de trimestre, inicio de año).\n"
   ]
  },
  {
   "cell_type": "code",
   "execution_count": 117,
   "metadata": {},
   "outputs": [
    {
     "name": "stderr",
     "output_type": "stream",
     "text": [
      "[*********************100%***********************]  1 of 1 completed"
     ]
    },
    {
     "name": "stdout",
     "output_type": "stream",
     "text": [
      "Price          Close      High       Low      Open  Volume\n",
      "Date                                                      \n",
      "1962-01-02  1.491550  1.508500  1.491550  1.508500  407940\n",
      "1962-01-03  1.504589  1.504589  1.491551  1.491551  305955\n",
      "1962-01-04  1.489595  1.504588  1.488943  1.504588  274575\n",
      "1962-01-05  1.460260  1.487639  1.457652  1.487639  384405\n",
      "1962-01-08  1.432879  1.458956  1.421145  1.458956  572685\n"
     ]
    },
    {
     "name": "stderr",
     "output_type": "stream",
     "text": [
      "\n"
     ]
    }
   ],
   "source": [
    "import yfinance as yf\n",
    "\n",
    "# Dynamic ticker symbol\n",
    "ticker = \"IBM\"  # You can make this a variable input\n",
    "\n",
    "# Download historical stock data\n",
    "stocks = yf.download(ticker, start=\"1962-01-01\", end=\"2024-12-31\")\n",
    "stocks.columns = stocks.columns.droplevel(1)\n",
    "\n",
    "# Show the first few rows\n",
    "print(stocks.head())"
   ]
  },
  {
   "cell_type": "code",
   "execution_count": 119,
   "metadata": {},
   "outputs": [
    {
     "data": {
      "text/plain": [
       "DatetimeIndex(['1962-01-31', '1962-01-31', '1962-01-31', '1962-01-31',\n",
       "               '1962-01-31', '1962-01-31', '1962-01-31', '1962-01-31',\n",
       "               '1962-01-31', '1962-01-31',\n",
       "               ...\n",
       "               '2024-12-31', '2024-12-31', '2024-12-31', '2024-12-31',\n",
       "               '2024-12-31', '2024-12-31', '2024-12-31', '2024-12-31',\n",
       "               '2024-12-31', '2024-12-31'],\n",
       "              dtype='datetime64[ns]', name='Date', length=15857, freq=None)"
      ]
     },
     "execution_count": 119,
     "metadata": {},
     "output_type": "execute_result"
    }
   ],
   "source": [
    "stocks.index + pd.tseries.offsets.MonthEnd()\n"
   ]
  },
  {
   "cell_type": "code",
   "execution_count": 120,
   "metadata": {},
   "outputs": [
    {
     "data": {
      "text/plain": [
       "DatetimeIndex(['1961-12-31', '1961-12-31', '1961-12-31', '1961-12-31',\n",
       "               '1961-12-31', '1961-12-31', '1961-12-31', '1961-12-31',\n",
       "               '1961-12-31', '1961-12-31',\n",
       "               ...\n",
       "               '2024-11-30', '2024-11-30', '2024-11-30', '2024-11-30',\n",
       "               '2024-11-30', '2024-11-30', '2024-11-30', '2024-11-30',\n",
       "               '2024-11-30', '2024-11-30'],\n",
       "              dtype='datetime64[ns]', name='Date', length=15857, freq=None)"
      ]
     },
     "execution_count": 120,
     "metadata": {},
     "output_type": "execute_result"
    }
   ],
   "source": [
    "stocks.index - pd.tseries.offsets.MonthEnd()\n"
   ]
  },
  {
   "cell_type": "code",
   "execution_count": 121,
   "metadata": {},
   "outputs": [
    {
     "data": {
      "text/plain": [
       "DatetimeIndex(['1962-03-31', '1962-03-31', '1962-03-31', '1962-03-31',\n",
       "               '1962-03-31', '1962-03-31', '1962-03-31', '1962-03-31',\n",
       "               '1962-03-31', '1962-03-31',\n",
       "               ...\n",
       "               '2024-12-31', '2024-12-31', '2024-12-31', '2024-12-31',\n",
       "               '2024-12-31', '2024-12-31', '2024-12-31', '2024-12-31',\n",
       "               '2024-12-31', '2024-12-31'],\n",
       "              dtype='datetime64[ns]', name='Date', length=15857, freq=None)"
      ]
     },
     "execution_count": 121,
     "metadata": {},
     "output_type": "execute_result"
    }
   ],
   "source": [
    "stocks.index + pd.tseries.offsets.QuarterEnd()\n"
   ]
  },
  {
   "cell_type": "code",
   "execution_count": 122,
   "metadata": {},
   "outputs": [
    {
     "data": {
      "text/plain": [
       "DatetimeIndex(['1961-12-31', '1961-12-31', '1961-12-31', '1961-12-31',\n",
       "               '1961-12-31', '1961-12-31', '1961-12-31', '1961-12-31',\n",
       "               '1961-12-31', '1961-12-31',\n",
       "               ...\n",
       "               '2024-09-30', '2024-09-30', '2024-09-30', '2024-09-30',\n",
       "               '2024-09-30', '2024-09-30', '2024-09-30', '2024-09-30',\n",
       "               '2024-09-30', '2024-09-30'],\n",
       "              dtype='datetime64[ns]', name='Date', length=15857, freq=None)"
      ]
     },
     "execution_count": 122,
     "metadata": {},
     "output_type": "execute_result"
    }
   ],
   "source": [
    "stocks.index - pd.tseries.offsets.QuarterEnd()\n"
   ]
  },
  {
   "cell_type": "code",
   "execution_count": 123,
   "metadata": {},
   "outputs": [
    {
     "data": {
      "text/plain": [
       "DatetimeIndex(['1962-04-01', '1962-04-01', '1962-04-01', '1962-04-01',\n",
       "               '1962-04-01', '1962-04-01', '1962-04-01', '1962-04-01',\n",
       "               '1962-04-01', '1962-04-01',\n",
       "               ...\n",
       "               '2025-01-01', '2025-01-01', '2025-01-01', '2025-01-01',\n",
       "               '2025-01-01', '2025-01-01', '2025-01-01', '2025-01-01',\n",
       "               '2025-01-01', '2025-01-01'],\n",
       "              dtype='datetime64[ns]', name='Date', length=15857, freq=None)"
      ]
     },
     "execution_count": 123,
     "metadata": {},
     "output_type": "execute_result"
    }
   ],
   "source": [
    "stocks.index + pd.tseries.offsets.QuarterBegin(startingMonth=1)\n"
   ]
  },
  {
   "cell_type": "code",
   "execution_count": 124,
   "metadata": {},
   "outputs": [
    {
     "data": {
      "text/plain": [
       "DatetimeIndex(['1962-01-01', '1962-01-01', '1962-01-01', '1962-01-01',\n",
       "               '1962-01-01', '1962-01-01', '1962-01-01', '1962-01-01',\n",
       "               '1962-01-01', '1962-01-01',\n",
       "               ...\n",
       "               '2024-10-01', '2024-10-01', '2024-10-01', '2024-10-01',\n",
       "               '2024-10-01', '2024-10-01', '2024-10-01', '2024-10-01',\n",
       "               '2024-10-01', '2024-10-01'],\n",
       "              dtype='datetime64[ns]', name='Date', length=15857, freq=None)"
      ]
     },
     "execution_count": 124,
     "metadata": {},
     "output_type": "execute_result"
    }
   ],
   "source": [
    "stocks.index - pd.tseries.offsets.QuarterBegin(startingMonth=1)\n"
   ]
  },
  {
   "cell_type": "code",
   "execution_count": 125,
   "metadata": {},
   "outputs": [
    {
     "data": {
      "text/plain": [
       "DatetimeIndex(['1962-12-31', '1962-12-31', '1962-12-31', '1962-12-31',\n",
       "               '1962-12-31', '1962-12-31', '1962-12-31', '1962-12-31',\n",
       "               '1962-12-31', '1962-12-31',\n",
       "               ...\n",
       "               '2024-12-31', '2024-12-31', '2024-12-31', '2024-12-31',\n",
       "               '2024-12-31', '2024-12-31', '2024-12-31', '2024-12-31',\n",
       "               '2024-12-31', '2024-12-31'],\n",
       "              dtype='datetime64[ns]', name='Date', length=15857, freq=None)"
      ]
     },
     "execution_count": 125,
     "metadata": {},
     "output_type": "execute_result"
    }
   ],
   "source": [
    "stocks.index + pd.tseries.offsets.YearEnd()\n"
   ]
  },
  {
   "cell_type": "code",
   "execution_count": 127,
   "metadata": {},
   "outputs": [
    {
     "data": {
      "text/plain": [
       "DatetimeIndex(['1963-01-01', '1963-01-01', '1963-01-01', '1963-01-01',\n",
       "               '1963-01-01', '1963-01-01', '1963-01-01', '1963-01-01',\n",
       "               '1963-01-01', '1963-01-01',\n",
       "               ...\n",
       "               '2025-01-01', '2025-01-01', '2025-01-01', '2025-01-01',\n",
       "               '2025-01-01', '2025-01-01', '2025-01-01', '2025-01-01',\n",
       "               '2025-01-01', '2025-01-01'],\n",
       "              dtype='datetime64[ns]', name='Date', length=15857, freq=None)"
      ]
     },
     "execution_count": 127,
     "metadata": {},
     "output_type": "execute_result"
    }
   ],
   "source": [
    "stocks.index + pd.tseries.offsets.YearBegin()"
   ]
  },
  {
   "cell_type": "markdown",
   "metadata": {},
   "source": [
    "## Timedeltas\n",
    "\n",
    "- Un **Timedelta** es un objeto de pandas que representa una duración (una cantidad de tiempo).\n",
    "- Restar dos objetos **Timestamp** dará como resultado un objeto **Timedelta** (esto también aplica al restar una **Series** de otra **Series**).\n",
    "- El constructor de **Timedelta** acepta parámetros de tiempo así como descripciones en forma de cadena de texto.\n"
   ]
  },
  {
   "cell_type": "code",
   "execution_count": 247,
   "metadata": {},
   "outputs": [
    {
     "data": {
      "text/html": [
       "<div>\n",
       "<style scoped>\n",
       "    .dataframe tbody tr th:only-of-type {\n",
       "        vertical-align: middle;\n",
       "    }\n",
       "\n",
       "    .dataframe tbody tr th {\n",
       "        vertical-align: top;\n",
       "    }\n",
       "\n",
       "    .dataframe thead th {\n",
       "        text-align: right;\n",
       "    }\n",
       "</style>\n",
       "<table border=\"1\" class=\"dataframe\">\n",
       "  <thead>\n",
       "    <tr style=\"text-align: right;\">\n",
       "      <th></th>\n",
       "      <th>order_date</th>\n",
       "      <th>delivery_date</th>\n",
       "    </tr>\n",
       "    <tr>\n",
       "      <th>ID</th>\n",
       "      <th></th>\n",
       "      <th></th>\n",
       "    </tr>\n",
       "  </thead>\n",
       "  <tbody>\n",
       "    <tr>\n",
       "      <th>1</th>\n",
       "      <td>1998-05-24</td>\n",
       "      <td>1999-02-05</td>\n",
       "    </tr>\n",
       "    <tr>\n",
       "      <th>2</th>\n",
       "      <td>1992-04-22</td>\n",
       "      <td>1998-03-06</td>\n",
       "    </tr>\n",
       "    <tr>\n",
       "      <th>4</th>\n",
       "      <td>1991-02-10</td>\n",
       "      <td>1992-08-26</td>\n",
       "    </tr>\n",
       "    <tr>\n",
       "      <th>5</th>\n",
       "      <td>1992-07-21</td>\n",
       "      <td>1997-11-20</td>\n",
       "    </tr>\n",
       "    <tr>\n",
       "      <th>7</th>\n",
       "      <td>1993-09-02</td>\n",
       "      <td>1998-06-10</td>\n",
       "    </tr>\n",
       "  </tbody>\n",
       "</table>\n",
       "</div>"
      ],
      "text/plain": [
       "   order_date delivery_date\n",
       "ID                         \n",
       "1  1998-05-24    1999-02-05\n",
       "2  1992-04-22    1998-03-06\n",
       "4  1991-02-10    1992-08-26\n",
       "5  1992-07-21    1997-11-20\n",
       "7  1993-09-02    1998-06-10"
      ]
     },
     "execution_count": 247,
     "metadata": {},
     "output_type": "execute_result"
    }
   ],
   "source": [
    "ecommerce = pd.read_csv(\"../Datasets/ecommerce.csv\", index_col=\"ID\", parse_dates=[\"order_date\", \"delivery_date\"], date_format=\"%m/%d/%y\")\n",
    "ecommerce.head()"
   ]
  },
  {
   "cell_type": "code",
   "execution_count": null,
   "metadata": {},
   "outputs": [
    {
     "data": {
      "text/html": [
       "<div>\n",
       "<style scoped>\n",
       "    .dataframe tbody tr th:only-of-type {\n",
       "        vertical-align: middle;\n",
       "    }\n",
       "\n",
       "    .dataframe tbody tr th {\n",
       "        vertical-align: top;\n",
       "    }\n",
       "\n",
       "    .dataframe thead th {\n",
       "        text-align: right;\n",
       "    }\n",
       "</style>\n",
       "<table border=\"1\" class=\"dataframe\">\n",
       "  <thead>\n",
       "    <tr style=\"text-align: right;\">\n",
       "      <th></th>\n",
       "      <th>order_date</th>\n",
       "      <th>delivery_date</th>\n",
       "      <th>Delivery Time</th>\n",
       "    </tr>\n",
       "    <tr>\n",
       "      <th>ID</th>\n",
       "      <th></th>\n",
       "      <th></th>\n",
       "      <th></th>\n",
       "    </tr>\n",
       "  </thead>\n",
       "  <tbody>\n",
       "    <tr>\n",
       "      <th>1</th>\n",
       "      <td>1998-05-24</td>\n",
       "      <td>1999-02-05</td>\n",
       "      <td>257 days</td>\n",
       "    </tr>\n",
       "    <tr>\n",
       "      <th>2</th>\n",
       "      <td>1992-04-22</td>\n",
       "      <td>1998-03-06</td>\n",
       "      <td>2144 days</td>\n",
       "    </tr>\n",
       "    <tr>\n",
       "      <th>4</th>\n",
       "      <td>1991-02-10</td>\n",
       "      <td>1992-08-26</td>\n",
       "      <td>563 days</td>\n",
       "    </tr>\n",
       "    <tr>\n",
       "      <th>5</th>\n",
       "      <td>1992-07-21</td>\n",
       "      <td>1997-11-20</td>\n",
       "      <td>1948 days</td>\n",
       "    </tr>\n",
       "    <tr>\n",
       "      <th>7</th>\n",
       "      <td>1993-09-02</td>\n",
       "      <td>1998-06-10</td>\n",
       "      <td>1742 days</td>\n",
       "    </tr>\n",
       "  </tbody>\n",
       "</table>\n",
       "</div>"
      ],
      "text/plain": [
       "   order_date delivery_date Delivery Time\n",
       "ID                                       \n",
       "1  1998-05-24    1999-02-05      257 days\n",
       "2  1992-04-22    1998-03-06     2144 days\n",
       "4  1991-02-10    1992-08-26      563 days\n",
       "5  1992-07-21    1997-11-20     1948 days\n",
       "7  1993-09-02    1998-06-10     1742 days"
      ]
     },
     "execution_count": 248,
     "metadata": {},
     "output_type": "execute_result"
    }
   ],
   "source": [
    "ecommerce[\"Delivery Time\"] = ecommerce[\"delivery_date\"] - ecommerce[\"order_date\"]\n",
    "ecommerce.head()"
   ]
  },
  {
   "cell_type": "code",
   "execution_count": 257,
   "metadata": {},
   "outputs": [
    {
     "data": {
      "text/plain": [
       "257"
      ]
     },
     "execution_count": 257,
     "metadata": {},
     "output_type": "execute_result"
    }
   ],
   "source": [
    "ecommerce['Delivery Time'].iloc[0].days"
   ]
  },
  {
   "cell_type": "code",
   "execution_count": 130,
   "metadata": {},
   "outputs": [
    {
     "data": {
      "text/plain": [
       "Timedelta('3583 days 00:00:00')"
      ]
     },
     "execution_count": 130,
     "metadata": {},
     "output_type": "execute_result"
    }
   ],
   "source": [
    "ecommerce[\"Delivery Time\"].max()"
   ]
  },
  {
   "cell_type": "code",
   "execution_count": 131,
   "metadata": {},
   "outputs": [
    {
     "data": {
      "text/plain": [
       "Timedelta('8 days 00:00:00')"
      ]
     },
     "execution_count": 131,
     "metadata": {},
     "output_type": "execute_result"
    }
   ],
   "source": [
    "ecommerce[\"Delivery Time\"].min()\n"
   ]
  },
  {
   "cell_type": "code",
   "execution_count": 132,
   "metadata": {},
   "outputs": [
    {
     "data": {
      "text/plain": [
       "Timedelta('1217 days 22:53:53.532934128')"
      ]
     },
     "execution_count": 132,
     "metadata": {},
     "output_type": "execute_result"
    }
   ],
   "source": [
    "ecommerce[\"Delivery Time\"].mean()"
   ]
  },
  {
   "cell_type": "code",
   "execution_count": null,
   "metadata": {},
   "outputs": [],
   "source": []
  }
 ],
 "metadata": {
  "kernelspec": {
   "display_name": "tsi_ml_env",
   "language": "python",
   "name": "python3"
  },
  "language_info": {
   "codemirror_mode": {
    "name": "ipython",
    "version": 3
   },
   "file_extension": ".py",
   "mimetype": "text/x-python",
   "name": "python",
   "nbconvert_exporter": "python",
   "pygments_lexer": "ipython3",
   "version": "3.10.16"
  }
 },
 "nbformat": 4,
 "nbformat_minor": 2
}
