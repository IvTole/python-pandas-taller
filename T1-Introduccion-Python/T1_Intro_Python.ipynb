{
 "cells": [
  {
   "cell_type": "markdown",
   "id": "cde3f282",
   "metadata": {},
   "source": [
    "# Jupyter notebook\n",
    "Los notebook tienes dos tipos principales de celtas: de código y de texto. Mientras que en la de código se escribe el código en Python, en la otra se escriba con Markdown, un lenguaje parecido al que utilizan los blogs, por ejemplo.\n",
    "\n",
    "Con markdown podemos, por ejemplo, introducir headers,\n",
    "# Header1\n",
    "## Header2\n",
    "### Header3\n",
    "\n",
    "O podemos introducir algún [link](https://www.google.com),\n",
    "\n",
    "Incluso, podemos poner alguna imagen,\n",
    "\n",
    "![A pretty tiger](https://upload.wikimedia.org/wikipedia/commons/5/56/Tiger.50.jpg)\n",
    "\n",
    "O alguna ecuación en LaTex,\n",
    "\n",
    "\\begin{equation}\n",
    "\\bar{x} = \\frac{\\sum_{i=1}^n x_i}{n}\n",
    "\\end{equation}\n",
    "\n",
    "# Introducción a Python\n",
    "\n",
    "Introducción a los fundamentos del lenguaje Python sobre el cuál está construido Pandas."
   ]
  },
  {
   "cell_type": "markdown",
   "id": "68a3ad5b",
   "metadata": {},
   "source": [
    "Un **comentario** es una línea ignorada por python.\n",
    "Básicamente funcionan como una forma de documentación dentro del código, para proveer a un usuario una explicación de la lógica, funcionalidad, o propósito de una sección en particular. Un buen uso de comentarios pueden hacer que un algoritmo complejo pueda ser comprendido en partes pequeñas y entendibles."
   ]
  },
  {
   "cell_type": "code",
   "execution_count": 1,
   "id": "aa29fcaf",
   "metadata": {},
   "outputs": [],
   "source": [
    "# Esto es un comentario\n",
    "\n",
    "# When I wrote this, only God and I understood what I was doing. Now, God only knows\n",
    "\n",
    "# Drunk, fix later\n",
    "\n",
    "# Magic. Do not touch.\n",
    "\n",
    "# If you’re reading this, that means you have been put in charge of my previous project. \n",
    "# I am so, so sorry for you. God speed."
   ]
  },
  {
   "cell_type": "code",
   "execution_count": 2,
   "id": "9ad3b15e",
   "metadata": {},
   "outputs": [
    {
     "name": "stdout",
     "output_type": "stream",
     "text": [
      "20\n"
     ]
    }
   ],
   "source": [
    "print(10 + 10)\n",
    "# Esto no se ejecuta\n",
    "# print(20 + 20) "
   ]
  },
  {
   "cell_type": "code",
   "execution_count": 3,
   "id": "0aa16217",
   "metadata": {},
   "outputs": [
    {
     "name": "stdout",
     "output_type": "stream",
     "text": [
      "20\n"
     ]
    }
   ],
   "source": [
    "print(10 + 10) # Solo se ignora despues del hashtag"
   ]
  },
  {
   "cell_type": "code",
   "execution_count": 6,
   "id": "28927c7b",
   "metadata": {},
   "outputs": [
    {
     "name": "stdout",
     "output_type": "stream",
     "text": [
      "Hello\n"
     ]
    }
   ],
   "source": [
    "print(\"Hello\")"
   ]
  },
  {
   "cell_type": "markdown",
   "id": "ae3bbe71",
   "metadata": {},
   "source": [
    "## Tipos de datos\n",
    "#### Números enteros y flotantes"
   ]
  },
  {
   "cell_type": "code",
   "execution_count": 7,
   "id": "43cf8170",
   "metadata": {},
   "outputs": [],
   "source": [
    "# numeros enteros\n",
    "# numero sin componente fraccional\n",
    "\n",
    "x = 1"
   ]
  },
  {
   "cell_type": "code",
   "execution_count": 8,
   "id": "6798cd04",
   "metadata": {},
   "outputs": [
    {
     "data": {
      "text/plain": [
       "int"
      ]
     },
     "execution_count": 8,
     "metadata": {},
     "output_type": "execute_result"
    }
   ],
   "source": [
    "type(x)"
   ]
  },
  {
   "cell_type": "code",
   "execution_count": 9,
   "id": "ad4a1b0c",
   "metadata": {},
   "outputs": [
    {
     "name": "stdout",
     "output_type": "stream",
     "text": [
      "<class 'float'>\n"
     ]
    }
   ],
   "source": [
    "# float, con decimales\n",
    "\n",
    "x = 3.14\n",
    "print(type(x))"
   ]
  },
  {
   "cell_type": "code",
   "execution_count": 10,
   "id": "af5093cb",
   "metadata": {},
   "outputs": [
    {
     "name": "stdout",
     "output_type": "stream",
     "text": [
      "4.0 Es de tipo <class 'float'>\n"
     ]
    }
   ],
   "source": [
    "# podemos hacer operaciones\n",
    "x1 = 1.5\n",
    "x2 = 2.5\n",
    "\n",
    "X = x1 + x2\n",
    "\n",
    "print(X, 'Es de tipo', type(X))"
   ]
  },
  {
   "cell_type": "markdown",
   "id": "89acc026",
   "metadata": {},
   "source": [
    "#### Strings"
   ]
  },
  {
   "cell_type": "code",
   "execution_count": 11,
   "id": "dcd832d9",
   "metadata": {},
   "outputs": [],
   "source": [
    "# string\n",
    "# una coleccion de caracteres (texto)\n",
    "# se ponen entre parentesis \n",
    "\n",
    "x = \"Hello World!. En Guadalajara 2024\""
   ]
  },
  {
   "cell_type": "code",
   "execution_count": 12,
   "id": "ffd9e9d0",
   "metadata": {},
   "outputs": [
    {
     "data": {
      "text/plain": [
       "'Ivan'"
      ]
     },
     "execution_count": 12,
     "metadata": {},
     "output_type": "execute_result"
    }
   ],
   "source": [
    "\"Ivan\""
   ]
  },
  {
   "cell_type": "code",
   "execution_count": 13,
   "id": "043b385f",
   "metadata": {},
   "outputs": [
    {
     "name": "stdout",
     "output_type": "stream",
     "text": [
      "Hello World!. En Guadalajara 2024\n"
     ]
    }
   ],
   "source": [
    "print(x)"
   ]
  },
  {
   "cell_type": "code",
   "execution_count": 14,
   "id": "1476c10a",
   "metadata": {},
   "outputs": [
    {
     "data": {
      "text/plain": [
       "str"
      ]
     },
     "execution_count": 14,
     "metadata": {},
     "output_type": "execute_result"
    }
   ],
   "source": [
    "type(x)"
   ]
  },
  {
   "cell_type": "code",
   "execution_count": 15,
   "id": "a20cb00a",
   "metadata": {},
   "outputs": [
    {
     "name": "stdout",
     "output_type": "stream",
     "text": [
      "HelloWorld! Es de tipo <class 'str'>\n"
     ]
    }
   ],
   "source": [
    "# podemos hacer operaciones con string\n",
    "# pero no tenemos las mismas reglas que con números\n",
    "\n",
    "x1 = 'Hello'\n",
    "x2 = 'World!'\n",
    "\n",
    "X = x1 + x2\n",
    "\n",
    "print(X, 'Es de tipo', type(X))"
   ]
  },
  {
   "cell_type": "code",
   "execution_count": 16,
   "id": "ddd5b889",
   "metadata": {},
   "outputs": [
    {
     "ename": "TypeError",
     "evalue": "can only concatenate str (not \"int\") to str",
     "output_type": "error",
     "traceback": [
      "\u001b[0;31m---------------------------------------------------------------------------\u001b[0m",
      "\u001b[0;31mTypeError\u001b[0m                                 Traceback (most recent call last)",
      "Input \u001b[0;32mIn [16]\u001b[0m, in \u001b[0;36m<cell line: 7>\u001b[0;34m()\u001b[0m\n\u001b[1;32m      4\u001b[0m x1 \u001b[38;5;241m=\u001b[39m \u001b[38;5;124m'\u001b[39m\u001b[38;5;124mHello\u001b[39m\u001b[38;5;124m'\u001b[39m\n\u001b[1;32m      5\u001b[0m x2 \u001b[38;5;241m=\u001b[39m \u001b[38;5;241m1\u001b[39m\n\u001b[0;32m----> 7\u001b[0m X \u001b[38;5;241m=\u001b[39m \u001b[43mx1\u001b[49m\u001b[43m \u001b[49m\u001b[38;5;241;43m+\u001b[39;49m\u001b[43m \u001b[49m\u001b[43mx2\u001b[49m\n\u001b[1;32m      9\u001b[0m \u001b[38;5;28mprint\u001b[39m(X, \u001b[38;5;124m'\u001b[39m\u001b[38;5;124mEs de tipo\u001b[39m\u001b[38;5;124m'\u001b[39m, \u001b[38;5;28mtype\u001b[39m(X))\n",
      "\u001b[0;31mTypeError\u001b[0m: can only concatenate str (not \"int\") to str"
     ]
    }
   ],
   "source": [
    "# Algunas operaciones sólo pueden ser entre variables del mismo tipo\n",
    "# En este caso hay un \"TypeError\"\n",
    "\n",
    "x1 = 'Hello'\n",
    "x2 = 1\n",
    "\n",
    "X = x1 + x2\n",
    "\n",
    "print(X, 'Es de tipo', type(X))"
   ]
  },
  {
   "cell_type": "code",
   "execution_count": 17,
   "id": "c25e9f42",
   "metadata": {},
   "outputs": [
    {
     "name": "stdout",
     "output_type": "stream",
     "text": [
      "\n"
     ]
    }
   ],
   "source": [
    "# tambien puede haber un string sin nada (vacío)\n",
    "# tiene una longitud 0\n",
    "\n",
    "x = ''\n",
    "print(x)"
   ]
  },
  {
   "cell_type": "code",
   "execution_count": 19,
   "id": "7800bc8a",
   "metadata": {},
   "outputs": [
    {
     "data": {
      "text/plain": [
       "str"
      ]
     },
     "execution_count": 19,
     "metadata": {},
     "output_type": "execute_result"
    }
   ],
   "source": [
    "type(x)"
   ]
  },
  {
   "cell_type": "code",
   "execution_count": 22,
   "id": "0fecda3d",
   "metadata": {},
   "outputs": [
    {
     "data": {
      "text/plain": [
       "1"
      ]
     },
     "execution_count": 22,
     "metadata": {},
     "output_type": "execute_result"
    }
   ],
   "source": [
    "len(\" \")"
   ]
  },
  {
   "cell_type": "markdown",
   "id": "548b2097",
   "metadata": {},
   "source": [
    "#### Booleans\n",
    "Este tipo de variables sólo serán uno de dos valores posibles: True y False."
   ]
  },
  {
   "cell_type": "code",
   "execution_count": 23,
   "id": "799fb9e0",
   "metadata": {},
   "outputs": [
    {
     "data": {
      "text/plain": [
       "True"
      ]
     },
     "execution_count": 23,
     "metadata": {},
     "output_type": "execute_result"
    }
   ],
   "source": [
    "# True o False no son strings, y ya están definidos dentro de python como una variable boolean.\n",
    "True"
   ]
  },
  {
   "cell_type": "code",
   "execution_count": 24,
   "id": "0d5523bf",
   "metadata": {},
   "outputs": [
    {
     "data": {
      "text/plain": [
       "False"
      ]
     },
     "execution_count": 24,
     "metadata": {},
     "output_type": "execute_result"
    }
   ],
   "source": [
    "False"
   ]
  },
  {
   "cell_type": "code",
   "execution_count": 25,
   "id": "bdb0ebc2",
   "metadata": {},
   "outputs": [
    {
     "name": "stdout",
     "output_type": "stream",
     "text": [
      "True\n"
     ]
    }
   ],
   "source": [
    "# Hay ciertos escenarios que se prestan a producir una afirmación de este tipo\n",
    "# Por ejemplo, condiciones o comparaciones\n",
    "\n",
    "x1 = 5\n",
    "x2 = 7\n",
    "\n",
    "print(x1<x2)"
   ]
  },
  {
   "cell_type": "code",
   "execution_count": 26,
   "id": "ac4e8892",
   "metadata": {},
   "outputs": [
    {
     "name": "stdout",
     "output_type": "stream",
     "text": [
      "False\n"
     ]
    }
   ],
   "source": [
    "x1 = 5\n",
    "x2 = 7\n",
    "\n",
    "print(x1>x2)"
   ]
  },
  {
   "cell_type": "markdown",
   "id": "9d5e3d11",
   "metadata": {},
   "source": [
    "#### Variable None\n",
    "Es un tipo de variable que represente ausencia de valor.\n",
    "Aunque no hay valor, esta información de ausencia sí es almacenada en memoria."
   ]
  },
  {
   "cell_type": "code",
   "execution_count": 27,
   "id": "25ab32d1",
   "metadata": {},
   "outputs": [
    {
     "name": "stdout",
     "output_type": "stream",
     "text": [
      "None\n"
     ]
    }
   ],
   "source": [
    "x = None\n",
    "print(x)"
   ]
  },
  {
   "cell_type": "markdown",
   "id": "db0f89e8",
   "metadata": {},
   "source": [
    "Estos son los tipos de variables más comunes en python. En Pandas se añaden otro tipo de datos, los cuales van a seguir sus propias reglas y operaciones. Por ejemplo: **dataframes** a los cuales se les puede hacer un join, o extraer un **arreglo** de observaciones de una fila (o columna) de una tabla."
   ]
  },
  {
   "cell_type": "markdown",
   "id": "b694f7bb",
   "metadata": {},
   "source": [
    "## Operadores\n",
    "Un símbolo que realiza una operación (que puede ser matemática, o lógica, etc.)\n",
    "\n",
    "#### Operadores matemáticos"
   ]
  },
  {
   "cell_type": "code",
   "execution_count": 28,
   "id": "ef560b79",
   "metadata": {},
   "outputs": [
    {
     "name": "stdout",
     "output_type": "stream",
     "text": [
      "suma de x1 + x2 =  5\n",
      "resta de x1 - x2 =  1\n",
      "multiplicacion de x1*x2 =  6\n",
      "division de x1/x2 =  1.5\n",
      "potencia x1^2 =  9.0\n"
     ]
    }
   ],
   "source": [
    "# operaciones matemáticas\n",
    "\n",
    "x1 = 3\n",
    "x2 = 2\n",
    "\n",
    "# guardo los resultados de las operaciones en diferentes variables\n",
    "suma = x1 + x2\n",
    "resta = x1 - x2\n",
    "multiplicacion = x1*x2\n",
    "division = x1/x2\n",
    "potencia = x1**2.0\n",
    "\n",
    "\n",
    "# imprimo estas variables\n",
    "print('suma de x1 + x2 = ', suma)\n",
    "print('resta de x1 - x2 = ', resta)\n",
    "print('multiplicacion de x1*x2 = ', multiplicacion)\n",
    "print('division de x1/x2 = ', division)\n",
    "print('potencia x1^2 = ', potencia)"
   ]
  },
  {
   "cell_type": "markdown",
   "id": "1a6b7072",
   "metadata": {},
   "source": [
    "La importancia que python le da a las operaciones matemáticas es la siguiente:\n",
    "\n",
    "* Parentesis\n",
    "* Exponentes\n",
    "* Multiplicacion/Division\n",
    "* Adicion/Substraccion"
   ]
  },
  {
   "cell_type": "code",
   "execution_count": 31,
   "id": "fd23f86c",
   "metadata": {},
   "outputs": [
    {
     "data": {
      "text/plain": [
       "23"
      ]
     },
     "execution_count": 31,
     "metadata": {},
     "output_type": "execute_result"
    }
   ],
   "source": [
    "3 + (4 * 5)"
   ]
  },
  {
   "cell_type": "code",
   "execution_count": 32,
   "id": "2390b43c",
   "metadata": {},
   "outputs": [
    {
     "data": {
      "text/plain": [
       "35"
      ]
     },
     "execution_count": 32,
     "metadata": {},
     "output_type": "execute_result"
    }
   ],
   "source": [
    "(3 + 4) * 5"
   ]
  },
  {
   "cell_type": "code",
   "execution_count": 33,
   "id": "5e0c1269",
   "metadata": {},
   "outputs": [
    {
     "name": "stdout",
     "output_type": "stream",
     "text": [
      "3\n"
     ]
    }
   ],
   "source": [
    "# division piso (floor division)\n",
    "# cuantas veces cabe un número en otro\n",
    "# regresa un numero entero\n",
    "\n",
    "x1 = 10\n",
    "x2 = 3\n",
    "\n",
    "print(x1 // x2)"
   ]
  },
  {
   "cell_type": "code",
   "execution_count": 34,
   "id": "142fb413",
   "metadata": {},
   "outputs": [
    {
     "name": "stdout",
     "output_type": "stream",
     "text": [
      "1\n"
     ]
    }
   ],
   "source": [
    "# operador modulo\n",
    "# regresa el residuo de la division\n",
    "\n",
    "x1 = 10\n",
    "x2 = 3\n",
    "\n",
    "print(x1 % x2)"
   ]
  },
  {
   "cell_type": "markdown",
   "id": "08a77c7b",
   "metadata": {},
   "source": [
    "#### Operaciones con strings"
   ]
  },
  {
   "cell_type": "code",
   "execution_count": 35,
   "id": "ed7cabb5",
   "metadata": {},
   "outputs": [
    {
     "name": "stdout",
     "output_type": "stream",
     "text": [
      "Concatenacion -> UniversidadDeGuadalajara\n"
     ]
    }
   ],
   "source": [
    "# operaciones con strings\n",
    "# todos los elementos tienen que ser de tipo string\n",
    "\n",
    "# concatenacion\n",
    "x1 = \"Universidad\"\n",
    "x2 = \"De\"\n",
    "x3 = \"Guadalajara\"\n",
    "\n",
    "concatenacion = x1 + x2 + x3\n",
    "\n",
    "print('Concatenacion ->', concatenacion)"
   ]
  },
  {
   "cell_type": "code",
   "execution_count": 36,
   "id": "af351f18",
   "metadata": {},
   "outputs": [
    {
     "name": "stdout",
     "output_type": "stream",
     "text": [
      "YoYoYoYoYoYoYoYoYoYo\n"
     ]
    }
   ],
   "source": [
    "# Podemos utilizar el operador * en strings para repetir una cadena de caracteres\n",
    "x1 = 'Yo'\n",
    "\n",
    "print(x1*10)"
   ]
  },
  {
   "cell_type": "markdown",
   "id": "ea6eb76c",
   "metadata": {},
   "source": [
    "#### Operadores lógicos"
   ]
  },
  {
   "cell_type": "code",
   "execution_count": 81,
   "id": "0e975c68",
   "metadata": {},
   "outputs": [
    {
     "name": "stdout",
     "output_type": "stream",
     "text": [
      "True\n",
      "False\n",
      "True\n",
      "False\n",
      "True\n",
      "False\n",
      "False\n"
     ]
    }
   ],
   "source": [
    "# operador de igualdad\n",
    "# es basicamente una pregunta de es o no es\n",
    "\n",
    "print(1 == 1)\n",
    "print(1 == 2)\n",
    "print(5 == 5.0) # comparamos un entero y un float y aun así nos resulta True\n",
    "print(5 == 5.1) # Aunque sean un poquito diferentes ya será False\n",
    "print('Hello' == \"Hello\")\n",
    "print('Pepito' == \"pepito\") # Python hace distinción entre mayúsculas y minúsculas (case sensitivity)\n",
    "print('Pepito' == \"Pepito \") # No hay que olvidarse que el espacio también es un caracter\n",
    "\n"
   ]
  },
  {
   "cell_type": "code",
   "execution_count": 37,
   "id": "b409b384",
   "metadata": {},
   "outputs": [
    {
     "data": {
      "text/plain": [
       "False"
      ]
     },
     "execution_count": 37,
     "metadata": {},
     "output_type": "execute_result"
    }
   ],
   "source": [
    "True == False"
   ]
  },
  {
   "cell_type": "code",
   "execution_count": 38,
   "id": "de961e16",
   "metadata": {},
   "outputs": [
    {
     "data": {
      "text/plain": [
       "True"
      ]
     },
     "execution_count": 38,
     "metadata": {},
     "output_type": "execute_result"
    }
   ],
   "source": [
    "False == False"
   ]
  },
  {
   "cell_type": "code",
   "execution_count": 84,
   "id": "7b0552dc",
   "metadata": {},
   "outputs": [
    {
     "name": "stdout",
     "output_type": "stream",
     "text": [
      "False\n",
      "True\n",
      "False\n",
      "True\n",
      "False\n",
      "True\n",
      "True\n"
     ]
    }
   ],
   "source": [
    "# operador de desigualdad\n",
    "# al revés, checa si los valores NO SON IGUALES\n",
    "\n",
    "print(1 != 1)\n",
    "print(1 != 2)\n",
    "print(5 != 5.0) \n",
    "print(5 != 5.1)\n",
    "print('Hello' != \"Hello\")\n",
    "print('Pepito' != \"pepito\") \n",
    "print('Pepito' != \"Pepito \") "
   ]
  },
  {
   "cell_type": "code",
   "execution_count": 39,
   "id": "2bdefc0b",
   "metadata": {},
   "outputs": [
    {
     "name": "stdout",
     "output_type": "stream",
     "text": [
      "True\n",
      "True\n",
      "False\n",
      "False\n"
     ]
    }
   ],
   "source": [
    "# operadores comparativos\n",
    "\n",
    "print(5 <= 8)\n",
    "print(8 <= 8)\n",
    "print(8 < 8)\n",
    "print(10 <= 8)"
   ]
  },
  {
   "cell_type": "code",
   "execution_count": 40,
   "id": "7bea8f95",
   "metadata": {},
   "outputs": [
    {
     "name": "stdout",
     "output_type": "stream",
     "text": [
      "True\n",
      "True\n",
      "True\n",
      "False\n",
      "False\n"
     ]
    }
   ],
   "source": [
    "print(14 > 9)\n",
    "print(14 >= 9)\n",
    "print(14 >= 14)\n",
    "print(14 > 14)\n",
    "print(14 >= 17)"
   ]
  },
  {
   "cell_type": "markdown",
   "id": "e584c99c",
   "metadata": {},
   "source": [
    "## Variables\n",
    "\n",
    "Una variable es un nombre que asignamos a un valor dentro del script. El valor que asignamos puede ser de los **tipos** anteriormente vistos, y la variable sirve como etiqueta o referencia para este valor.\n",
    "\n",
    "\n",
    "De esta forma, podemos referirnos a la variable en sí, y ponerle un nombre que nos proporcione contexto en cuento a lo que está representando, por ejemplo.\n",
    "\n",
    "Recordar que una variable no es necesariamente fija, esta puede ser reasignada y variar a lo largo del script, dependiento del propósito.\n",
    "\n",
    "IMPORTANTE: Las variables son guardadas mientras el código haya sido compilado y el script todavía siga ejecutándose."
   ]
  },
  {
   "cell_type": "code",
   "execution_count": 42,
   "id": "4a6b4961",
   "metadata": {},
   "outputs": [
    {
     "name": "stdout",
     "output_type": "stream",
     "text": [
      "82\n"
     ]
    }
   ],
   "source": [
    "# guardamos una calificacion\n",
    "score = 82\n",
    "print(score)"
   ]
  },
  {
   "cell_type": "code",
   "execution_count": 43,
   "id": "8ced9be3",
   "metadata": {},
   "outputs": [
    {
     "name": "stdout",
     "output_type": "stream",
     "text": [
      "87\n"
     ]
    }
   ],
   "source": [
    "# Le vamos a subir cinco puntos \n",
    "print(score + 5)"
   ]
  },
  {
   "cell_type": "code",
   "execution_count": 44,
   "id": "df19ac7c",
   "metadata": {},
   "outputs": [
    {
     "name": "stdout",
     "output_type": "stream",
     "text": [
      "87\n"
     ]
    }
   ],
   "source": [
    "# o se puede reasignar\n",
    "score = 82 # empieza como 82\n",
    "\n",
    "score = score  + 5 # utiliza su valor asignado para reasignarse\n",
    "\n",
    "print(score)"
   ]
  },
  {
   "cell_type": "code",
   "execution_count": 98,
   "id": "c218a06d",
   "metadata": {},
   "outputs": [
    {
     "name": "stdout",
     "output_type": "stream",
     "text": [
      "El alumno JuanPerez tiene una calificacion de 8.2 en la materia de Historia\n"
     ]
    }
   ],
   "source": [
    "score = 8.25\n",
    "first_name = \"Juan\"\n",
    "last_name = \"Perez\"\n",
    "subject = \"Historia\"\n",
    "full_name = first_name + last_name # juntamos nombre y apellido en una sola variable\n",
    "\n",
    "print(\"El alumno %s tiene una calificacion de %.1f en la materia de %s\" %(full_name,score,subject))\n",
    "\n",
    "# % denota la variable\n",
    "# %f indica que es de tipo float. %s es de tipo string.\n",
    "# .1 indica que solo quiero 1 decimal de esta variable\n",
    "# el simbolo % fuera del string a imprimir denota que variables van a ser ingresadas\n"
   ]
  },
  {
   "cell_type": "code",
   "execution_count": 49,
   "id": "b42bab3f",
   "metadata": {},
   "outputs": [
    {
     "name": "stdout",
     "output_type": "stream",
     "text": [
      "0\n",
      "10\n",
      "20\n",
      "30\n",
      "40\n",
      "50\n",
      "60\n",
      "70\n",
      "80\n",
      "90\n"
     ]
    }
   ],
   "source": [
    "contador = 0\n",
    "for i in range(1,11):\n",
    "    print(contador)\n",
    "    #contador = contador + 1\n",
    "    for j in range(0,10):\n",
    "        contador += 1"
   ]
  },
  {
   "cell_type": "markdown",
   "id": "c1a1dbd8",
   "metadata": {},
   "source": [
    "## Funciones\n",
    "\n",
    "Una función es un bloque de código que sólo es ejecutado cuando es llamado. La función acepta inputs (llamados argumentos o parámetros) y regresar (return) un valor, el cual es el output de la función."
   ]
  },
  {
   "cell_type": "markdown",
   "id": "e75c85ab",
   "metadata": {},
   "source": [
    "Algunas funciones ya están definidas dentro de python."
   ]
  },
  {
   "cell_type": "code",
   "execution_count": 100,
   "id": "c876360e-9043-458c-a10e-97815c43eb2f",
   "metadata": {
    "tags": []
   },
   "outputs": [
    {
     "data": {
      "text/plain": [
       "13"
      ]
     },
     "execution_count": 100,
     "metadata": {},
     "output_type": "execute_result"
    }
   ],
   "source": [
    "len(\"Python is fun\") # numero de elementos"
   ]
  },
  {
   "cell_type": "code",
   "execution_count": 101,
   "id": "54c11642-a975-43c5-938c-83b173c1ef16",
   "metadata": {
    "tags": []
   },
   "outputs": [
    {
     "data": {
      "text/plain": [
       "'3.14'"
      ]
     },
     "execution_count": 101,
     "metadata": {},
     "output_type": "execute_result"
    }
   ],
   "source": [
    "str(3.14) # conversion a string"
   ]
  },
  {
   "cell_type": "code",
   "execution_count": 53,
   "id": "0d3265f4",
   "metadata": {},
   "outputs": [
    {
     "data": {
      "text/plain": [
       "'None'"
      ]
     },
     "execution_count": 53,
     "metadata": {},
     "output_type": "execute_result"
    }
   ],
   "source": [
    "str(None)"
   ]
  },
  {
   "cell_type": "code",
   "execution_count": 62,
   "id": "686e22fa-67a7-481b-8689-23f73f812ead",
   "metadata": {
    "tags": []
   },
   "outputs": [
    {
     "data": {
      "text/plain": [
       "10"
      ]
     },
     "execution_count": 62,
     "metadata": {},
     "output_type": "execute_result"
    }
   ],
   "source": [
    "int(\"10\") # conversion a entero"
   ]
  },
  {
   "cell_type": "code",
   "execution_count": 63,
   "id": "f8cd75b3-0ee2-490b-9c80-6af66456811d",
   "metadata": {
    "tags": []
   },
   "outputs": [
    {
     "data": {
      "text/plain": [
       "9.384"
      ]
     },
     "execution_count": 63,
     "metadata": {},
     "output_type": "execute_result"
    }
   ],
   "source": [
    "float(\"9.384\") # conversion a flotante"
   ]
  },
  {
   "cell_type": "code",
   "execution_count": 65,
   "id": "270c8bf5-4523-4b25-a73b-15769307fad4",
   "metadata": {
    "tags": []
   },
   "outputs": [
    {
     "data": {
      "text/plain": [
       "str"
      ]
     },
     "execution_count": 65,
     "metadata": {},
     "output_type": "execute_result"
    }
   ],
   "source": [
    "x = \"Hello\"\n",
    "type(x) # la funcion type nos regresa un string con el tipo que tenga la variable"
   ]
  },
  {
   "cell_type": "code",
   "execution_count": 66,
   "id": "5b7ffcbb-4720-42cc-b9a3-8cfefe013366",
   "metadata": {
    "tags": []
   },
   "outputs": [
    {
     "data": {
      "text/plain": [
       "float"
      ]
     },
     "execution_count": 66,
     "metadata": {},
     "output_type": "execute_result"
    }
   ],
   "source": [
    "type(3.14)"
   ]
  },
  {
   "cell_type": "code",
   "execution_count": 67,
   "id": "44b114d1-01f0-4ab3-803f-7ba017914589",
   "metadata": {
    "tags": []
   },
   "outputs": [
    {
     "data": {
      "text/plain": [
       "bool"
      ]
     },
     "execution_count": 67,
     "metadata": {},
     "output_type": "execute_result"
    }
   ],
   "source": [
    "type(False)"
   ]
  },
  {
   "cell_type": "markdown",
   "id": "f1e6bdd1",
   "metadata": {},
   "source": [
    "## Funciones personalizadas\n",
    "\n",
    "* Se define una función con `def`, cuyo nombre debería aportar contexto.\n",
    "* Dentro de un paréntesis se escriben los parametros de entrada (igual, que aporten contexto, si es posible). Estos parametros pueden tener asignado un valor por default, si es necesario.\n",
    "* Escribir la lógica de la función dentro de este bloque indentado. Donde termine esta indentación es donde termina la función\n",
    "* Las variables (y parámetros) declaradas dentro de la función sólo serán llamadas y guardadas dentro de la misma.\n",
    "* utilizar `return` para especificar un valor de salida\n",
    "* Al llamar a una función uno puede pasar los parámetros asignados de manera secuencial o explicitamente poniendo los nombres."
   ]
  },
  {
   "cell_type": "code",
   "execution_count": 69,
   "id": "caec3125",
   "metadata": {},
   "outputs": [],
   "source": [
    "# una funcion que cambie una temperatura en celsius a fahrenheit\n",
    "\n",
    "def celsius_to_fahrenheit(celsius_temp = 0): # si uno no asigna valor, por defecto el input es cero\n",
    "    result = (celsius_temp * 1.8) + 32\n",
    "    return result, celsius_temp"
   ]
  },
  {
   "cell_type": "code",
   "execution_count": 71,
   "id": "03cf3b03",
   "metadata": {},
   "outputs": [
    {
     "data": {
      "text/plain": [
       "(32.0, 0)"
      ]
     },
     "execution_count": 71,
     "metadata": {},
     "output_type": "execute_result"
    }
   ],
   "source": [
    "celsius_to_fahrenheit()"
   ]
  },
  {
   "cell_type": "code",
   "execution_count": 72,
   "id": "ce6c3b2a",
   "metadata": {},
   "outputs": [
    {
     "data": {
      "text/plain": [
       "(212.0, 100)"
      ]
     },
     "execution_count": 72,
     "metadata": {},
     "output_type": "execute_result"
    }
   ],
   "source": [
    "celsius_to_fahrenheit(100)"
   ]
  },
  {
   "cell_type": "code",
   "execution_count": 113,
   "id": "e05ea4cd",
   "metadata": {},
   "outputs": [
    {
     "data": {
      "text/plain": [
       "212.0"
      ]
     },
     "execution_count": 113,
     "metadata": {},
     "output_type": "execute_result"
    }
   ],
   "source": [
    "celsius_to_fahrenheit(celsius_temp=100)"
   ]
  },
  {
   "cell_type": "code",
   "execution_count": 74,
   "id": "b09d7e78-ab58-4597-bff7-b2f498129d94",
   "metadata": {},
   "outputs": [],
   "source": [
    "def info_alumno_to_string(score,first_name,last_name,subject):\n",
    "    full_name = first_name + ' ' + last_name\n",
    "    return print(\"El alumno %s tiene una calificacion de %.1f en la materia de %s\" %(full_name,score,subject))"
   ]
  },
  {
   "cell_type": "code",
   "execution_count": 76,
   "id": "d00ee5d0",
   "metadata": {},
   "outputs": [
    {
     "name": "stdout",
     "output_type": "stream",
     "text": [
      "El alumno Ernesto Flores tiene una calificacion de 78.0 en la materia de Métodos II\n"
     ]
    }
   ],
   "source": [
    "score = 78\n",
    "first_name = \"Ernesto\"\n",
    "last_name = \"Flores\"\n",
    "subject = \"Métodos II\"\n",
    "\n",
    "info_alumno_to_string(first_name=first_name,last_name=last_name,subject=subject,score=score)"
   ]
  },
  {
   "cell_type": "markdown",
   "id": "224a4542",
   "metadata": {},
   "source": [
    "## Métodos\n",
    "\n",
    "* Un **método** es una función que pertenece a un objeto (por ejemplo, funciones asignadas a un objeto string).\n",
    "* Un **objeto** es un término técnico a lo que habíamos visto como **tipo**.\n",
    "* Para llamar a un método, se agrega un punto `.` después del objeto, seguido del método, y un parentesis con argumentos (como si fuera una funcion).\n",
    "* Sigue un comportamiento similar a las funciones.\n",
    "* Los objetos pueden ser mutables (pueden ser modificados una vez creados) o inmutables.\n",
    "* Es posible realizar una cadena de métodos, si la lógica lo permite.\n"
   ]
  },
  {
   "cell_type": "code",
   "execution_count": 77,
   "id": "b0dd69e9",
   "metadata": {},
   "outputs": [],
   "source": [
    "university = \"Universidad de Guadalajara\""
   ]
  },
  {
   "cell_type": "code",
   "execution_count": 78,
   "id": "b2aeca61",
   "metadata": {},
   "outputs": [
    {
     "data": {
      "text/plain": [
       "str"
      ]
     },
     "execution_count": 78,
     "metadata": {},
     "output_type": "execute_result"
    }
   ],
   "source": [
    "type(university)"
   ]
  },
  {
   "cell_type": "code",
   "execution_count": 81,
   "id": "ff2dd02a",
   "metadata": {},
   "outputs": [
    {
     "data": {
      "text/plain": [
       "'UNIVERSIDAD DE GUADALAJARA'"
      ]
     },
     "execution_count": 81,
     "metadata": {},
     "output_type": "execute_result"
    }
   ],
   "source": [
    "university.upper() # pasar todo el string a uppercase"
   ]
  },
  {
   "cell_type": "code",
   "execution_count": 82,
   "id": "dd167e18",
   "metadata": {},
   "outputs": [
    {
     "data": {
      "text/plain": [
       "'universidad de guadalajara'"
      ]
     },
     "execution_count": 82,
     "metadata": {},
     "output_type": "execute_result"
    }
   ],
   "source": [
    "university.lower() # pasar todo el string a lowercase "
   ]
  },
  {
   "cell_type": "code",
   "execution_count": 83,
   "id": "af1ff232",
   "metadata": {},
   "outputs": [
    {
     "data": {
      "text/plain": [
       "'uNIVERSIDAD DE gUADALAJARA'"
      ]
     },
     "execution_count": 83,
     "metadata": {},
     "output_type": "execute_result"
    }
   ],
   "source": [
    "university.swapcase() # intercambiar uppercase por lowercase y viceversa"
   ]
  },
  {
   "cell_type": "code",
   "execution_count": 84,
   "id": "1e0c50a7",
   "metadata": {},
   "outputs": [
    {
     "data": {
      "text/plain": [
       "'UNIVERSIDAD DE GUADALAJARA'"
      ]
     },
     "execution_count": 84,
     "metadata": {},
     "output_type": "execute_result"
    }
   ],
   "source": [
    "\"Universidad de Guadalajara\".upper() # no tiene que aplicarse a fuerza sobre la variable"
   ]
  },
  {
   "cell_type": "code",
   "execution_count": 85,
   "id": "40c8ef88",
   "metadata": {},
   "outputs": [
    {
     "data": {
      "text/plain": [
       "'Universidad De Guadalajara'"
      ]
     },
     "execution_count": 85,
     "metadata": {},
     "output_type": "execute_result"
    }
   ],
   "source": [
    "university.title() # Cada palabra empieza por mayuscula"
   ]
  },
  {
   "cell_type": "code",
   "execution_count": 86,
   "id": "4ca5d7d7",
   "metadata": {},
   "outputs": [
    {
     "data": {
      "text/plain": [
       "'Universidad de guadalajara'"
      ]
     },
     "execution_count": 86,
     "metadata": {},
     "output_type": "execute_result"
    }
   ],
   "source": [
    "university.capitalize() # la primera palabra empieza con mayuscula y las demas con minuscula"
   ]
  },
  {
   "cell_type": "code",
   "execution_count": 87,
   "id": "d22a4a90",
   "metadata": {},
   "outputs": [],
   "source": [
    "university = \"   Universidad de Guadalajara   \""
   ]
  },
  {
   "cell_type": "code",
   "execution_count": 88,
   "id": "883b4935",
   "metadata": {},
   "outputs": [
    {
     "data": {
      "text/plain": [
       "'Universidad de Guadalajara   '"
      ]
     },
     "execution_count": 88,
     "metadata": {},
     "output_type": "execute_result"
    }
   ],
   "source": [
    "university.lstrip() # se remueven espacios a la izquierda"
   ]
  },
  {
   "cell_type": "code",
   "execution_count": 89,
   "id": "0176ff7e",
   "metadata": {},
   "outputs": [
    {
     "data": {
      "text/plain": [
       "'   Universidad de Guadalajara'"
      ]
     },
     "execution_count": 89,
     "metadata": {},
     "output_type": "execute_result"
    }
   ],
   "source": [
    "university.rstrip() # se remueven espacios a la derecha"
   ]
  },
  {
   "cell_type": "code",
   "execution_count": 90,
   "id": "c4e61238",
   "metadata": {},
   "outputs": [
    {
     "data": {
      "text/plain": [
       "'universidad de guadalajara'"
      ]
     },
     "execution_count": 90,
     "metadata": {},
     "output_type": "execute_result"
    }
   ],
   "source": [
    "# se puede aplicar una cadena de metodos\n",
    "university.lstrip().rstrip().lower()"
   ]
  },
  {
   "cell_type": "code",
   "execution_count": 91,
   "id": "064a4bd4",
   "metadata": {},
   "outputs": [
    {
     "data": {
      "text/plain": [
       "'Universidad de Guadalajara'"
      ]
     },
     "execution_count": 91,
     "metadata": {},
     "output_type": "execute_result"
    }
   ],
   "source": [
    "university.strip() # se remueven caracteres por la derecha y la izquierda"
   ]
  },
  {
   "cell_type": "code",
   "execution_count": 92,
   "id": "27b31a4c",
   "metadata": {},
   "outputs": [
    {
     "data": {
      "text/plain": [
       "'   Universidad de GDLuadalajara   '"
      ]
     },
     "execution_count": 92,
     "metadata": {},
     "output_type": "execute_result"
    }
   ],
   "source": [
    "university.replace(\"G\", \"GDL\") # Se reemplazan caracteres"
   ]
  },
  {
   "cell_type": "code",
   "execution_count": 94,
   "id": "7ad0c2dd",
   "metadata": {},
   "outputs": [
    {
     "name": "stdout",
     "output_type": "stream",
     "text": [
      "Help on method_descriptor:\n",
      "\n",
      "replace(self, old, new, count=-1, /)\n",
      "    Return a copy with all occurrences of substring old replaced by new.\n",
      "    \n",
      "      count\n",
      "        Maximum number of occurrences to replace.\n",
      "        -1 (the default value) means replace all occurrences.\n",
      "    \n",
      "    If the optional argument count is given, only the first count occurrences are\n",
      "    replaced.\n",
      "\n"
     ]
    }
   ],
   "source": [
    "help(str.replace)"
   ]
  },
  {
   "cell_type": "code",
   "execution_count": 95,
   "id": "2e30d229",
   "metadata": {},
   "outputs": [
    {
     "name": "stdout",
     "output_type": "stream",
     "text": [
      "   Universidad de Guadalajara   \n"
     ]
    }
   ],
   "source": [
    "print(university)"
   ]
  },
  {
   "cell_type": "code",
   "execution_count": 96,
   "id": "8f654205",
   "metadata": {},
   "outputs": [
    {
     "data": {
      "text/plain": [
       "'Universidad de GDLuadalajara'"
      ]
     },
     "execution_count": 96,
     "metadata": {},
     "output_type": "execute_result"
    }
   ],
   "source": [
    "university.strip().replace('G','GDL')"
   ]
  },
  {
   "cell_type": "code",
   "execution_count": 97,
   "id": "20820b9d",
   "metadata": {},
   "outputs": [
    {
     "data": {
      "text/plain": [
       "'Universidad de GDL'"
      ]
     },
     "execution_count": 97,
     "metadata": {},
     "output_type": "execute_result"
    }
   ],
   "source": [
    "university.strip().replace('Guadalajara','GDL')"
   ]
  },
  {
   "cell_type": "code",
   "execution_count": 100,
   "id": "9a37f323",
   "metadata": {},
   "outputs": [
    {
     "data": {
      "text/plain": [
       "True"
      ]
     },
     "execution_count": 100,
     "metadata": {},
     "output_type": "execute_result"
    }
   ],
   "source": [
    "university.strip().startswith(\"Univers\")"
   ]
  },
  {
   "cell_type": "code",
   "execution_count": 101,
   "id": "8aa4c12a",
   "metadata": {},
   "outputs": [
    {
     "data": {
      "text/plain": [
       "True"
      ]
     },
     "execution_count": 101,
     "metadata": {},
     "output_type": "execute_result"
    }
   ],
   "source": [
    "university.strip().endswith(\"ara\")"
   ]
  },
  {
   "cell_type": "code",
   "execution_count": 102,
   "id": "8cb24708",
   "metadata": {},
   "outputs": [
    {
     "data": {
      "text/plain": [
       "True"
      ]
     },
     "execution_count": 102,
     "metadata": {},
     "output_type": "execute_result"
    }
   ],
   "source": [
    "\"dad\" in university #checa si un valor se encuentra dentro del string"
   ]
  },
  {
   "cell_type": "code",
   "execution_count": 103,
   "id": "aa0e5725",
   "metadata": {},
   "outputs": [
    {
     "data": {
      "text/plain": [
       "True"
      ]
     },
     "execution_count": 103,
     "metadata": {},
     "output_type": "execute_result"
    }
   ],
   "source": [
    "\"dad \" in university"
   ]
  },
  {
   "cell_type": "code",
   "execution_count": 105,
   "id": "3a3d7ddd",
   "metadata": {},
   "outputs": [
    {
     "data": {
      "text/plain": [
       "False"
      ]
     },
     "execution_count": 105,
     "metadata": {},
     "output_type": "execute_result"
    }
   ],
   "source": [
    "\"dad  \" in university"
   ]
  },
  {
   "cell_type": "code",
   "execution_count": 112,
   "id": "767bfd5e",
   "metadata": {},
   "outputs": [
    {
     "data": {
      "text/plain": [
       "['Universidad', 'de', 'Guadalajara']"
      ]
     },
     "execution_count": 112,
     "metadata": {},
     "output_type": "execute_result"
    }
   ],
   "source": [
    "university.split() # separa las palabras del string tomando el espacio como separador (por default)\n",
    "# el output es un objeto de tipo lista"
   ]
  },
  {
   "cell_type": "code",
   "execution_count": 114,
   "id": "9069b5eb",
   "metadata": {},
   "outputs": [
    {
     "data": {
      "text/plain": [
       "['Universidad', 'de', 'Guadalajara']"
      ]
     },
     "execution_count": 114,
     "metadata": {},
     "output_type": "execute_result"
    }
   ],
   "source": [
    "university.strip().split(sep=' ') # el argumento sep de split nos permite decir que tipo de separador se utiliza"
   ]
  },
  {
   "cell_type": "markdown",
   "id": "ebb51233",
   "metadata": {},
   "source": [
    "## Listas\n",
    "\n",
    "Es una estructura de datos mutable que guarda una colección ordenada de valores (**elementos** de la lista).\n"
   ]
  },
  {
   "cell_type": "code",
   "execution_count": 115,
   "id": "9956a674",
   "metadata": {},
   "outputs": [
    {
     "name": "stdout",
     "output_type": "stream",
     "text": [
      "[1, 2, 3, 4, 5]\n"
     ]
    }
   ],
   "source": [
    "lista_ejemplo = [1,2,3,4,5]\n",
    "print(lista_ejemplo)"
   ]
  },
  {
   "cell_type": "code",
   "execution_count": 117,
   "id": "c397662d",
   "metadata": {},
   "outputs": [
    {
     "data": {
      "text/plain": [
       "1"
      ]
     },
     "execution_count": 117,
     "metadata": {},
     "output_type": "execute_result"
    }
   ],
   "source": [
    "lista_ejemplo[0]"
   ]
  },
  {
   "cell_type": "code",
   "execution_count": 118,
   "id": "bcc2a3c5",
   "metadata": {},
   "outputs": [
    {
     "name": "stdout",
     "output_type": "stream",
     "text": [
      "[True, False, True, False, True]\n"
     ]
    }
   ],
   "source": [
    "# los elementos no tienen que ser necesariamente numéricos\n",
    "lista_ejemplo = [True,False,True,False,True]\n",
    "print(lista_ejemplo)"
   ]
  },
  {
   "cell_type": "code",
   "execution_count": 119,
   "id": "3abef6a1",
   "metadata": {},
   "outputs": [
    {
     "name": "stdout",
     "output_type": "stream",
     "text": [
      "[[True, False], [True, True], [False, False, False]]\n"
     ]
    }
   ],
   "source": [
    "# incluso pueden ser otras listas\n",
    "lista_ejemplo = [[True,False],[True,True],[False,False,False]]\n",
    "print(lista_ejemplo)"
   ]
  },
  {
   "cell_type": "code",
   "execution_count": 120,
   "id": "2e6c1181",
   "metadata": {},
   "outputs": [],
   "source": [
    "subjects = ['Matemáticas', 'Estadística', 'Programación']"
   ]
  },
  {
   "cell_type": "code",
   "execution_count": 121,
   "id": "ed40db50",
   "metadata": {},
   "outputs": [
    {
     "data": {
      "text/plain": [
       "list"
      ]
     },
     "execution_count": 121,
     "metadata": {},
     "output_type": "execute_result"
    }
   ],
   "source": [
    "type(subjects)"
   ]
  },
  {
   "cell_type": "code",
   "execution_count": 124,
   "id": "1dd06499",
   "metadata": {},
   "outputs": [
    {
     "data": {
      "text/plain": [
       "3"
      ]
     },
     "execution_count": 124,
     "metadata": {},
     "output_type": "execute_result"
    }
   ],
   "source": [
    "len(subjects) # la función len nos regresa el numero de elementos del objeto (en este caso una lista)"
   ]
  },
  {
   "cell_type": "code",
   "execution_count": 125,
   "id": "7e8c472c",
   "metadata": {},
   "outputs": [
    {
     "data": {
      "text/plain": [
       "11"
      ]
     },
     "execution_count": 125,
     "metadata": {},
     "output_type": "execute_result"
    }
   ],
   "source": [
    "len(\"Matemáticas\") # la funcion len puede ser aplicada también a un string"
   ]
  },
  {
   "cell_type": "code",
   "execution_count": 126,
   "id": "303a3ca9",
   "metadata": {},
   "outputs": [],
   "source": [
    "subjects.append(\"Seminario I\") # el método append agrega un elemento al final de la lista\n",
    "\n",
    "# IMPORTANTE: recordar que al agregar algo, esta variable ya fue mutada, ya no es la original\n",
    "# por lo mismo, si se le vuelve a aplicar append se agrega otra vez otro elemento"
   ]
  },
  {
   "cell_type": "code",
   "execution_count": 127,
   "id": "ea91e8cc",
   "metadata": {},
   "outputs": [
    {
     "name": "stdout",
     "output_type": "stream",
     "text": [
      "['Matemáticas', 'Estadística', 'Programación', 'Seminario I']\n"
     ]
    }
   ],
   "source": [
    "print(subjects)"
   ]
  },
  {
   "cell_type": "code",
   "execution_count": 134,
   "id": "54ec92f8",
   "metadata": {},
   "outputs": [
    {
     "ename": "IndexError",
     "evalue": "pop from empty list",
     "output_type": "error",
     "traceback": [
      "\u001b[0;31m---------------------------------------------------------------------------\u001b[0m",
      "\u001b[0;31mIndexError\u001b[0m                                Traceback (most recent call last)",
      "Input \u001b[0;32mIn [134]\u001b[0m, in \u001b[0;36m<cell line: 1>\u001b[0;34m()\u001b[0m\n\u001b[0;32m----> 1\u001b[0m \u001b[43msubjects\u001b[49m\u001b[38;5;241;43m.\u001b[39;49m\u001b[43mpop\u001b[49m\u001b[43m(\u001b[49m\u001b[43m)\u001b[49m\n",
      "\u001b[0;31mIndexError\u001b[0m: pop from empty list"
     ]
    }
   ],
   "source": [
    "subjects.pop() # regresa y remueve el ultimo elemento de la lista"
   ]
  },
  {
   "cell_type": "code",
   "execution_count": 135,
   "id": "9542c1d8",
   "metadata": {},
   "outputs": [
    {
     "name": "stdout",
     "output_type": "stream",
     "text": [
      "[]\n"
     ]
    }
   ],
   "source": [
    "print(subjects)"
   ]
  },
  {
   "cell_type": "code",
   "execution_count": 136,
   "id": "eae65ad9",
   "metadata": {},
   "outputs": [],
   "source": [
    "planets = [\"Mercurio\", \"Venus\", \"Tierra\", \"Marte\", \"Júpiter\", \"Saturno\", \"Urano\", \"Neptuno\"]"
   ]
  },
  {
   "cell_type": "code",
   "execution_count": 139,
   "id": "6649d173",
   "metadata": {},
   "outputs": [
    {
     "data": {
      "text/plain": [
       "True"
      ]
     },
     "execution_count": 139,
     "metadata": {},
     "output_type": "execute_result"
    }
   ],
   "source": [
    "\"Tierra\" in planets # IN nos regresa un true o false si el elemento se encuentra en la lista\n"
   ]
  },
  {
   "cell_type": "code",
   "execution_count": 140,
   "id": "f5b0831d",
   "metadata": {},
   "outputs": [
    {
     "data": {
      "text/plain": [
       "False"
      ]
     },
     "execution_count": 140,
     "metadata": {},
     "output_type": "execute_result"
    }
   ],
   "source": [
    "\"Corneria\" in planets"
   ]
  },
  {
   "cell_type": "code",
   "execution_count": 141,
   "id": "3bb57bf6",
   "metadata": {},
   "outputs": [
    {
     "data": {
      "text/plain": [
       "False"
      ]
     },
     "execution_count": 141,
     "metadata": {},
     "output_type": "execute_result"
    }
   ],
   "source": [
    "\"Plutón\" in planets"
   ]
  },
  {
   "cell_type": "markdown",
   "id": "6c4a69e9",
   "metadata": {},
   "source": [
    "## Índices\n",
    "\n",
    "* Python asigna a cada elemento un índice de posición (en el orden que lleve el objeto). Esto puede ser tanto para **strings** como **listas** o **arrays**.\n",
    "* En Python, el índice empieza a contar desde 0.\n",
    "* Se utilizan brackets [] para referirse a un índice del elemento objeto y extraer su valor.\n",
    "* Los índices referidos pueden ser también negativos, y esto se refiere en relación al final del objeto en lugar de al principio.\n",
    "* Se utiliza slicing `:` para extraer múltiples elementos, entre dos índices."
   ]
  },
  {
   "cell_type": "code",
   "execution_count": 142,
   "id": "0d3404b6",
   "metadata": {},
   "outputs": [],
   "source": [
    "subject = \"Historia\""
   ]
  },
  {
   "cell_type": "code",
   "execution_count": 143,
   "id": "3d540a5e",
   "metadata": {},
   "outputs": [
    {
     "data": {
      "text/plain": [
       "8"
      ]
     },
     "execution_count": 143,
     "metadata": {},
     "output_type": "execute_result"
    }
   ],
   "source": [
    "len(subject)"
   ]
  },
  {
   "cell_type": "code",
   "execution_count": 181,
   "id": "b9593829",
   "metadata": {},
   "outputs": [],
   "source": [
    "# H i s t o r i a\n",
    "# 0 1 2 3 4 5 6 7"
   ]
  },
  {
   "cell_type": "code",
   "execution_count": 144,
   "id": "137f246e",
   "metadata": {},
   "outputs": [
    {
     "name": "stdout",
     "output_type": "stream",
     "text": [
      "H\n",
      "i\n",
      "s\n",
      "t\n",
      "o\n",
      "r\n",
      "i\n",
      "a\n"
     ]
    }
   ],
   "source": [
    "print(subject[0])\n",
    "print(subject[1])\n",
    "print(subject[2])\n",
    "print(subject[3])\n",
    "print(subject[4])\n",
    "print(subject[5])\n",
    "print(subject[6])\n",
    "print(subject[7])"
   ]
  },
  {
   "cell_type": "code",
   "execution_count": 146,
   "id": "566afc03",
   "metadata": {},
   "outputs": [
    {
     "name": "stdout",
     "output_type": "stream",
     "text": [
      "a\n",
      "i\n",
      "r\n",
      "o\n",
      "t\n",
      "s\n",
      "i\n",
      "H\n"
     ]
    }
   ],
   "source": [
    "print(subject[-1])\n",
    "print(subject[-2])\n",
    "print(subject[-3])\n",
    "print(subject[-4])\n",
    "print(subject[-5])\n",
    "print(subject[-6])\n",
    "print(subject[-7])\n",
    "print(subject[-8])"
   ]
  },
  {
   "cell_type": "code",
   "execution_count": 147,
   "id": "82d2e263",
   "metadata": {},
   "outputs": [
    {
     "ename": "IndexError",
     "evalue": "string index out of range",
     "output_type": "error",
     "traceback": [
      "\u001b[0;31m---------------------------------------------------------------------------\u001b[0m",
      "\u001b[0;31mIndexError\u001b[0m                                Traceback (most recent call last)",
      "Input \u001b[0;32mIn [147]\u001b[0m, in \u001b[0;36m<cell line: 1>\u001b[0;34m()\u001b[0m\n\u001b[0;32m----> 1\u001b[0m \u001b[38;5;28mprint\u001b[39m(\u001b[43msubject\u001b[49m\u001b[43m[\u001b[49m\u001b[38;5;241;43m-\u001b[39;49m\u001b[38;5;241;43m9\u001b[39;49m\u001b[43m]\u001b[49m)\n",
      "\u001b[0;31mIndexError\u001b[0m: string index out of range"
     ]
    }
   ],
   "source": [
    "print(subject[-9]) # marca error si nos pasamos del rango"
   ]
  },
  {
   "cell_type": "code",
   "execution_count": 148,
   "id": "58191577",
   "metadata": {},
   "outputs": [
    {
     "name": "stdout",
     "output_type": "stream",
     "text": [
      "His\n",
      "toria\n"
     ]
    }
   ],
   "source": [
    "print(subject[0:3]) # mientras que el primer indice referido si se incluye, el segundo no\n",
    "print(subject[3:8]) # por eso esta línea se menciona el índice 8, que no tiene esta variable"
   ]
  },
  {
   "cell_type": "code",
   "execution_count": 149,
   "id": "13139732",
   "metadata": {},
   "outputs": [
    {
     "name": "stdout",
     "output_type": "stream",
     "text": [
      "toria\n"
     ]
    }
   ],
   "source": [
    "print(subject[3:100]) # En este caso no marca error si nos pasamos del índice"
   ]
  },
  {
   "cell_type": "code",
   "execution_count": 150,
   "id": "23f87f41",
   "metadata": {},
   "outputs": [],
   "source": [
    "planets = [\"Mercurio\", \"Venus\", \"Tierra\", \"Marte\", \"Júpiter\", \"Saturno\", \"Urano\", \"Neptuno\"]"
   ]
  },
  {
   "cell_type": "code",
   "execution_count": 151,
   "id": "94bd01ce",
   "metadata": {},
   "outputs": [
    {
     "name": "stdout",
     "output_type": "stream",
     "text": [
      "\n",
      "Insertar elemento posicion 8:  ['Mercurio', 'Venus', 'Tierra', 'Marte', 'Júpiter', 'Saturno', 'Urano', 'Neptuno', 'Plutón']\n"
     ]
    }
   ],
   "source": [
    "#Insertar en la posicion 8 el string \"Pluton\"\n",
    "planets.insert(8,\"Plutón\")\n",
    "print(\"\\nInsertar elemento posicion 8: \",planets)"
   ]
  },
  {
   "cell_type": "code",
   "execution_count": 152,
   "id": "2de6b69a",
   "metadata": {},
   "outputs": [],
   "source": [
    "lista = [2,4,1,6,3,4,7,3,5]"
   ]
  },
  {
   "cell_type": "code",
   "execution_count": 153,
   "id": "eed2c757",
   "metadata": {},
   "outputs": [
    {
     "name": "stdout",
     "output_type": "stream",
     "text": [
      "\n",
      "Lista Ordenada :  [1, 2, 3, 3, 4, 4, 5, 6, 7]\n"
     ]
    }
   ],
   "source": [
    "#Ordenar lista\n",
    "lista.sort()\n",
    "print(\"\\nLista Ordenada : \",lista)"
   ]
  },
  {
   "cell_type": "code",
   "execution_count": 154,
   "id": "5d0ca669",
   "metadata": {},
   "outputs": [
    {
     "name": "stdout",
     "output_type": "stream",
     "text": [
      "\n",
      "Lista Invertida :  [7, 6, 5, 4, 4, 3, 3, 2, 1]\n"
     ]
    }
   ],
   "source": [
    "#Ordenar lista\n",
    "lista.reverse()\n",
    "print(\"\\nLista Invertida : \",lista)"
   ]
  },
  {
   "cell_type": "markdown",
   "id": "a7aeaf2b",
   "metadata": {},
   "source": [
    "## Loops\n",
    "\n",
    "De forma frecuente, uno necesita repetir instrucciones una y otra vez. Sin embargo, en programación, si uno tiene que realizar algo 100 veces, no es necesario escribir 100 líneas de código idénticas. En Python, uno puede iterar sobre una secuencia y realizar operaciones sobre todos los elementos de una lista, tupla, string, o diccionario, por ejemplo.\n",
    "\n",
    "* En python, se utiliza `for` y `while` para referirnos a loops.\n",
    "* Todo el código indentado dentro de este `for` se ejecuta por cada iteración realizada.\n"
   ]
  },
  {
   "cell_type": "code",
   "execution_count": 155,
   "id": "a57cfbd9",
   "metadata": {},
   "outputs": [],
   "source": [
    "my_list = [10,20,30,40,50]"
   ]
  },
  {
   "cell_type": "code",
   "execution_count": 157,
   "id": "8d334fe1",
   "metadata": {},
   "outputs": [
    {
     "data": {
      "text/plain": [
       "5"
      ]
     },
     "execution_count": 157,
     "metadata": {},
     "output_type": "execute_result"
    }
   ],
   "source": [
    "len(my_list)"
   ]
  },
  {
   "cell_type": "code",
   "execution_count": 156,
   "id": "2cc3e897",
   "metadata": {},
   "outputs": [
    {
     "data": {
      "text/plain": [
       "range(0, 5)"
      ]
     },
     "execution_count": 156,
     "metadata": {},
     "output_type": "execute_result"
    }
   ],
   "source": [
    "range(0,5)"
   ]
  },
  {
   "cell_type": "code",
   "execution_count": 228,
   "id": "c16fa2e6",
   "metadata": {},
   "outputs": [
    {
     "data": {
      "text/plain": [
       "range(0, 5)"
      ]
     },
     "execution_count": 228,
     "metadata": {},
     "output_type": "execute_result"
    }
   ],
   "source": [
    "range(0,len(my_list))"
   ]
  },
  {
   "cell_type": "code",
   "execution_count": 160,
   "id": "0b0c2858",
   "metadata": {},
   "outputs": [
    {
     "name": "stdout",
     "output_type": "stream",
     "text": [
      "20\n",
      "30\n",
      "40\n",
      "50\n",
      "60\n"
     ]
    }
   ],
   "source": [
    "for i in range(0,len(my_list)):\n",
    "    print(my_list[i]+10)\n",
    "\n",
    "# en este caso, la variable i itera sobre un rango entre 0 y 5 (no se incluye este ultimo indice 5)\n",
    "# siendo que en la primera iteracion i toma el valor 0\n",
    "# en la segunda iteracion i toma el valor 1\n",
    "# y así hasta que i llega a tomar el valor 4\n",
    "# Este índice i en este caso es utilizado para referirse al índice de una lista"
   ]
  },
  {
   "cell_type": "code",
   "execution_count": 162,
   "id": "fb01a595",
   "metadata": {},
   "outputs": [
    {
     "name": "stdout",
     "output_type": "stream",
     "text": [
      "Matemáticas\n",
      "Estadística\n",
      "Programación\n"
     ]
    }
   ],
   "source": [
    "subjects = ['Matemáticas', 'Estadística', 'Programación']\n",
    "\n",
    "for i in range(0,len(subjects)):\n",
    "    print(subjects[i])"
   ]
  },
  {
   "cell_type": "code",
   "execution_count": 171,
   "id": "d2a7f8c7",
   "metadata": {},
   "outputs": [
    {
     "name": "stdout",
     "output_type": "stream",
     "text": [
      "Matemáticas\n",
      "Estadística\n",
      "Programación\n"
     ]
    }
   ],
   "source": [
    "#también se puede hacer una iteración sobre cada elemento de una lista, sin tener que referir indice\n",
    "x=1\n",
    "for x in subjects:\n",
    "    print(x)"
   ]
  },
  {
   "cell_type": "code",
   "execution_count": 172,
   "id": "c3b55e45",
   "metadata": {},
   "outputs": [
    {
     "data": {
      "text/plain": [
       "['Matemáticas', 'Estadística', 'Programación']"
      ]
     },
     "execution_count": 172,
     "metadata": {},
     "output_type": "execute_result"
    }
   ],
   "source": [
    "subjects"
   ]
  },
  {
   "cell_type": "code",
   "execution_count": 176,
   "id": "0f534c56",
   "metadata": {},
   "outputs": [
    {
     "data": {
      "text/plain": [
       "['MatemáticasMatemáticas',\n",
       " 'EstadísticaEstadística',\n",
       " 'ProgramaciónProgramación']"
      ]
     },
     "execution_count": 176,
     "metadata": {},
     "output_type": "execute_result"
    }
   ],
   "source": [
    "lista_output = [x*2 for x in subjects]\n",
    "lista_output"
   ]
  },
  {
   "cell_type": "code",
   "execution_count": 236,
   "id": "9cfe37e9",
   "metadata": {},
   "outputs": [
    {
     "name": "stdout",
     "output_type": "stream",
     "text": [
      "['Matemáticas', 'Estadística', 'Programación']\n"
     ]
    }
   ],
   "source": [
    "# lista de comprensión\n",
    "# es una forma conveniente para crear una nueva lista a partir de una ya existente, \n",
    "# realizando operaciones sobre la lista original\n",
    "\n",
    "new_subjects = [x for x in subjects]\n",
    "print(new_subjects)"
   ]
  },
  {
   "cell_type": "code",
   "execution_count": 237,
   "id": "3040b4cd",
   "metadata": {},
   "outputs": [
    {
     "name": "stdout",
     "output_type": "stream",
     "text": [
      "['MatemáticasMatemáticas', 'EstadísticaEstadística', 'ProgramaciónProgramación']\n"
     ]
    }
   ],
   "source": [
    "new_subjects = [x*2 for x in subjects]\n",
    "print(new_subjects)"
   ]
  },
  {
   "cell_type": "code",
   "execution_count": 239,
   "id": "bb17faec",
   "metadata": {},
   "outputs": [
    {
     "name": "stdout",
     "output_type": "stream",
     "text": [
      "[10, 20, 30, 40]\n"
     ]
    }
   ],
   "source": [
    "# también se le pueden agregar condiciones\n",
    "\n",
    "my_list = [10,20,30,40,50]\n",
    "\n",
    "new_list = [x for x in my_list if x <= 40]\n",
    "\n",
    "print(new_list)"
   ]
  },
  {
   "cell_type": "code",
   "execution_count": 2,
   "id": "a54d6cfb",
   "metadata": {},
   "outputs": [
    {
     "name": "stdout",
     "output_type": "stream",
     "text": [
      "0\n",
      "1\n",
      "2\n",
      "3\n",
      "4\n",
      "5\n",
      "6\n",
      "7\n",
      "8\n",
      "9\n",
      "10\n"
     ]
    }
   ],
   "source": [
    "# Los índices pueden ser utilizados no solo para referenciar\n",
    "# También para ser utilizados dentro de algún cálculo\n",
    "\n",
    "# Imprimir valores del 0 al 10\n",
    "\n",
    "for i in range(0,11):\n",
    "    print(i)"
   ]
  },
  {
   "cell_type": "markdown",
   "id": "871e5ce2",
   "metadata": {},
   "source": [
    "Un loop utilizando **while** seguirá iterando mientras la condición sea igual a **True**"
   ]
  },
  {
   "cell_type": "code",
   "execution_count": 3,
   "id": "573c77b2",
   "metadata": {},
   "outputs": [
    {
     "name": "stdout",
     "output_type": "stream",
     "text": [
      "1\n",
      "2\n",
      "3\n",
      "4\n",
      "5\n",
      "6\n",
      "7\n",
      "8\n",
      "9\n",
      "10\n",
      "11\n"
     ]
    }
   ],
   "source": [
    "# o utilizar algún contador \n",
    "\n",
    "contador = 0\n",
    "limite = 10\n",
    "\n",
    "while contador<= limite: \n",
    "    contador = contador + 1\n",
    "    print(contador)"
   ]
  },
  {
   "cell_type": "markdown",
   "id": "87866218",
   "metadata": {},
   "source": [
    "## Diccionarios\n",
    "\n",
    "* Es una colección mutable de pares clave-valor, sin orden particular\n",
    "* Una **clave** es un identificador ÚNICO, acompañado de un valor.\n",
    "* Un **valor** es asignado a una llave, pero éstos no son necesariamente únicos.\n",
    "* Se utilizan diccionario para referirse a asociaciones, para mapear o conectar dos valores juntos.\n",
    "* A diferencia de las listas, éstas se declaran con llaves {}\n",
    "* Cada par clave-valor es separado por coma, y una clave es separada por `:` de sus valores.\n"
   ]
  },
  {
   "cell_type": "code",
   "execution_count": 195,
   "id": "03b58006",
   "metadata": {},
   "outputs": [],
   "source": [
    "scores = {\n",
    "    \"Juan Perez\": 98,\n",
    "    \"Ernesto Flores\": 78,\n",
    "    \"Luisa Rodríguez\": 100,\n",
    "    \"Susana Espinoza\": 80\n",
    "}"
   ]
  },
  {
   "cell_type": "code",
   "execution_count": 196,
   "id": "41fd8d8a",
   "metadata": {},
   "outputs": [
    {
     "data": {
      "text/plain": [
       "{'Juan Perez': 98,\n",
       " 'Ernesto Flores': 78,\n",
       " 'Luisa Rodríguez': 100,\n",
       " 'Susana Espinoza': 80}"
      ]
     },
     "execution_count": 196,
     "metadata": {},
     "output_type": "execute_result"
    }
   ],
   "source": [
    "scores"
   ]
  },
  {
   "cell_type": "code",
   "execution_count": 197,
   "id": "8b089ab4",
   "metadata": {},
   "outputs": [
    {
     "data": {
      "text/plain": [
       "4"
      ]
     },
     "execution_count": 197,
     "metadata": {},
     "output_type": "execute_result"
    }
   ],
   "source": [
    "len(scores) # la longitud de un diccionario se refiere al numero de pares clave-valor"
   ]
  },
  {
   "cell_type": "code",
   "execution_count": 199,
   "id": "08932484",
   "metadata": {},
   "outputs": [
    {
     "data": {
      "text/plain": [
       "98"
      ]
     },
     "execution_count": 199,
     "metadata": {},
     "output_type": "execute_result"
    }
   ],
   "source": [
    "scores['Juan Perez'] # a diferencia de las listas, aquí nos referimos a la clave y no al índice"
   ]
  },
  {
   "cell_type": "code",
   "execution_count": 200,
   "id": "aed4970f",
   "metadata": {},
   "outputs": [
    {
     "name": "stdout",
     "output_type": "stream",
     "text": [
      "{'Juan Perez': 98, 'Ernesto Flores': 78, 'Luisa Rodríguez': 100, 'Susana Espinoza': 90}\n"
     ]
    }
   ],
   "source": [
    "# Como es mutable, podemos reasignar sus valores\n",
    "# Por ejemplo, Susana se le suben 10 puntos\n",
    "scores['Susana Espinoza'] = 90\n",
    "print(scores)"
   ]
  },
  {
   "cell_type": "code",
   "execution_count": 201,
   "id": "9070de2e",
   "metadata": {},
   "outputs": [
    {
     "data": {
      "text/plain": [
       "98"
      ]
     },
     "execution_count": 201,
     "metadata": {},
     "output_type": "execute_result"
    }
   ],
   "source": [
    "scores.pop('Juan Perez') # con el método pop podemos eliminar pares clave-valor"
   ]
  },
  {
   "cell_type": "code",
   "execution_count": 202,
   "id": "390e3b7c",
   "metadata": {},
   "outputs": [
    {
     "data": {
      "text/plain": [
       "{'Ernesto Flores': 78, 'Luisa Rodríguez': 100, 'Susana Espinoza': 90}"
      ]
     },
     "execution_count": 202,
     "metadata": {},
     "output_type": "execute_result"
    }
   ],
   "source": [
    "scores"
   ]
  },
  {
   "cell_type": "code",
   "execution_count": 203,
   "id": "bb6461d5",
   "metadata": {},
   "outputs": [
    {
     "data": {
      "text/plain": [
       "True"
      ]
     },
     "execution_count": 203,
     "metadata": {},
     "output_type": "execute_result"
    }
   ],
   "source": [
    "\"Susana Espinoza\" in scores"
   ]
  },
  {
   "cell_type": "code",
   "execution_count": 204,
   "id": "09bdbb64",
   "metadata": {},
   "outputs": [
    {
     "data": {
      "text/plain": [
       "False"
      ]
     },
     "execution_count": 204,
     "metadata": {},
     "output_type": "execute_result"
    }
   ],
   "source": [
    "\"Susana Espinosa\" in scores"
   ]
  },
  {
   "cell_type": "code",
   "execution_count": 207,
   "id": "d2752656",
   "metadata": {},
   "outputs": [
    {
     "name": "stdout",
     "output_type": "stream",
     "text": [
      "dict_keys(['Ernesto Flores', 'Luisa Rodríguez', 'Susana Espinoza'])\n",
      "dict_values([78, 100, 90])\n"
     ]
    }
   ],
   "source": [
    "# el objeto diccionario tiene métodos que se llaman key, y values para referirse a sus clave y valores, respectivamente\n",
    "\n",
    "print(scores.keys())\n",
    "print(scores.values())"
   ]
  },
  {
   "cell_type": "code",
   "execution_count": 209,
   "id": "dabd8d67",
   "metadata": {},
   "outputs": [
    {
     "data": {
      "text/plain": [
       "True"
      ]
     },
     "execution_count": 209,
     "metadata": {},
     "output_type": "execute_result"
    }
   ],
   "source": [
    "100 in scores.values()"
   ]
  },
  {
   "cell_type": "code",
   "execution_count": 210,
   "id": "964d3c84",
   "metadata": {},
   "outputs": [
    {
     "data": {
      "text/plain": [
       "False"
      ]
     },
     "execution_count": 210,
     "metadata": {},
     "output_type": "execute_result"
    }
   ],
   "source": [
    "99 in scores.values()"
   ]
  },
  {
   "cell_type": "markdown",
   "id": "786fddef",
   "metadata": {},
   "source": [
    "## Importación de librerías de python\n",
    "\n",
    "* la instrucción `import` importa una librería que se tenga instalada dentro del ambiente de python que uno esté usando.\n",
    "* `as` se refiere al prefijo o nombre que vamos a utilizar para referirnos a esta librería (en este caso, a cualquier cosa dentro de pandas le ponemos un alias **pd**)\n",
    "* utilizamos `from` cuando solo queremos importar ciertos métodos asociados a una librería."
   ]
  },
  {
   "cell_type": "code",
   "execution_count": 211,
   "id": "e60bb154",
   "metadata": {},
   "outputs": [],
   "source": [
    "import pandas as pd"
   ]
  },
  {
   "cell_type": "code",
   "execution_count": 212,
   "id": "73830250",
   "metadata": {},
   "outputs": [
    {
     "name": "stderr",
     "output_type": "stream",
     "text": [
      "/var/folders/ls/3cpc9bjx04xfmf_tzhgzfgrm0000gn/T/ipykernel_94287/192744320.py:3: FutureWarning: The default dtype for empty Series will be 'object' instead of 'float64' in a future version. Specify a dtype explicitly to silence this warning.\n",
      "  pd.Series()\n"
     ]
    },
    {
     "data": {
      "text/plain": [
       "Series([], dtype: float64)"
      ]
     },
     "execution_count": 212,
     "metadata": {},
     "output_type": "execute_result"
    }
   ],
   "source": [
    "## me refiero a la libreria pandas con pd\n",
    "\n",
    "pd.Series()"
   ]
  },
  {
   "cell_type": "code",
   "execution_count": 214,
   "id": "fd3ec472",
   "metadata": {},
   "outputs": [
    {
     "data": {
      "text/html": [
       "<div>\n",
       "<style scoped>\n",
       "    .dataframe tbody tr th:only-of-type {\n",
       "        vertical-align: middle;\n",
       "    }\n",
       "\n",
       "    .dataframe tbody tr th {\n",
       "        vertical-align: top;\n",
       "    }\n",
       "\n",
       "    .dataframe thead th {\n",
       "        text-align: right;\n",
       "    }\n",
       "</style>\n",
       "<table border=\"1\" class=\"dataframe\">\n",
       "  <thead>\n",
       "    <tr style=\"text-align: right;\">\n",
       "      <th></th>\n",
       "    </tr>\n",
       "  </thead>\n",
       "  <tbody>\n",
       "  </tbody>\n",
       "</table>\n",
       "</div>"
      ],
      "text/plain": [
       "Empty DataFrame\n",
       "Columns: []\n",
       "Index: []"
      ]
     },
     "execution_count": 214,
     "metadata": {},
     "output_type": "execute_result"
    }
   ],
   "source": [
    "pd.DataFrame()"
   ]
  },
  {
   "cell_type": "markdown",
   "id": "08176e49",
   "metadata": {},
   "source": [
    "## Estructura de programa Python\n",
    "\n",
    "<img src=\"Imagenes/estructura.jpg\" alt=\"Drawing\" style=\"width:250px;\"/>\n",
    "\n",
    "<img src=\"Imagenes/estructura2.jpg\" alt=\"Drawing\" style=\"width: 500px;\"/>\n",
    "\n",
    "    \n",
    "La ejecución de un programa   de <span style=\"color:indigo\">python</span> en una terminal se lleva a cabo con  el comando:   <span style=\"color:indigo\">**python3**</span>  <span style=\"color:red\"> **Mi_programa.py** </span> \n",
    "\n",
    "\n",
    "\n",
    "A continuación se muestra  **hola mundo**  siguiendo la estructura anterior."
   ]
  },
  {
   "cell_type": "code",
   "execution_count": 1,
   "id": "658c6792",
   "metadata": {},
   "outputs": [
    {
     "name": "stdout",
     "output_type": "stream",
     "text": [
      "\tHola Mundo\n",
      "Ruta de ejecución: /Users/vanotole/anaconda3/bin/python\n",
      "Versión:\t   3.8.13 (default, Mar 28 2022, 06:16:26) \n",
      "[Clang 12.0.0 ]\n",
      "Help on built-in function exit in module sys:\n",
      "\n",
      "exit(status=None, /)\n",
      "    Exit the interpreter by raising SystemExit(status).\n",
      "    \n",
      "    If the status is omitted or None, it defaults to zero (i.e., success).\n",
      "    If the status is an integer, it will be used as the system exit status.\n",
      "    If it is another kind of object, it will be printed and the system\n",
      "    exit status will be one (i.e., failure).\n",
      "\n"
     ]
    }
   ],
   "source": [
    "#!/usr/bin/env python\n",
    "# -*- coding: utf-8 -*-\n",
    "\n",
    "import sys\n",
    "\n",
    "def HolaMundo():\n",
    "    print(\"\\tHola Mundo\")\n",
    "    print(\"Ruta de ejecución:\", sys.executable)\n",
    "    print(\"Versión:\\t  \",sys.version)\n",
    "    return \n",
    "\n",
    "HolaMundo()\n",
    "\n",
    "dir(sys)\n",
    "help(sys.exit)"
   ]
  },
  {
   "cell_type": "code",
   "execution_count": null,
   "id": "32345799",
   "metadata": {},
   "outputs": [],
   "source": []
  }
 ],
 "metadata": {
  "kernelspec": {
   "display_name": "Python 3 (ipykernel)",
   "language": "python",
   "name": "python3"
  },
  "language_info": {
   "codemirror_mode": {
    "name": "ipython",
    "version": 3
   },
   "file_extension": ".py",
   "mimetype": "text/x-python",
   "name": "python",
   "nbconvert_exporter": "python",
   "pygments_lexer": "ipython3",
   "version": "3.8.13"
  }
 },
 "nbformat": 4,
 "nbformat_minor": 5
}
