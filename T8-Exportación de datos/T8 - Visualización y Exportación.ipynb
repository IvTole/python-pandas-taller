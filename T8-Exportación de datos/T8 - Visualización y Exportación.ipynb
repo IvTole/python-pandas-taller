{
 "cells": [
  {
   "cell_type": "markdown",
   "metadata": {},
   "source": [
    "## Instalación de pptx para presentaciones"
   ]
  },
  {
   "cell_type": "code",
   "execution_count": 1,
   "metadata": {},
   "outputs": [
    {
     "name": "stdout",
     "output_type": "stream",
     "text": [
      "Requirement already satisfied: python-pptx in /Users/vanotole/anaconda3/envs/clase_2024B/lib/python3.12/site-packages (0.6.23)\n",
      "Requirement already satisfied: lxml>=3.1.0 in /Users/vanotole/anaconda3/envs/clase_2024B/lib/python3.12/site-packages (from python-pptx) (5.2.2)\n",
      "Requirement already satisfied: Pillow>=3.3.2 in /Users/vanotole/anaconda3/envs/clase_2024B/lib/python3.12/site-packages (from python-pptx) (10.4.0)\n",
      "Requirement already satisfied: XlsxWriter>=0.5.7 in /Users/vanotole/anaconda3/envs/clase_2024B/lib/python3.12/site-packages (from python-pptx) (3.2.0)\n"
     ]
    }
   ],
   "source": [
    "# Instalación de pptx\n",
    "!pip install python-pptx"
   ]
  },
  {
   "cell_type": "code",
   "execution_count": 2,
   "metadata": {},
   "outputs": [
    {
     "name": "stdout",
     "output_type": "stream",
     "text": [
      "Requirement already satisfied: dataframe-image in /Users/vanotole/anaconda3/envs/clase_2024B/lib/python3.12/site-packages (0.2.3)\n",
      "Requirement already satisfied: pandas>=0.24 in /Users/vanotole/anaconda3/envs/clase_2024B/lib/python3.12/site-packages (from dataframe-image) (2.2.2)\n",
      "Requirement already satisfied: nbconvert>=5 in /Users/vanotole/anaconda3/envs/clase_2024B/lib/python3.12/site-packages (from dataframe-image) (7.10.0)\n",
      "Requirement already satisfied: aiohttp in /Users/vanotole/anaconda3/envs/clase_2024B/lib/python3.12/site-packages (from dataframe-image) (3.9.5)\n",
      "Requirement already satisfied: requests in /Users/vanotole/anaconda3/envs/clase_2024B/lib/python3.12/site-packages (from dataframe-image) (2.32.2)\n",
      "Requirement already satisfied: pillow in /Users/vanotole/anaconda3/envs/clase_2024B/lib/python3.12/site-packages (from dataframe-image) (10.4.0)\n",
      "Requirement already satisfied: packaging in /Users/vanotole/anaconda3/envs/clase_2024B/lib/python3.12/site-packages (from dataframe-image) (23.2)\n",
      "Requirement already satisfied: mistune in /Users/vanotole/anaconda3/envs/clase_2024B/lib/python3.12/site-packages (from dataframe-image) (2.0.4)\n",
      "Requirement already satisfied: lxml in /Users/vanotole/anaconda3/envs/clase_2024B/lib/python3.12/site-packages (from dataframe-image) (5.2.2)\n",
      "Requirement already satisfied: beautifulsoup4 in /Users/vanotole/anaconda3/envs/clase_2024B/lib/python3.12/site-packages (from dataframe-image) (4.12.3)\n",
      "Requirement already satisfied: cssutils in /Users/vanotole/anaconda3/envs/clase_2024B/lib/python3.12/site-packages (from dataframe-image) (2.11.1)\n",
      "Requirement already satisfied: html2image in /Users/vanotole/anaconda3/envs/clase_2024B/lib/python3.12/site-packages (from dataframe-image) (2.0.4.3)\n",
      "Requirement already satisfied: bleach!=5.0.0 in /Users/vanotole/anaconda3/envs/clase_2024B/lib/python3.12/site-packages (from nbconvert>=5->dataframe-image) (4.1.0)\n",
      "Requirement already satisfied: defusedxml in /Users/vanotole/anaconda3/envs/clase_2024B/lib/python3.12/site-packages (from nbconvert>=5->dataframe-image) (0.7.1)\n",
      "Requirement already satisfied: jinja2>=3.0 in /Users/vanotole/anaconda3/envs/clase_2024B/lib/python3.12/site-packages (from nbconvert>=5->dataframe-image) (3.1.4)\n",
      "Requirement already satisfied: jupyter-core>=4.7 in /Users/vanotole/anaconda3/envs/clase_2024B/lib/python3.12/site-packages (from nbconvert>=5->dataframe-image) (5.7.2)\n",
      "Requirement already satisfied: jupyterlab-pygments in /Users/vanotole/anaconda3/envs/clase_2024B/lib/python3.12/site-packages (from nbconvert>=5->dataframe-image) (0.1.2)\n",
      "Requirement already satisfied: markupsafe>=2.0 in /Users/vanotole/anaconda3/envs/clase_2024B/lib/python3.12/site-packages (from nbconvert>=5->dataframe-image) (2.1.3)\n",
      "Requirement already satisfied: nbclient>=0.5.0 in /Users/vanotole/anaconda3/envs/clase_2024B/lib/python3.12/site-packages (from nbconvert>=5->dataframe-image) (0.8.0)\n",
      "Requirement already satisfied: nbformat>=5.7 in /Users/vanotole/anaconda3/envs/clase_2024B/lib/python3.12/site-packages (from nbconvert>=5->dataframe-image) (5.9.2)\n",
      "Requirement already satisfied: pandocfilters>=1.4.1 in /Users/vanotole/anaconda3/envs/clase_2024B/lib/python3.12/site-packages (from nbconvert>=5->dataframe-image) (1.5.0)\n",
      "Requirement already satisfied: pygments>=2.4.1 in /Users/vanotole/anaconda3/envs/clase_2024B/lib/python3.12/site-packages (from nbconvert>=5->dataframe-image) (2.15.1)\n",
      "Requirement already satisfied: tinycss2 in /Users/vanotole/anaconda3/envs/clase_2024B/lib/python3.12/site-packages (from nbconvert>=5->dataframe-image) (1.2.1)\n",
      "Requirement already satisfied: traitlets>=5.1 in /Users/vanotole/anaconda3/envs/clase_2024B/lib/python3.12/site-packages (from nbconvert>=5->dataframe-image) (5.14.3)\n",
      "Requirement already satisfied: numpy>=1.26.0 in /Users/vanotole/anaconda3/envs/clase_2024B/lib/python3.12/site-packages (from pandas>=0.24->dataframe-image) (1.26.4)\n",
      "Requirement already satisfied: python-dateutil>=2.8.2 in /Users/vanotole/anaconda3/envs/clase_2024B/lib/python3.12/site-packages (from pandas>=0.24->dataframe-image) (2.9.0.post0)\n",
      "Requirement already satisfied: pytz>=2020.1 in /Users/vanotole/anaconda3/envs/clase_2024B/lib/python3.12/site-packages (from pandas>=0.24->dataframe-image) (2024.1)\n",
      "Requirement already satisfied: tzdata>=2022.7 in /Users/vanotole/anaconda3/envs/clase_2024B/lib/python3.12/site-packages (from pandas>=0.24->dataframe-image) (2023.3)\n",
      "Requirement already satisfied: aiosignal>=1.1.2 in /Users/vanotole/anaconda3/envs/clase_2024B/lib/python3.12/site-packages (from aiohttp->dataframe-image) (1.3.1)\n",
      "Requirement already satisfied: attrs>=17.3.0 in /Users/vanotole/anaconda3/envs/clase_2024B/lib/python3.12/site-packages (from aiohttp->dataframe-image) (23.1.0)\n",
      "Requirement already satisfied: frozenlist>=1.1.1 in /Users/vanotole/anaconda3/envs/clase_2024B/lib/python3.12/site-packages (from aiohttp->dataframe-image) (1.4.1)\n",
      "Requirement already satisfied: multidict<7.0,>=4.5 in /Users/vanotole/anaconda3/envs/clase_2024B/lib/python3.12/site-packages (from aiohttp->dataframe-image) (6.0.5)\n",
      "Requirement already satisfied: yarl<2.0,>=1.0 in /Users/vanotole/anaconda3/envs/clase_2024B/lib/python3.12/site-packages (from aiohttp->dataframe-image) (1.9.4)\n",
      "Requirement already satisfied: soupsieve>1.2 in /Users/vanotole/anaconda3/envs/clase_2024B/lib/python3.12/site-packages (from beautifulsoup4->dataframe-image) (2.5)\n",
      "Requirement already satisfied: more-itertools in /Users/vanotole/anaconda3/envs/clase_2024B/lib/python3.12/site-packages (from cssutils->dataframe-image) (10.3.0)\n",
      "Requirement already satisfied: websocket-client<2.0.0,>=1.0.0 in /Users/vanotole/anaconda3/envs/clase_2024B/lib/python3.12/site-packages (from html2image->dataframe-image) (1.8.0)\n",
      "Requirement already satisfied: charset-normalizer<4,>=2 in /Users/vanotole/anaconda3/envs/clase_2024B/lib/python3.12/site-packages (from requests->dataframe-image) (2.0.4)\n",
      "Requirement already satisfied: idna<4,>=2.5 in /Users/vanotole/anaconda3/envs/clase_2024B/lib/python3.12/site-packages (from requests->dataframe-image) (3.7)\n",
      "Requirement already satisfied: urllib3<3,>=1.21.1 in /Users/vanotole/anaconda3/envs/clase_2024B/lib/python3.12/site-packages (from requests->dataframe-image) (2.2.2)\n",
      "Requirement already satisfied: certifi>=2017.4.17 in /Users/vanotole/anaconda3/envs/clase_2024B/lib/python3.12/site-packages (from requests->dataframe-image) (2024.6.2)\n",
      "Requirement already satisfied: six>=1.9.0 in /Users/vanotole/anaconda3/envs/clase_2024B/lib/python3.12/site-packages (from bleach!=5.0.0->nbconvert>=5->dataframe-image) (1.16.0)\n",
      "Requirement already satisfied: webencodings in /Users/vanotole/anaconda3/envs/clase_2024B/lib/python3.12/site-packages (from bleach!=5.0.0->nbconvert>=5->dataframe-image) (0.5.1)\n",
      "Requirement already satisfied: platformdirs>=2.5 in /Users/vanotole/anaconda3/envs/clase_2024B/lib/python3.12/site-packages (from jupyter-core>=4.7->nbconvert>=5->dataframe-image) (3.10.0)\n",
      "Requirement already satisfied: jupyter-client>=6.1.12 in /Users/vanotole/anaconda3/envs/clase_2024B/lib/python3.12/site-packages (from nbclient>=0.5.0->nbconvert>=5->dataframe-image) (8.6.0)\n",
      "Requirement already satisfied: fastjsonschema in /Users/vanotole/anaconda3/envs/clase_2024B/lib/python3.12/site-packages (from nbformat>=5.7->nbconvert>=5->dataframe-image) (2.16.2)\n",
      "Requirement already satisfied: jsonschema>=2.6 in /Users/vanotole/anaconda3/envs/clase_2024B/lib/python3.12/site-packages (from nbformat>=5.7->nbconvert>=5->dataframe-image) (4.19.2)\n",
      "Requirement already satisfied: jsonschema-specifications>=2023.03.6 in /Users/vanotole/anaconda3/envs/clase_2024B/lib/python3.12/site-packages (from jsonschema>=2.6->nbformat>=5.7->nbconvert>=5->dataframe-image) (2023.7.1)\n",
      "Requirement already satisfied: referencing>=0.28.4 in /Users/vanotole/anaconda3/envs/clase_2024B/lib/python3.12/site-packages (from jsonschema>=2.6->nbformat>=5.7->nbconvert>=5->dataframe-image) (0.30.2)\n",
      "Requirement already satisfied: rpds-py>=0.7.1 in /Users/vanotole/anaconda3/envs/clase_2024B/lib/python3.12/site-packages (from jsonschema>=2.6->nbformat>=5.7->nbconvert>=5->dataframe-image) (0.10.6)\n",
      "Requirement already satisfied: pyzmq>=23.0 in /Users/vanotole/anaconda3/envs/clase_2024B/lib/python3.12/site-packages (from jupyter-client>=6.1.12->nbclient>=0.5.0->nbconvert>=5->dataframe-image) (25.1.2)\n",
      "Requirement already satisfied: tornado>=6.2 in /Users/vanotole/anaconda3/envs/clase_2024B/lib/python3.12/site-packages (from jupyter-client>=6.1.12->nbclient>=0.5.0->nbconvert>=5->dataframe-image) (6.4.1)\n"
     ]
    }
   ],
   "source": [
    "# Instalación de dataframe_image\n",
    "# Para pasar un dataframe a una imagen\n",
    "\n",
    "!pip install dataframe-image"
   ]
  },
  {
   "cell_type": "markdown",
   "metadata": {},
   "source": [
    "## Librerías"
   ]
  },
  {
   "cell_type": "code",
   "execution_count": 3,
   "metadata": {},
   "outputs": [
    {
     "data": {
      "text/html": [
       "        <script type=\"text/javascript\">\n",
       "        window.PlotlyConfig = {MathJaxConfig: 'local'};\n",
       "        if (window.MathJax && window.MathJax.Hub && window.MathJax.Hub.Config) {window.MathJax.Hub.Config({SVG: {font: \"STIX-Web\"}});}\n",
       "        if (typeof require !== 'undefined') {\n",
       "        require.undef(\"plotly\");\n",
       "        requirejs.config({\n",
       "            paths: {\n",
       "                'plotly': ['https://cdn.plot.ly/plotly-2.32.0.min']\n",
       "            }\n",
       "        });\n",
       "        require(['plotly'], function(Plotly) {\n",
       "            window._Plotly = Plotly;\n",
       "        });\n",
       "        }\n",
       "        </script>\n",
       "        "
      ]
     },
     "metadata": {},
     "output_type": "display_data"
    },
    {
     "data": {
      "text/html": [
       "        <script type=\"text/javascript\">\n",
       "        window.PlotlyConfig = {MathJaxConfig: 'local'};\n",
       "        if (window.MathJax && window.MathJax.Hub && window.MathJax.Hub.Config) {window.MathJax.Hub.Config({SVG: {font: \"STIX-Web\"}});}\n",
       "        if (typeof require !== 'undefined') {\n",
       "        require.undef(\"plotly\");\n",
       "        requirejs.config({\n",
       "            paths: {\n",
       "                'plotly': ['https://cdn.plot.ly/plotly-2.32.0.min']\n",
       "            }\n",
       "        });\n",
       "        require(['plotly'], function(Plotly) {\n",
       "            window._Plotly = Plotly;\n",
       "        });\n",
       "        }\n",
       "        </script>\n",
       "        "
      ]
     },
     "metadata": {},
     "output_type": "display_data"
    }
   ],
   "source": [
    "# Librerías típicas \n",
    "import numpy as np\n",
    "import pandas as pd\n",
    "import os\n",
    "\n",
    "# Matplotlib\n",
    "import matplotlib.pyplot as plt\n",
    "%matplotlib inline\n",
    "\n",
    "# Seaborn\n",
    "import seaborn as sns\n",
    "\n",
    "# Plotly\n",
    "import chart_studio.plotly as py\n",
    "import cufflinks as cf\n",
    "import plotly.express as px\n",
    "import plotly.graph_objects as go\n",
    "from plotly.offline import download_plotlyjs, init_notebook_mode, plot, iplot # para que funcione plotly en jupyter notebook\n",
    "#init_notebook_mode(connected=True)\n",
    "init_notebook_mode(connected=True)\n",
    "cf.go_offline()\n",
    "\n",
    "# pptx\n",
    "from pptx import Presentation\n",
    "from pptx.util import Inches\n",
    "from pptx.chart.data import CategoryChartData\n",
    "from pptx.enum.chart import XL_CHART_TYPE\n",
    "\n",
    "# dataframe image\n",
    "import dataframe_image as dfi"
   ]
  },
  {
   "cell_type": "markdown",
   "metadata": {},
   "source": [
    "## Importación de datos\n",
    "\n",
    "El contexto de los datos utilizados puede revisarse en [Kaggle](https://www.kaggle.com/datasets/spscientist/students-performance-in-exams/data).\n",
    "\n",
    "Se tiene informaición de notas por estudiantes en algunos temas.\n"
   ]
  },
  {
   "cell_type": "code",
   "execution_count": 4,
   "metadata": {},
   "outputs": [
    {
     "data": {
      "text/html": [
       "<div>\n",
       "<style scoped>\n",
       "    .dataframe tbody tr th:only-of-type {\n",
       "        vertical-align: middle;\n",
       "    }\n",
       "\n",
       "    .dataframe tbody tr th {\n",
       "        vertical-align: top;\n",
       "    }\n",
       "\n",
       "    .dataframe thead th {\n",
       "        text-align: right;\n",
       "    }\n",
       "</style>\n",
       "<table border=\"1\" class=\"dataframe\">\n",
       "  <thead>\n",
       "    <tr style=\"text-align: right;\">\n",
       "      <th></th>\n",
       "      <th>gender</th>\n",
       "      <th>race/ethnicity</th>\n",
       "      <th>parental level of education</th>\n",
       "      <th>lunch</th>\n",
       "      <th>test preparation course</th>\n",
       "      <th>math score</th>\n",
       "      <th>reading score</th>\n",
       "      <th>writing score</th>\n",
       "    </tr>\n",
       "  </thead>\n",
       "  <tbody>\n",
       "    <tr>\n",
       "      <th>0</th>\n",
       "      <td>female</td>\n",
       "      <td>group B</td>\n",
       "      <td>bachelor's degree</td>\n",
       "      <td>standard</td>\n",
       "      <td>none</td>\n",
       "      <td>72</td>\n",
       "      <td>72</td>\n",
       "      <td>74</td>\n",
       "    </tr>\n",
       "    <tr>\n",
       "      <th>1</th>\n",
       "      <td>female</td>\n",
       "      <td>group C</td>\n",
       "      <td>some college</td>\n",
       "      <td>standard</td>\n",
       "      <td>completed</td>\n",
       "      <td>69</td>\n",
       "      <td>90</td>\n",
       "      <td>88</td>\n",
       "    </tr>\n",
       "    <tr>\n",
       "      <th>2</th>\n",
       "      <td>female</td>\n",
       "      <td>group B</td>\n",
       "      <td>master's degree</td>\n",
       "      <td>standard</td>\n",
       "      <td>none</td>\n",
       "      <td>90</td>\n",
       "      <td>95</td>\n",
       "      <td>93</td>\n",
       "    </tr>\n",
       "    <tr>\n",
       "      <th>3</th>\n",
       "      <td>male</td>\n",
       "      <td>group A</td>\n",
       "      <td>associate's degree</td>\n",
       "      <td>free/reduced</td>\n",
       "      <td>none</td>\n",
       "      <td>47</td>\n",
       "      <td>57</td>\n",
       "      <td>44</td>\n",
       "    </tr>\n",
       "    <tr>\n",
       "      <th>4</th>\n",
       "      <td>male</td>\n",
       "      <td>group C</td>\n",
       "      <td>some college</td>\n",
       "      <td>standard</td>\n",
       "      <td>none</td>\n",
       "      <td>76</td>\n",
       "      <td>78</td>\n",
       "      <td>75</td>\n",
       "    </tr>\n",
       "  </tbody>\n",
       "</table>\n",
       "</div>"
      ],
      "text/plain": [
       "   gender race/ethnicity parental level of education         lunch  \\\n",
       "0  female        group B           bachelor's degree      standard   \n",
       "1  female        group C                some college      standard   \n",
       "2  female        group B             master's degree      standard   \n",
       "3    male        group A          associate's degree  free/reduced   \n",
       "4    male        group C                some college      standard   \n",
       "\n",
       "  test preparation course  math score  reading score  writing score  \n",
       "0                    none          72             72             74  \n",
       "1               completed          69             90             88  \n",
       "2                    none          90             95             93  \n",
       "3                    none          47             57             44  \n",
       "4                    none          76             78             75  "
      ]
     },
     "execution_count": 4,
     "metadata": {},
     "output_type": "execute_result"
    }
   ],
   "source": [
    "df = pd.read_csv('../Datasets/StudentsPerformance.csv')\n",
    "df.head()"
   ]
  },
  {
   "cell_type": "code",
   "execution_count": 5,
   "metadata": {},
   "outputs": [
    {
     "name": "stdout",
     "output_type": "stream",
     "text": [
      "<class 'pandas.core.frame.DataFrame'>\n",
      "RangeIndex: 1000 entries, 0 to 999\n",
      "Data columns (total 8 columns):\n",
      " #   Column                       Non-Null Count  Dtype \n",
      "---  ------                       --------------  ----- \n",
      " 0   gender                       1000 non-null   object\n",
      " 1   race/ethnicity               1000 non-null   object\n",
      " 2   parental level of education  1000 non-null   object\n",
      " 3   lunch                        1000 non-null   object\n",
      " 4   test preparation course      1000 non-null   object\n",
      " 5   math score                   1000 non-null   int64 \n",
      " 6   reading score                1000 non-null   int64 \n",
      " 7   writing score                1000 non-null   int64 \n",
      "dtypes: int64(3), object(5)\n",
      "memory usage: 62.6+ KB\n"
     ]
    }
   ],
   "source": [
    "df.info()"
   ]
  },
  {
   "cell_type": "code",
   "execution_count": 6,
   "metadata": {},
   "outputs": [
    {
     "data": {
      "text/html": [
       "<div>\n",
       "<style scoped>\n",
       "    .dataframe tbody tr th:only-of-type {\n",
       "        vertical-align: middle;\n",
       "    }\n",
       "\n",
       "    .dataframe tbody tr th {\n",
       "        vertical-align: top;\n",
       "    }\n",
       "\n",
       "    .dataframe thead th {\n",
       "        text-align: right;\n",
       "    }\n",
       "</style>\n",
       "<table border=\"1\" class=\"dataframe\">\n",
       "  <thead>\n",
       "    <tr style=\"text-align: right;\">\n",
       "      <th></th>\n",
       "      <th>math score</th>\n",
       "      <th>reading score</th>\n",
       "      <th>writing score</th>\n",
       "    </tr>\n",
       "  </thead>\n",
       "  <tbody>\n",
       "    <tr>\n",
       "      <th>count</th>\n",
       "      <td>1000.00000</td>\n",
       "      <td>1000.000000</td>\n",
       "      <td>1000.000000</td>\n",
       "    </tr>\n",
       "    <tr>\n",
       "      <th>mean</th>\n",
       "      <td>66.08900</td>\n",
       "      <td>69.169000</td>\n",
       "      <td>68.054000</td>\n",
       "    </tr>\n",
       "    <tr>\n",
       "      <th>std</th>\n",
       "      <td>15.16308</td>\n",
       "      <td>14.600192</td>\n",
       "      <td>15.195657</td>\n",
       "    </tr>\n",
       "    <tr>\n",
       "      <th>min</th>\n",
       "      <td>0.00000</td>\n",
       "      <td>17.000000</td>\n",
       "      <td>10.000000</td>\n",
       "    </tr>\n",
       "    <tr>\n",
       "      <th>25%</th>\n",
       "      <td>57.00000</td>\n",
       "      <td>59.000000</td>\n",
       "      <td>57.750000</td>\n",
       "    </tr>\n",
       "    <tr>\n",
       "      <th>50%</th>\n",
       "      <td>66.00000</td>\n",
       "      <td>70.000000</td>\n",
       "      <td>69.000000</td>\n",
       "    </tr>\n",
       "    <tr>\n",
       "      <th>75%</th>\n",
       "      <td>77.00000</td>\n",
       "      <td>79.000000</td>\n",
       "      <td>79.000000</td>\n",
       "    </tr>\n",
       "    <tr>\n",
       "      <th>max</th>\n",
       "      <td>100.00000</td>\n",
       "      <td>100.000000</td>\n",
       "      <td>100.000000</td>\n",
       "    </tr>\n",
       "  </tbody>\n",
       "</table>\n",
       "</div>"
      ],
      "text/plain": [
       "       math score  reading score  writing score\n",
       "count  1000.00000    1000.000000    1000.000000\n",
       "mean     66.08900      69.169000      68.054000\n",
       "std      15.16308      14.600192      15.195657\n",
       "min       0.00000      17.000000      10.000000\n",
       "25%      57.00000      59.000000      57.750000\n",
       "50%      66.00000      70.000000      69.000000\n",
       "75%      77.00000      79.000000      79.000000\n",
       "max     100.00000     100.000000     100.000000"
      ]
     },
     "execution_count": 6,
     "metadata": {},
     "output_type": "execute_result"
    }
   ],
   "source": [
    "df.describe()"
   ]
  },
  {
   "cell_type": "code",
   "execution_count": 7,
   "metadata": {},
   "outputs": [
    {
     "name": "stdout",
     "output_type": "stream",
     "text": [
      "['female' 'male']\n",
      "['group B' 'group C' 'group A' 'group D' 'group E']\n",
      "[\"bachelor's degree\" 'some college' \"master's degree\" \"associate's degree\"\n",
      " 'high school' 'some high school']\n"
     ]
    }
   ],
   "source": [
    "#vemos valores únicos\n",
    "print(df['gender'].unique())\n",
    "print(df['race/ethnicity'].unique())\n",
    "print(df['parental level of education'].unique())"
   ]
  },
  {
   "cell_type": "markdown",
   "metadata": {},
   "source": [
    "## Modificaciones y agrupaciones\n",
    "\n",
    "* Definimos objetivos y preparamos los datos, haciendo las agrupaciones correspondientes.\n",
    "\n",
    "#### Exportación a imágenes\n",
    " * La exportación del DataFrame como imagen se realiza con la librería dataframe_image. Documentación se puede encontrar en el siguiente [link](https://pypi.org/project/dataframe-image/)."
   ]
  },
  {
   "cell_type": "code",
   "execution_count": 95,
   "metadata": {},
   "outputs": [],
   "source": [
    "# scores medios de las materias por género, raza y nivel educativo de los padres.\n",
    "# Necesitamos tres agrupaciones\n",
    "# Objetos tipo groupby\n",
    "\n",
    "gr_gender = df.groupby(\"gender\")\n",
    "gr_race = df.groupby(\"race/ethnicity\")\n",
    "gr_education = df.groupby(\"parental level of education\")"
   ]
  },
  {
   "cell_type": "code",
   "execution_count": 110,
   "metadata": {},
   "outputs": [
    {
     "data": {
      "text/html": [
       "<style type=\"text/css\">\n",
       "#T_fb4bf_row0_col1, #T_fb4bf_row1_col2, #T_fb4bf_row1_col3 {\n",
       "  background-color: #fff7fb;\n",
       "  color: #000000;\n",
       "}\n",
       "#T_fb4bf_row0_col2, #T_fb4bf_row0_col3, #T_fb4bf_row1_col1 {\n",
       "  background-color: #023858;\n",
       "  color: #f1f1f1;\n",
       "}\n",
       "</style>\n",
       "<table id=\"T_fb4bf\">\n",
       "  <thead>\n",
       "    <tr>\n",
       "      <th class=\"blank level0\" >&nbsp;</th>\n",
       "      <th id=\"T_fb4bf_level0_col0\" class=\"col_heading level0 col0\" >gender</th>\n",
       "      <th id=\"T_fb4bf_level0_col1\" class=\"col_heading level0 col1\" >math score</th>\n",
       "      <th id=\"T_fb4bf_level0_col2\" class=\"col_heading level0 col2\" >reading score</th>\n",
       "      <th id=\"T_fb4bf_level0_col3\" class=\"col_heading level0 col3\" >writing score</th>\n",
       "    </tr>\n",
       "  </thead>\n",
       "  <tbody>\n",
       "    <tr>\n",
       "      <th id=\"T_fb4bf_level0_row0\" class=\"row_heading level0 row0\" >0</th>\n",
       "      <td id=\"T_fb4bf_row0_col0\" class=\"data row0 col0\" >female</td>\n",
       "      <td id=\"T_fb4bf_row0_col1\" class=\"data row0 col1\" >63.633205</td>\n",
       "      <td id=\"T_fb4bf_row0_col2\" class=\"data row0 col2\" >72.608108</td>\n",
       "      <td id=\"T_fb4bf_row0_col3\" class=\"data row0 col3\" >72.467181</td>\n",
       "    </tr>\n",
       "    <tr>\n",
       "      <th id=\"T_fb4bf_level0_row1\" class=\"row_heading level0 row1\" >1</th>\n",
       "      <td id=\"T_fb4bf_row1_col0\" class=\"data row1 col0\" >male</td>\n",
       "      <td id=\"T_fb4bf_row1_col1\" class=\"data row1 col1\" >68.728216</td>\n",
       "      <td id=\"T_fb4bf_row1_col2\" class=\"data row1 col2\" >65.473029</td>\n",
       "      <td id=\"T_fb4bf_row1_col3\" class=\"data row1 col3\" >63.311203</td>\n",
       "    </tr>\n",
       "  </tbody>\n",
       "</table>\n"
      ],
      "text/plain": [
       "<pandas.io.formats.style.Styler at 0x14b807fb0>"
      ]
     },
     "execution_count": 110,
     "metadata": {},
     "output_type": "execute_result"
    }
   ],
   "source": [
    "# Extraemos estadística de estos grupos\n",
    "# Se resetea el índice para poder graficarlos después\n",
    "gender_dict = {\"math score\":\"mean\",\n",
    "                \"reading score\":\"mean\", \n",
    "                \"writing score\":\"mean\"}\n",
    "df_gender = gr_gender.agg(gender_dict)\n",
    "df_gender = df_gender.reset_index() # resetear indice para tener todo en columnas\n",
    "df_gender.to_csv('Output/score_mean_gender.csv',index=None) # exportación a archivo .csv\n",
    "df_gender.head()\n",
    "\n",
    "df_gender_styled = df_gender.style.background_gradient() # resaltar las cosas más grandes\n",
    "dfi.export(df_gender_styled,\"Output/df_gender.png\") # exportación del dataframe estilizado como imagen png\n",
    "df_gender_styled"
   ]
  },
  {
   "cell_type": "code",
   "execution_count": 111,
   "metadata": {},
   "outputs": [
    {
     "data": {
      "text/html": [
       "<style type=\"text/css\">\n",
       "#T_2cfcd_row0_col1, #T_2cfcd_row0_col2, #T_2cfcd_row0_col3 {\n",
       "  background-color: #fff7fb;\n",
       "  color: #000000;\n",
       "}\n",
       "#T_2cfcd_row1_col1 {\n",
       "  background-color: #e7e3f0;\n",
       "  color: #000000;\n",
       "}\n",
       "#T_2cfcd_row1_col2 {\n",
       "  background-color: #b8c6e0;\n",
       "  color: #000000;\n",
       "}\n",
       "#T_2cfcd_row1_col3 {\n",
       "  background-color: #b4c4df;\n",
       "  color: #000000;\n",
       "}\n",
       "#T_2cfcd_row2_col1 {\n",
       "  background-color: #d4d4e8;\n",
       "  color: #000000;\n",
       "}\n",
       "#T_2cfcd_row2_col2 {\n",
       "  background-color: #65a3cb;\n",
       "  color: #f1f1f1;\n",
       "}\n",
       "#T_2cfcd_row2_col3 {\n",
       "  background-color: #4697c4;\n",
       "  color: #f1f1f1;\n",
       "}\n",
       "#T_2cfcd_row3_col1 {\n",
       "  background-color: #80aed2;\n",
       "  color: #f1f1f1;\n",
       "}\n",
       "#T_2cfcd_row3_col2 {\n",
       "  background-color: #2f8bbe;\n",
       "  color: #f1f1f1;\n",
       "}\n",
       "#T_2cfcd_row3_col3 {\n",
       "  background-color: #045d92;\n",
       "  color: #f1f1f1;\n",
       "}\n",
       "#T_2cfcd_row4_col1, #T_2cfcd_row4_col2, #T_2cfcd_row4_col3 {\n",
       "  background-color: #023858;\n",
       "  color: #f1f1f1;\n",
       "}\n",
       "</style>\n",
       "<table id=\"T_2cfcd\">\n",
       "  <thead>\n",
       "    <tr>\n",
       "      <th class=\"blank level0\" >&nbsp;</th>\n",
       "      <th id=\"T_2cfcd_level0_col0\" class=\"col_heading level0 col0\" >race/ethnicity</th>\n",
       "      <th id=\"T_2cfcd_level0_col1\" class=\"col_heading level0 col1\" >math score</th>\n",
       "      <th id=\"T_2cfcd_level0_col2\" class=\"col_heading level0 col2\" >reading score</th>\n",
       "      <th id=\"T_2cfcd_level0_col3\" class=\"col_heading level0 col3\" >writing score</th>\n",
       "    </tr>\n",
       "  </thead>\n",
       "  <tbody>\n",
       "    <tr>\n",
       "      <th id=\"T_2cfcd_level0_row0\" class=\"row_heading level0 row0\" >0</th>\n",
       "      <td id=\"T_2cfcd_row0_col0\" class=\"data row0 col0\" >group A</td>\n",
       "      <td id=\"T_2cfcd_row0_col1\" class=\"data row0 col1\" >61.629213</td>\n",
       "      <td id=\"T_2cfcd_row0_col2\" class=\"data row0 col2\" >64.674157</td>\n",
       "      <td id=\"T_2cfcd_row0_col3\" class=\"data row0 col3\" >62.674157</td>\n",
       "    </tr>\n",
       "    <tr>\n",
       "      <th id=\"T_2cfcd_level0_row1\" class=\"row_heading level0 row1\" >1</th>\n",
       "      <td id=\"T_2cfcd_row1_col0\" class=\"data row1 col0\" >group B</td>\n",
       "      <td id=\"T_2cfcd_row1_col1\" class=\"data row1 col1\" >63.452632</td>\n",
       "      <td id=\"T_2cfcd_row1_col2\" class=\"data row1 col2\" >67.352632</td>\n",
       "      <td id=\"T_2cfcd_row1_col3\" class=\"data row1 col3\" >65.600000</td>\n",
       "    </tr>\n",
       "    <tr>\n",
       "      <th id=\"T_2cfcd_level0_row2\" class=\"row_heading level0 row2\" >2</th>\n",
       "      <td id=\"T_2cfcd_row2_col0\" class=\"data row2 col0\" >group C</td>\n",
       "      <td id=\"T_2cfcd_row2_col1\" class=\"data row2 col1\" >64.463950</td>\n",
       "      <td id=\"T_2cfcd_row2_col2\" class=\"data row2 col2\" >69.103448</td>\n",
       "      <td id=\"T_2cfcd_row2_col3\" class=\"data row2 col3\" >67.827586</td>\n",
       "    </tr>\n",
       "    <tr>\n",
       "      <th id=\"T_2cfcd_level0_row3\" class=\"row_heading level0 row3\" >3</th>\n",
       "      <td id=\"T_2cfcd_row3_col0\" class=\"data row3 col0\" >group D</td>\n",
       "      <td id=\"T_2cfcd_row3_col1\" class=\"data row3 col1\" >67.362595</td>\n",
       "      <td id=\"T_2cfcd_row3_col2\" class=\"data row3 col2\" >70.030534</td>\n",
       "      <td id=\"T_2cfcd_row3_col3\" class=\"data row3 col3\" >70.145038</td>\n",
       "    </tr>\n",
       "    <tr>\n",
       "      <th id=\"T_2cfcd_level0_row4\" class=\"row_heading level0 row4\" >4</th>\n",
       "      <td id=\"T_2cfcd_row4_col0\" class=\"data row4 col0\" >group E</td>\n",
       "      <td id=\"T_2cfcd_row4_col1\" class=\"data row4 col1\" >73.821429</td>\n",
       "      <td id=\"T_2cfcd_row4_col2\" class=\"data row4 col2\" >73.028571</td>\n",
       "      <td id=\"T_2cfcd_row4_col3\" class=\"data row4 col3\" >71.407143</td>\n",
       "    </tr>\n",
       "  </tbody>\n",
       "</table>\n"
      ],
      "text/plain": [
       "<pandas.io.formats.style.Styler at 0x13dd994f0>"
      ]
     },
     "execution_count": 111,
     "metadata": {},
     "output_type": "execute_result"
    }
   ],
   "source": [
    "race_dict = {\"math score\":\"mean\",\n",
    "                \"reading score\":\"mean\", \n",
    "                \"writing score\":\"mean\"}\n",
    "df_race = gr_race.agg(gender_dict)\n",
    "df_race = df_race.reset_index() # resetear indice para tener todo en columnas\n",
    "df_race.to_csv('Output/score_mean_race.csv',index=None) # exportación a archivo .csv\n",
    "df_race.head()\n",
    "\n",
    "df_race_styled = df_race.style.background_gradient() # resaltar las cosas más grandes\n",
    "dfi.export(df_race_styled,\"Output/df_race.png\") # exportación del dataframe estilizado como imagen png\n",
    "df_race_styled\n"
   ]
  },
  {
   "cell_type": "code",
   "execution_count": 112,
   "metadata": {},
   "outputs": [
    {
     "data": {
      "text/html": [
       "<style type=\"text/css\">\n",
       "#T_92880_row0_col1 {\n",
       "  background-color: #056fae;\n",
       "  color: #f1f1f1;\n",
       "}\n",
       "#T_92880_row0_col2 {\n",
       "  background-color: #4a98c5;\n",
       "  color: #f1f1f1;\n",
       "}\n",
       "#T_92880_row0_col3 {\n",
       "  background-color: #549cc7;\n",
       "  color: #f1f1f1;\n",
       "}\n",
       "#T_92880_row1_col1 {\n",
       "  background-color: #03446a;\n",
       "  color: #f1f1f1;\n",
       "}\n",
       "#T_92880_row1_col2 {\n",
       "  background-color: #056ba7;\n",
       "  color: #f1f1f1;\n",
       "}\n",
       "#T_92880_row1_col3 {\n",
       "  background-color: #04629a;\n",
       "  color: #f1f1f1;\n",
       "}\n",
       "#T_92880_row2_col1, #T_92880_row2_col2, #T_92880_row2_col3 {\n",
       "  background-color: #fff7fb;\n",
       "  color: #000000;\n",
       "}\n",
       "#T_92880_row3_col1, #T_92880_row3_col2, #T_92880_row3_col3 {\n",
       "  background-color: #023858;\n",
       "  color: #f1f1f1;\n",
       "}\n",
       "#T_92880_row4_col1 {\n",
       "  background-color: #2a88bc;\n",
       "  color: #f1f1f1;\n",
       "}\n",
       "#T_92880_row4_col2 {\n",
       "  background-color: #89b1d4;\n",
       "  color: #000000;\n",
       "}\n",
       "#T_92880_row4_col3 {\n",
       "  background-color: #7bacd1;\n",
       "  color: #f1f1f1;\n",
       "}\n",
       "#T_92880_row5_col1 {\n",
       "  background-color: #e0deed;\n",
       "  color: #000000;\n",
       "}\n",
       "#T_92880_row5_col2 {\n",
       "  background-color: #d9d8ea;\n",
       "  color: #000000;\n",
       "}\n",
       "#T_92880_row5_col3 {\n",
       "  background-color: #dfddec;\n",
       "  color: #000000;\n",
       "}\n",
       "</style>\n",
       "<table id=\"T_92880\">\n",
       "  <thead>\n",
       "    <tr>\n",
       "      <th class=\"blank level0\" >&nbsp;</th>\n",
       "      <th id=\"T_92880_level0_col0\" class=\"col_heading level0 col0\" >parental level of education</th>\n",
       "      <th id=\"T_92880_level0_col1\" class=\"col_heading level0 col1\" >math score</th>\n",
       "      <th id=\"T_92880_level0_col2\" class=\"col_heading level0 col2\" >reading score</th>\n",
       "      <th id=\"T_92880_level0_col3\" class=\"col_heading level0 col3\" >writing score</th>\n",
       "    </tr>\n",
       "  </thead>\n",
       "  <tbody>\n",
       "    <tr>\n",
       "      <th id=\"T_92880_level0_row0\" class=\"row_heading level0 row0\" >0</th>\n",
       "      <td id=\"T_92880_row0_col0\" class=\"data row0 col0\" >associate's degree</td>\n",
       "      <td id=\"T_92880_row0_col1\" class=\"data row0 col1\" >67.882883</td>\n",
       "      <td id=\"T_92880_row0_col2\" class=\"data row0 col2\" >70.927928</td>\n",
       "      <td id=\"T_92880_row0_col3\" class=\"data row0 col3\" >69.896396</td>\n",
       "    </tr>\n",
       "    <tr>\n",
       "      <th id=\"T_92880_level0_row1\" class=\"row_heading level0 row1\" >1</th>\n",
       "      <td id=\"T_92880_row1_col0\" class=\"data row1 col0\" >bachelor's degree</td>\n",
       "      <td id=\"T_92880_row1_col1\" class=\"data row1 col1\" >69.389831</td>\n",
       "      <td id=\"T_92880_row1_col2\" class=\"data row1 col2\" >73.000000</td>\n",
       "      <td id=\"T_92880_row1_col3\" class=\"data row1 col3\" >73.381356</td>\n",
       "    </tr>\n",
       "    <tr>\n",
       "      <th id=\"T_92880_level0_row2\" class=\"row_heading level0 row2\" >2</th>\n",
       "      <td id=\"T_92880_row2_col0\" class=\"data row2 col0\" >high school</td>\n",
       "      <td id=\"T_92880_row2_col1\" class=\"data row2 col1\" >62.137755</td>\n",
       "      <td id=\"T_92880_row2_col2\" class=\"data row2 col2\" >64.704082</td>\n",
       "      <td id=\"T_92880_row2_col3\" class=\"data row2 col3\" >62.448980</td>\n",
       "    </tr>\n",
       "    <tr>\n",
       "      <th id=\"T_92880_level0_row3\" class=\"row_heading level0 row3\" >3</th>\n",
       "      <td id=\"T_92880_row3_col0\" class=\"data row3 col0\" >master's degree</td>\n",
       "      <td id=\"T_92880_row3_col1\" class=\"data row3 col1\" >69.745763</td>\n",
       "      <td id=\"T_92880_row3_col2\" class=\"data row3 col2\" >75.372881</td>\n",
       "      <td id=\"T_92880_row3_col3\" class=\"data row3 col3\" >75.677966</td>\n",
       "    </tr>\n",
       "    <tr>\n",
       "      <th id=\"T_92880_level0_row4\" class=\"row_heading level0 row4\" >4</th>\n",
       "      <td id=\"T_92880_row4_col0\" class=\"data row4 col0\" >some college</td>\n",
       "      <td id=\"T_92880_row4_col1\" class=\"data row4 col1\" >67.128319</td>\n",
       "      <td id=\"T_92880_row4_col2\" class=\"data row4 col2\" >69.460177</td>\n",
       "      <td id=\"T_92880_row4_col3\" class=\"data row4 col3\" >68.840708</td>\n",
       "    </tr>\n",
       "    <tr>\n",
       "      <th id=\"T_92880_level0_row5\" class=\"row_heading level0 row5\" >5</th>\n",
       "      <td id=\"T_92880_row5_col0\" class=\"data row5 col0\" >some high school</td>\n",
       "      <td id=\"T_92880_row5_col1\" class=\"data row5 col1\" >63.497207</td>\n",
       "      <td id=\"T_92880_row5_col2\" class=\"data row5 col2\" >66.938547</td>\n",
       "      <td id=\"T_92880_row5_col3\" class=\"data row5 col3\" >64.888268</td>\n",
       "    </tr>\n",
       "  </tbody>\n",
       "</table>\n"
      ],
      "text/plain": [
       "<pandas.io.formats.style.Styler at 0x14b806c90>"
      ]
     },
     "execution_count": 112,
     "metadata": {},
     "output_type": "execute_result"
    }
   ],
   "source": [
    "education_dict = {\"math score\":\"mean\",\n",
    "                \"reading score\":\"mean\", \n",
    "                \"writing score\":\"mean\"}\n",
    "df_education = gr_education.agg(gender_dict)\n",
    "df_education = df_education.reset_index() # resetear indice para tener todo en columnas\n",
    "df_education.to_csv('Output/score_mean_education.csv',index=None) # exportación a archivo .csv\n",
    "df_education.head()\n",
    "\n",
    "df_education_styled = df_education.style.background_gradient() # resaltar las cosas más grandes\n",
    "dfi.export(df_education_styled,\"Output/df_education.png\") # exportación del dataframe estilizado como imagen png\n",
    "df_education_styled\n"
   ]
  },
  {
   "cell_type": "code",
   "execution_count": 113,
   "metadata": {},
   "outputs": [],
   "source": [
    "## exportar tres dataframes en un solo archivo excel con Pandas\n",
    "\n",
    "with pd.ExcelWriter('Output/Means_table.xlsx') as excel_file:\n",
    "    df_gender.to_excel(excel_file, sheet_name=\"Gender\", index=False, header=True)\n",
    "    df_race.to_excel(excel_file, sheet_name=\"Race\", index=False, header=True)\n",
    "    df_education.to_excel(excel_file, sheet_name=\"Education\", index=False, header=True)"
   ]
  },
  {
   "cell_type": "markdown",
   "metadata": {},
   "source": [
    "Entonces ya tengo tres dataframes que me permiten ver como varian la media de scores por materia, agrupando por género, raza y educación de los padres, por separado.\n",
    "\n",
    "Estas tablas las podemos exportar a excel o a csv.\n",
    "\n",
    "El dataframe original puede ser utilizado para hacer gráficos de barras. Sin embargo, por su formato, sería mejor modificar el score, y ponerlo en una sola columna el valor, y crear otras que te digan el subject."
   ]
  },
  {
   "cell_type": "code",
   "execution_count": 10,
   "metadata": {},
   "outputs": [
    {
     "data": {
      "text/plain": [
       "Index(['gender', 'race/ethnicity', 'parental level of education', 'lunch',\n",
       "       'test preparation course', 'math score', 'reading score',\n",
       "       'writing score'],\n",
       "      dtype='object')"
      ]
     },
     "execution_count": 10,
     "metadata": {},
     "output_type": "execute_result"
    }
   ],
   "source": [
    "df.columns"
   ]
  },
  {
   "cell_type": "code",
   "execution_count": 13,
   "metadata": {},
   "outputs": [
    {
     "data": {
      "text/html": [
       "<div>\n",
       "<style scoped>\n",
       "    .dataframe tbody tr th:only-of-type {\n",
       "        vertical-align: middle;\n",
       "    }\n",
       "\n",
       "    .dataframe tbody tr th {\n",
       "        vertical-align: top;\n",
       "    }\n",
       "\n",
       "    .dataframe thead th {\n",
       "        text-align: right;\n",
       "    }\n",
       "</style>\n",
       "<table border=\"1\" class=\"dataframe\">\n",
       "  <thead>\n",
       "    <tr style=\"text-align: right;\">\n",
       "      <th></th>\n",
       "      <th>gender</th>\n",
       "      <th>race/ethnicity</th>\n",
       "      <th>parental level of education</th>\n",
       "      <th>lunch</th>\n",
       "      <th>test preparation course</th>\n",
       "      <th>math</th>\n",
       "      <th>reading</th>\n",
       "      <th>writing</th>\n",
       "    </tr>\n",
       "  </thead>\n",
       "  <tbody>\n",
       "    <tr>\n",
       "      <th>0</th>\n",
       "      <td>female</td>\n",
       "      <td>group B</td>\n",
       "      <td>bachelor's degree</td>\n",
       "      <td>standard</td>\n",
       "      <td>none</td>\n",
       "      <td>72</td>\n",
       "      <td>72</td>\n",
       "      <td>74</td>\n",
       "    </tr>\n",
       "    <tr>\n",
       "      <th>1</th>\n",
       "      <td>female</td>\n",
       "      <td>group C</td>\n",
       "      <td>some college</td>\n",
       "      <td>standard</td>\n",
       "      <td>completed</td>\n",
       "      <td>69</td>\n",
       "      <td>90</td>\n",
       "      <td>88</td>\n",
       "    </tr>\n",
       "    <tr>\n",
       "      <th>2</th>\n",
       "      <td>female</td>\n",
       "      <td>group B</td>\n",
       "      <td>master's degree</td>\n",
       "      <td>standard</td>\n",
       "      <td>none</td>\n",
       "      <td>90</td>\n",
       "      <td>95</td>\n",
       "      <td>93</td>\n",
       "    </tr>\n",
       "    <tr>\n",
       "      <th>3</th>\n",
       "      <td>male</td>\n",
       "      <td>group A</td>\n",
       "      <td>associate's degree</td>\n",
       "      <td>free/reduced</td>\n",
       "      <td>none</td>\n",
       "      <td>47</td>\n",
       "      <td>57</td>\n",
       "      <td>44</td>\n",
       "    </tr>\n",
       "    <tr>\n",
       "      <th>4</th>\n",
       "      <td>male</td>\n",
       "      <td>group C</td>\n",
       "      <td>some college</td>\n",
       "      <td>standard</td>\n",
       "      <td>none</td>\n",
       "      <td>76</td>\n",
       "      <td>78</td>\n",
       "      <td>75</td>\n",
       "    </tr>\n",
       "  </tbody>\n",
       "</table>\n",
       "</div>"
      ],
      "text/plain": [
       "   gender race/ethnicity parental level of education         lunch  \\\n",
       "0  female        group B           bachelor's degree      standard   \n",
       "1  female        group C                some college      standard   \n",
       "2  female        group B             master's degree      standard   \n",
       "3    male        group A          associate's degree  free/reduced   \n",
       "4    male        group C                some college      standard   \n",
       "\n",
       "  test preparation course  math  reading  writing  \n",
       "0                    none    72       72       74  \n",
       "1               completed    69       90       88  \n",
       "2                    none    90       95       93  \n",
       "3                    none    47       57       44  \n",
       "4                    none    76       78       75  "
      ]
     },
     "execution_count": 13,
     "metadata": {},
     "output_type": "execute_result"
    }
   ],
   "source": [
    "df = pd.read_csv('../Datasets/StudentsPerformance.csv')\n",
    "df.columns = ['gender', 'race/ethnicity', 'parental level of education', 'lunch',\n",
    "             'test preparation course', 'math', 'reading',\n",
    "             'writing']\n",
    "df.head()"
   ]
  },
  {
   "cell_type": "code",
   "execution_count": 16,
   "metadata": {},
   "outputs": [
    {
     "data": {
      "text/html": [
       "<div>\n",
       "<style scoped>\n",
       "    .dataframe tbody tr th:only-of-type {\n",
       "        vertical-align: middle;\n",
       "    }\n",
       "\n",
       "    .dataframe tbody tr th {\n",
       "        vertical-align: top;\n",
       "    }\n",
       "\n",
       "    .dataframe thead th {\n",
       "        text-align: right;\n",
       "    }\n",
       "</style>\n",
       "<table border=\"1\" class=\"dataframe\">\n",
       "  <thead>\n",
       "    <tr style=\"text-align: right;\">\n",
       "      <th></th>\n",
       "      <th>gender</th>\n",
       "      <th>race/ethnicity</th>\n",
       "      <th>parental level of education</th>\n",
       "      <th>test preparation course</th>\n",
       "      <th>subject</th>\n",
       "      <th>score</th>\n",
       "    </tr>\n",
       "  </thead>\n",
       "  <tbody>\n",
       "    <tr>\n",
       "      <th>2995</th>\n",
       "      <td>female</td>\n",
       "      <td>group E</td>\n",
       "      <td>master's degree</td>\n",
       "      <td>completed</td>\n",
       "      <td>writing</td>\n",
       "      <td>95</td>\n",
       "    </tr>\n",
       "    <tr>\n",
       "      <th>2996</th>\n",
       "      <td>male</td>\n",
       "      <td>group C</td>\n",
       "      <td>high school</td>\n",
       "      <td>none</td>\n",
       "      <td>writing</td>\n",
       "      <td>55</td>\n",
       "    </tr>\n",
       "    <tr>\n",
       "      <th>2997</th>\n",
       "      <td>female</td>\n",
       "      <td>group C</td>\n",
       "      <td>high school</td>\n",
       "      <td>completed</td>\n",
       "      <td>writing</td>\n",
       "      <td>65</td>\n",
       "    </tr>\n",
       "    <tr>\n",
       "      <th>2998</th>\n",
       "      <td>female</td>\n",
       "      <td>group D</td>\n",
       "      <td>some college</td>\n",
       "      <td>completed</td>\n",
       "      <td>writing</td>\n",
       "      <td>77</td>\n",
       "    </tr>\n",
       "    <tr>\n",
       "      <th>2999</th>\n",
       "      <td>female</td>\n",
       "      <td>group D</td>\n",
       "      <td>some college</td>\n",
       "      <td>none</td>\n",
       "      <td>writing</td>\n",
       "      <td>86</td>\n",
       "    </tr>\n",
       "  </tbody>\n",
       "</table>\n",
       "</div>"
      ],
      "text/plain": [
       "      gender race/ethnicity parental level of education  \\\n",
       "2995  female        group E             master's degree   \n",
       "2996    male        group C                 high school   \n",
       "2997  female        group C                 high school   \n",
       "2998  female        group D                some college   \n",
       "2999  female        group D                some college   \n",
       "\n",
       "     test preparation course  subject  score  \n",
       "2995               completed  writing     95  \n",
       "2996                    none  writing     55  \n",
       "2997               completed  writing     65  \n",
       "2998               completed  writing     77  \n",
       "2999                    none  writing     86  "
      ]
     },
     "execution_count": 16,
     "metadata": {},
     "output_type": "execute_result"
    }
   ],
   "source": [
    "df_alt = pd.melt(frame=df,\n",
    "                 id_vars=[\"gender\",\"race/ethnicity\",\"parental level of education\",\"test preparation course\"],\n",
    "                 value_vars=[\"math\",\"reading\",\"writing\"],\n",
    "                 value_name=\"score\",\n",
    "                 var_name='subject')\n",
    "df_alt.tail()\n"
   ]
  },
  {
   "cell_type": "code",
   "execution_count": 62,
   "metadata": {},
   "outputs": [
    {
     "data": {
      "text/html": [
       "<div>\n",
       "<style scoped>\n",
       "    .dataframe tbody tr th:only-of-type {\n",
       "        vertical-align: middle;\n",
       "    }\n",
       "\n",
       "    .dataframe tbody tr th {\n",
       "        vertical-align: top;\n",
       "    }\n",
       "\n",
       "    .dataframe thead th {\n",
       "        text-align: right;\n",
       "    }\n",
       "</style>\n",
       "<table border=\"1\" class=\"dataframe\">\n",
       "  <thead>\n",
       "    <tr style=\"text-align: right;\">\n",
       "      <th></th>\n",
       "      <th>parental level of education</th>\n",
       "      <th>race/ethnicity</th>\n",
       "      <th>gender</th>\n",
       "      <th>score</th>\n",
       "    </tr>\n",
       "  </thead>\n",
       "  <tbody>\n",
       "    <tr>\n",
       "      <th>0</th>\n",
       "      <td>associate's degree</td>\n",
       "      <td>group A</td>\n",
       "      <td>female</td>\n",
       "      <td>65.277778</td>\n",
       "    </tr>\n",
       "    <tr>\n",
       "      <th>1</th>\n",
       "      <td>associate's degree</td>\n",
       "      <td>group A</td>\n",
       "      <td>male</td>\n",
       "      <td>62.833333</td>\n",
       "    </tr>\n",
       "    <tr>\n",
       "      <th>2</th>\n",
       "      <td>associate's degree</td>\n",
       "      <td>group B</td>\n",
       "      <td>female</td>\n",
       "      <td>68.840580</td>\n",
       "    </tr>\n",
       "    <tr>\n",
       "      <th>3</th>\n",
       "      <td>associate's degree</td>\n",
       "      <td>group B</td>\n",
       "      <td>male</td>\n",
       "      <td>66.870370</td>\n",
       "    </tr>\n",
       "    <tr>\n",
       "      <th>4</th>\n",
       "      <td>associate's degree</td>\n",
       "      <td>group C</td>\n",
       "      <td>female</td>\n",
       "      <td>70.785185</td>\n",
       "    </tr>\n",
       "  </tbody>\n",
       "</table>\n",
       "</div>"
      ],
      "text/plain": [
       "  parental level of education race/ethnicity  gender      score\n",
       "0          associate's degree        group A  female  65.277778\n",
       "1          associate's degree        group A    male  62.833333\n",
       "2          associate's degree        group B  female  68.840580\n",
       "3          associate's degree        group B    male  66.870370\n",
       "4          associate's degree        group C  female  70.785185"
      ]
     },
     "execution_count": 62,
     "metadata": {},
     "output_type": "execute_result"
    }
   ],
   "source": [
    "gr_education_alt = df_alt.groupby([\"parental level of education\",\"race/ethnicity\",\"gender\"])\n",
    "education_dict_alt = {\"score\":\"mean\"}\n",
    "df_education_alt = gr_education_alt.agg(education_dict_alt)\n",
    "df_education_alt = df_education_alt.reset_index()\n",
    "df_education_alt.head()"
   ]
  },
  {
   "cell_type": "code",
   "execution_count": 122,
   "metadata": {},
   "outputs": [
    {
     "data": {
      "application/vnd.plotly.v1+json": {
       "config": {
        "plotlyServerURL": "https://plot.ly"
       },
       "data": [
        {
         "alignmentgroup": "True",
         "hovertemplate": "gender=female<br>parental level of education=%{x}<br>score=%{y}<extra></extra>",
         "legendgroup": "female",
         "marker": {
          "color": "#636efa",
          "pattern": {
           "shape": ""
          }
         },
         "name": "female",
         "offsetgroup": "female",
         "orientation": "v",
         "showlegend": true,
         "textposition": "auto",
         "type": "bar",
         "x": [
          "associate's degree",
          "associate's degree",
          "associate's degree",
          "associate's degree",
          "associate's degree",
          "bachelor's degree",
          "bachelor's degree",
          "bachelor's degree",
          "bachelor's degree",
          "bachelor's degree",
          "high school",
          "high school",
          "high school",
          "high school",
          "high school",
          "master's degree",
          "master's degree",
          "master's degree",
          "master's degree",
          "master's degree",
          "some college",
          "some college",
          "some college",
          "some college",
          "some college",
          "some high school",
          "some high school",
          "some high school",
          "some high school",
          "some high school"
         ],
         "xaxis": "x",
         "y": [
          65.27777777777777,
          68.84057971014492,
          70.78518518518518,
          69.88888888888889,
          78.48148148148148,
          57.77777777777778,
          77.0909090909091,
          74.02564102564102,
          76,
          77.03333333333333,
          66.14285714285714,
          64.95238095238095,
          61.87777777777778,
          66.31372549019608,
          68.41666666666667,
          58.5,
          79.53333333333333,
          69.71428571428571,
          73.4888888888889,
          78.04761904761905,
          67.83333333333333,
          66.46666666666667,
          70.02272727272727,
          73.93333333333334,
          73.125,
          65.7,
          62.56060606060606,
          64.64285714285714,
          69.32,
          65
         ],
         "yaxis": "y"
        },
        {
         "alignmentgroup": "True",
         "hovertemplate": "gender=male<br>parental level of education=%{x}<br>score=%{y}<extra></extra>",
         "legendgroup": "male",
         "marker": {
          "color": "#EF553B",
          "pattern": {
           "shape": ""
          }
         },
         "name": "male",
         "offsetgroup": "male",
         "orientation": "v",
         "showlegend": true,
         "textposition": "auto",
         "type": "bar",
         "x": [
          "associate's degree",
          "associate's degree",
          "associate's degree",
          "associate's degree",
          "associate's degree",
          "bachelor's degree",
          "bachelor's degree",
          "bachelor's degree",
          "bachelor's degree",
          "bachelor's degree",
          "high school",
          "high school",
          "high school",
          "high school",
          "high school",
          "master's degree",
          "master's degree",
          "master's degree",
          "master's degree",
          "master's degree",
          "some college",
          "some college",
          "some college",
          "some college",
          "some college",
          "some high school",
          "some high school",
          "some high school",
          "some high school",
          "some high school"
         ],
         "xaxis": "x",
         "y": [
          62.833333333333336,
          66.87037037037037,
          67.45454545454545,
          68.82051282051282,
          70.11111111111111,
          71.22222222222223,
          64.22222222222223,
          71.78571428571429,
          64.55555555555556,
          73.79166666666667,
          58.18181818181818,
          56.666666666666664,
          62.72549019607843,
          61.69135802469136,
          70.9,
          73,
          51.333333333333336,
          68.63888888888889,
          82.08333333333333,
          86.33333333333333,
          62.53333333333333,
          62.95454545454545,
          63.906666666666666,
          66.61458333333333,
          71.45614035087719,
          55.69047619047619,
          66.66666666666667,
          61.17460317460318,
          67.90666666666667,
          71.61111111111111
         ],
         "yaxis": "y"
        }
       ],
       "layout": {
        "barmode": "group",
        "legend": {
         "title": {
          "text": "gender"
         },
         "tracegroupgap": 0
        },
        "margin": {
         "t": 60
        },
        "template": {
         "data": {
          "bar": [
           {
            "error_x": {
             "color": "#2a3f5f"
            },
            "error_y": {
             "color": "#2a3f5f"
            },
            "marker": {
             "line": {
              "color": "#E5ECF6",
              "width": 0.5
             },
             "pattern": {
              "fillmode": "overlay",
              "size": 10,
              "solidity": 0.2
             }
            },
            "type": "bar"
           }
          ],
          "barpolar": [
           {
            "marker": {
             "line": {
              "color": "#E5ECF6",
              "width": 0.5
             },
             "pattern": {
              "fillmode": "overlay",
              "size": 10,
              "solidity": 0.2
             }
            },
            "type": "barpolar"
           }
          ],
          "carpet": [
           {
            "aaxis": {
             "endlinecolor": "#2a3f5f",
             "gridcolor": "white",
             "linecolor": "white",
             "minorgridcolor": "white",
             "startlinecolor": "#2a3f5f"
            },
            "baxis": {
             "endlinecolor": "#2a3f5f",
             "gridcolor": "white",
             "linecolor": "white",
             "minorgridcolor": "white",
             "startlinecolor": "#2a3f5f"
            },
            "type": "carpet"
           }
          ],
          "choropleth": [
           {
            "colorbar": {
             "outlinewidth": 0,
             "ticks": ""
            },
            "type": "choropleth"
           }
          ],
          "contour": [
           {
            "colorbar": {
             "outlinewidth": 0,
             "ticks": ""
            },
            "colorscale": [
             [
              0,
              "#0d0887"
             ],
             [
              0.1111111111111111,
              "#46039f"
             ],
             [
              0.2222222222222222,
              "#7201a8"
             ],
             [
              0.3333333333333333,
              "#9c179e"
             ],
             [
              0.4444444444444444,
              "#bd3786"
             ],
             [
              0.5555555555555556,
              "#d8576b"
             ],
             [
              0.6666666666666666,
              "#ed7953"
             ],
             [
              0.7777777777777778,
              "#fb9f3a"
             ],
             [
              0.8888888888888888,
              "#fdca26"
             ],
             [
              1,
              "#f0f921"
             ]
            ],
            "type": "contour"
           }
          ],
          "contourcarpet": [
           {
            "colorbar": {
             "outlinewidth": 0,
             "ticks": ""
            },
            "type": "contourcarpet"
           }
          ],
          "heatmap": [
           {
            "colorbar": {
             "outlinewidth": 0,
             "ticks": ""
            },
            "colorscale": [
             [
              0,
              "#0d0887"
             ],
             [
              0.1111111111111111,
              "#46039f"
             ],
             [
              0.2222222222222222,
              "#7201a8"
             ],
             [
              0.3333333333333333,
              "#9c179e"
             ],
             [
              0.4444444444444444,
              "#bd3786"
             ],
             [
              0.5555555555555556,
              "#d8576b"
             ],
             [
              0.6666666666666666,
              "#ed7953"
             ],
             [
              0.7777777777777778,
              "#fb9f3a"
             ],
             [
              0.8888888888888888,
              "#fdca26"
             ],
             [
              1,
              "#f0f921"
             ]
            ],
            "type": "heatmap"
           }
          ],
          "heatmapgl": [
           {
            "colorbar": {
             "outlinewidth": 0,
             "ticks": ""
            },
            "colorscale": [
             [
              0,
              "#0d0887"
             ],
             [
              0.1111111111111111,
              "#46039f"
             ],
             [
              0.2222222222222222,
              "#7201a8"
             ],
             [
              0.3333333333333333,
              "#9c179e"
             ],
             [
              0.4444444444444444,
              "#bd3786"
             ],
             [
              0.5555555555555556,
              "#d8576b"
             ],
             [
              0.6666666666666666,
              "#ed7953"
             ],
             [
              0.7777777777777778,
              "#fb9f3a"
             ],
             [
              0.8888888888888888,
              "#fdca26"
             ],
             [
              1,
              "#f0f921"
             ]
            ],
            "type": "heatmapgl"
           }
          ],
          "histogram": [
           {
            "marker": {
             "pattern": {
              "fillmode": "overlay",
              "size": 10,
              "solidity": 0.2
             }
            },
            "type": "histogram"
           }
          ],
          "histogram2d": [
           {
            "colorbar": {
             "outlinewidth": 0,
             "ticks": ""
            },
            "colorscale": [
             [
              0,
              "#0d0887"
             ],
             [
              0.1111111111111111,
              "#46039f"
             ],
             [
              0.2222222222222222,
              "#7201a8"
             ],
             [
              0.3333333333333333,
              "#9c179e"
             ],
             [
              0.4444444444444444,
              "#bd3786"
             ],
             [
              0.5555555555555556,
              "#d8576b"
             ],
             [
              0.6666666666666666,
              "#ed7953"
             ],
             [
              0.7777777777777778,
              "#fb9f3a"
             ],
             [
              0.8888888888888888,
              "#fdca26"
             ],
             [
              1,
              "#f0f921"
             ]
            ],
            "type": "histogram2d"
           }
          ],
          "histogram2dcontour": [
           {
            "colorbar": {
             "outlinewidth": 0,
             "ticks": ""
            },
            "colorscale": [
             [
              0,
              "#0d0887"
             ],
             [
              0.1111111111111111,
              "#46039f"
             ],
             [
              0.2222222222222222,
              "#7201a8"
             ],
             [
              0.3333333333333333,
              "#9c179e"
             ],
             [
              0.4444444444444444,
              "#bd3786"
             ],
             [
              0.5555555555555556,
              "#d8576b"
             ],
             [
              0.6666666666666666,
              "#ed7953"
             ],
             [
              0.7777777777777778,
              "#fb9f3a"
             ],
             [
              0.8888888888888888,
              "#fdca26"
             ],
             [
              1,
              "#f0f921"
             ]
            ],
            "type": "histogram2dcontour"
           }
          ],
          "mesh3d": [
           {
            "colorbar": {
             "outlinewidth": 0,
             "ticks": ""
            },
            "type": "mesh3d"
           }
          ],
          "parcoords": [
           {
            "line": {
             "colorbar": {
              "outlinewidth": 0,
              "ticks": ""
             }
            },
            "type": "parcoords"
           }
          ],
          "pie": [
           {
            "automargin": true,
            "type": "pie"
           }
          ],
          "scatter": [
           {
            "fillpattern": {
             "fillmode": "overlay",
             "size": 10,
             "solidity": 0.2
            },
            "type": "scatter"
           }
          ],
          "scatter3d": [
           {
            "line": {
             "colorbar": {
              "outlinewidth": 0,
              "ticks": ""
             }
            },
            "marker": {
             "colorbar": {
              "outlinewidth": 0,
              "ticks": ""
             }
            },
            "type": "scatter3d"
           }
          ],
          "scattercarpet": [
           {
            "marker": {
             "colorbar": {
              "outlinewidth": 0,
              "ticks": ""
             }
            },
            "type": "scattercarpet"
           }
          ],
          "scattergeo": [
           {
            "marker": {
             "colorbar": {
              "outlinewidth": 0,
              "ticks": ""
             }
            },
            "type": "scattergeo"
           }
          ],
          "scattergl": [
           {
            "marker": {
             "colorbar": {
              "outlinewidth": 0,
              "ticks": ""
             }
            },
            "type": "scattergl"
           }
          ],
          "scattermapbox": [
           {
            "marker": {
             "colorbar": {
              "outlinewidth": 0,
              "ticks": ""
             }
            },
            "type": "scattermapbox"
           }
          ],
          "scatterpolar": [
           {
            "marker": {
             "colorbar": {
              "outlinewidth": 0,
              "ticks": ""
             }
            },
            "type": "scatterpolar"
           }
          ],
          "scatterpolargl": [
           {
            "marker": {
             "colorbar": {
              "outlinewidth": 0,
              "ticks": ""
             }
            },
            "type": "scatterpolargl"
           }
          ],
          "scatterternary": [
           {
            "marker": {
             "colorbar": {
              "outlinewidth": 0,
              "ticks": ""
             }
            },
            "type": "scatterternary"
           }
          ],
          "surface": [
           {
            "colorbar": {
             "outlinewidth": 0,
             "ticks": ""
            },
            "colorscale": [
             [
              0,
              "#0d0887"
             ],
             [
              0.1111111111111111,
              "#46039f"
             ],
             [
              0.2222222222222222,
              "#7201a8"
             ],
             [
              0.3333333333333333,
              "#9c179e"
             ],
             [
              0.4444444444444444,
              "#bd3786"
             ],
             [
              0.5555555555555556,
              "#d8576b"
             ],
             [
              0.6666666666666666,
              "#ed7953"
             ],
             [
              0.7777777777777778,
              "#fb9f3a"
             ],
             [
              0.8888888888888888,
              "#fdca26"
             ],
             [
              1,
              "#f0f921"
             ]
            ],
            "type": "surface"
           }
          ],
          "table": [
           {
            "cells": {
             "fill": {
              "color": "#EBF0F8"
             },
             "line": {
              "color": "white"
             }
            },
            "header": {
             "fill": {
              "color": "#C8D4E3"
             },
             "line": {
              "color": "white"
             }
            },
            "type": "table"
           }
          ]
         },
         "layout": {
          "annotationdefaults": {
           "arrowcolor": "#2a3f5f",
           "arrowhead": 0,
           "arrowwidth": 1
          },
          "autotypenumbers": "strict",
          "coloraxis": {
           "colorbar": {
            "outlinewidth": 0,
            "ticks": ""
           }
          },
          "colorscale": {
           "diverging": [
            [
             0,
             "#8e0152"
            ],
            [
             0.1,
             "#c51b7d"
            ],
            [
             0.2,
             "#de77ae"
            ],
            [
             0.3,
             "#f1b6da"
            ],
            [
             0.4,
             "#fde0ef"
            ],
            [
             0.5,
             "#f7f7f7"
            ],
            [
             0.6,
             "#e6f5d0"
            ],
            [
             0.7,
             "#b8e186"
            ],
            [
             0.8,
             "#7fbc41"
            ],
            [
             0.9,
             "#4d9221"
            ],
            [
             1,
             "#276419"
            ]
           ],
           "sequential": [
            [
             0,
             "#0d0887"
            ],
            [
             0.1111111111111111,
             "#46039f"
            ],
            [
             0.2222222222222222,
             "#7201a8"
            ],
            [
             0.3333333333333333,
             "#9c179e"
            ],
            [
             0.4444444444444444,
             "#bd3786"
            ],
            [
             0.5555555555555556,
             "#d8576b"
            ],
            [
             0.6666666666666666,
             "#ed7953"
            ],
            [
             0.7777777777777778,
             "#fb9f3a"
            ],
            [
             0.8888888888888888,
             "#fdca26"
            ],
            [
             1,
             "#f0f921"
            ]
           ],
           "sequentialminus": [
            [
             0,
             "#0d0887"
            ],
            [
             0.1111111111111111,
             "#46039f"
            ],
            [
             0.2222222222222222,
             "#7201a8"
            ],
            [
             0.3333333333333333,
             "#9c179e"
            ],
            [
             0.4444444444444444,
             "#bd3786"
            ],
            [
             0.5555555555555556,
             "#d8576b"
            ],
            [
             0.6666666666666666,
             "#ed7953"
            ],
            [
             0.7777777777777778,
             "#fb9f3a"
            ],
            [
             0.8888888888888888,
             "#fdca26"
            ],
            [
             1,
             "#f0f921"
            ]
           ]
          },
          "colorway": [
           "#636efa",
           "#EF553B",
           "#00cc96",
           "#ab63fa",
           "#FFA15A",
           "#19d3f3",
           "#FF6692",
           "#B6E880",
           "#FF97FF",
           "#FECB52"
          ],
          "font": {
           "color": "#2a3f5f"
          },
          "geo": {
           "bgcolor": "white",
           "lakecolor": "white",
           "landcolor": "#E5ECF6",
           "showlakes": true,
           "showland": true,
           "subunitcolor": "white"
          },
          "hoverlabel": {
           "align": "left"
          },
          "hovermode": "closest",
          "mapbox": {
           "style": "light"
          },
          "paper_bgcolor": "white",
          "plot_bgcolor": "#E5ECF6",
          "polar": {
           "angularaxis": {
            "gridcolor": "white",
            "linecolor": "white",
            "ticks": ""
           },
           "bgcolor": "#E5ECF6",
           "radialaxis": {
            "gridcolor": "white",
            "linecolor": "white",
            "ticks": ""
           }
          },
          "scene": {
           "xaxis": {
            "backgroundcolor": "#E5ECF6",
            "gridcolor": "white",
            "gridwidth": 2,
            "linecolor": "white",
            "showbackground": true,
            "ticks": "",
            "zerolinecolor": "white"
           },
           "yaxis": {
            "backgroundcolor": "#E5ECF6",
            "gridcolor": "white",
            "gridwidth": 2,
            "linecolor": "white",
            "showbackground": true,
            "ticks": "",
            "zerolinecolor": "white"
           },
           "zaxis": {
            "backgroundcolor": "#E5ECF6",
            "gridcolor": "white",
            "gridwidth": 2,
            "linecolor": "white",
            "showbackground": true,
            "ticks": "",
            "zerolinecolor": "white"
           }
          },
          "shapedefaults": {
           "line": {
            "color": "#2a3f5f"
           }
          },
          "ternary": {
           "aaxis": {
            "gridcolor": "white",
            "linecolor": "white",
            "ticks": ""
           },
           "baxis": {
            "gridcolor": "white",
            "linecolor": "white",
            "ticks": ""
           },
           "bgcolor": "#E5ECF6",
           "caxis": {
            "gridcolor": "white",
            "linecolor": "white",
            "ticks": ""
           }
          },
          "title": {
           "x": 0.05
          },
          "xaxis": {
           "automargin": true,
           "gridcolor": "white",
           "linecolor": "white",
           "ticks": "",
           "title": {
            "standoff": 15
           },
           "zerolinecolor": "white",
           "zerolinewidth": 2
          },
          "yaxis": {
           "automargin": true,
           "gridcolor": "white",
           "linecolor": "white",
           "ticks": "",
           "title": {
            "standoff": 15
           },
           "zerolinecolor": "white",
           "zerolinewidth": 2
          }
         }
        },
        "xaxis": {
         "anchor": "y",
         "domain": [
          0,
          1
         ],
         "title": {
          "text": "parental level of education"
         }
        },
        "yaxis": {
         "anchor": "x",
         "domain": [
          0,
          1
         ],
         "title": {
          "text": "score"
         }
        }
       }
      },
      "text/html": [
       "<div>                            <div id=\"27a808ce-bbf7-49e1-82f8-be33958f31d6\" class=\"plotly-graph-div\" style=\"height:525px; width:100%;\"></div>            <script type=\"text/javascript\">                require([\"plotly\"], function(Plotly) {                    window.PLOTLYENV=window.PLOTLYENV || {};                                    if (document.getElementById(\"27a808ce-bbf7-49e1-82f8-be33958f31d6\")) {                    Plotly.newPlot(                        \"27a808ce-bbf7-49e1-82f8-be33958f31d6\",                        [{\"alignmentgroup\":\"True\",\"hovertemplate\":\"gender=female\\u003cbr\\u003eparental level of education=%{x}\\u003cbr\\u003escore=%{y}\\u003cextra\\u003e\\u003c\\u002fextra\\u003e\",\"legendgroup\":\"female\",\"marker\":{\"color\":\"#636efa\",\"pattern\":{\"shape\":\"\"}},\"name\":\"female\",\"offsetgroup\":\"female\",\"orientation\":\"v\",\"showlegend\":true,\"textposition\":\"auto\",\"x\":[\"associate's degree\",\"associate's degree\",\"associate's degree\",\"associate's degree\",\"associate's degree\",\"bachelor's degree\",\"bachelor's degree\",\"bachelor's degree\",\"bachelor's degree\",\"bachelor's degree\",\"high school\",\"high school\",\"high school\",\"high school\",\"high school\",\"master's degree\",\"master's degree\",\"master's degree\",\"master's degree\",\"master's degree\",\"some college\",\"some college\",\"some college\",\"some college\",\"some college\",\"some high school\",\"some high school\",\"some high school\",\"some high school\",\"some high school\"],\"xaxis\":\"x\",\"y\":[65.27777777777777,68.84057971014492,70.78518518518518,69.88888888888889,78.48148148148148,57.77777777777778,77.0909090909091,74.02564102564102,76.0,77.03333333333333,66.14285714285714,64.95238095238095,61.87777777777778,66.31372549019608,68.41666666666667,58.5,79.53333333333333,69.71428571428571,73.4888888888889,78.04761904761905,67.83333333333333,66.46666666666667,70.02272727272727,73.93333333333334,73.125,65.7,62.56060606060606,64.64285714285714,69.32,65.0],\"yaxis\":\"y\",\"type\":\"bar\"},{\"alignmentgroup\":\"True\",\"hovertemplate\":\"gender=male\\u003cbr\\u003eparental level of education=%{x}\\u003cbr\\u003escore=%{y}\\u003cextra\\u003e\\u003c\\u002fextra\\u003e\",\"legendgroup\":\"male\",\"marker\":{\"color\":\"#EF553B\",\"pattern\":{\"shape\":\"\"}},\"name\":\"male\",\"offsetgroup\":\"male\",\"orientation\":\"v\",\"showlegend\":true,\"textposition\":\"auto\",\"x\":[\"associate's degree\",\"associate's degree\",\"associate's degree\",\"associate's degree\",\"associate's degree\",\"bachelor's degree\",\"bachelor's degree\",\"bachelor's degree\",\"bachelor's degree\",\"bachelor's degree\",\"high school\",\"high school\",\"high school\",\"high school\",\"high school\",\"master's degree\",\"master's degree\",\"master's degree\",\"master's degree\",\"master's degree\",\"some college\",\"some college\",\"some college\",\"some college\",\"some college\",\"some high school\",\"some high school\",\"some high school\",\"some high school\",\"some high school\"],\"xaxis\":\"x\",\"y\":[62.833333333333336,66.87037037037037,67.45454545454545,68.82051282051282,70.11111111111111,71.22222222222223,64.22222222222223,71.78571428571429,64.55555555555556,73.79166666666667,58.18181818181818,56.666666666666664,62.72549019607843,61.69135802469136,70.9,73.0,51.333333333333336,68.63888888888889,82.08333333333333,86.33333333333333,62.53333333333333,62.95454545454545,63.906666666666666,66.61458333333333,71.45614035087719,55.69047619047619,66.66666666666667,61.17460317460318,67.90666666666667,71.61111111111111],\"yaxis\":\"y\",\"type\":\"bar\"}],                        {\"template\":{\"data\":{\"histogram2dcontour\":[{\"type\":\"histogram2dcontour\",\"colorbar\":{\"outlinewidth\":0,\"ticks\":\"\"},\"colorscale\":[[0.0,\"#0d0887\"],[0.1111111111111111,\"#46039f\"],[0.2222222222222222,\"#7201a8\"],[0.3333333333333333,\"#9c179e\"],[0.4444444444444444,\"#bd3786\"],[0.5555555555555556,\"#d8576b\"],[0.6666666666666666,\"#ed7953\"],[0.7777777777777778,\"#fb9f3a\"],[0.8888888888888888,\"#fdca26\"],[1.0,\"#f0f921\"]]}],\"choropleth\":[{\"type\":\"choropleth\",\"colorbar\":{\"outlinewidth\":0,\"ticks\":\"\"}}],\"histogram2d\":[{\"type\":\"histogram2d\",\"colorbar\":{\"outlinewidth\":0,\"ticks\":\"\"},\"colorscale\":[[0.0,\"#0d0887\"],[0.1111111111111111,\"#46039f\"],[0.2222222222222222,\"#7201a8\"],[0.3333333333333333,\"#9c179e\"],[0.4444444444444444,\"#bd3786\"],[0.5555555555555556,\"#d8576b\"],[0.6666666666666666,\"#ed7953\"],[0.7777777777777778,\"#fb9f3a\"],[0.8888888888888888,\"#fdca26\"],[1.0,\"#f0f921\"]]}],\"heatmap\":[{\"type\":\"heatmap\",\"colorbar\":{\"outlinewidth\":0,\"ticks\":\"\"},\"colorscale\":[[0.0,\"#0d0887\"],[0.1111111111111111,\"#46039f\"],[0.2222222222222222,\"#7201a8\"],[0.3333333333333333,\"#9c179e\"],[0.4444444444444444,\"#bd3786\"],[0.5555555555555556,\"#d8576b\"],[0.6666666666666666,\"#ed7953\"],[0.7777777777777778,\"#fb9f3a\"],[0.8888888888888888,\"#fdca26\"],[1.0,\"#f0f921\"]]}],\"heatmapgl\":[{\"type\":\"heatmapgl\",\"colorbar\":{\"outlinewidth\":0,\"ticks\":\"\"},\"colorscale\":[[0.0,\"#0d0887\"],[0.1111111111111111,\"#46039f\"],[0.2222222222222222,\"#7201a8\"],[0.3333333333333333,\"#9c179e\"],[0.4444444444444444,\"#bd3786\"],[0.5555555555555556,\"#d8576b\"],[0.6666666666666666,\"#ed7953\"],[0.7777777777777778,\"#fb9f3a\"],[0.8888888888888888,\"#fdca26\"],[1.0,\"#f0f921\"]]}],\"contourcarpet\":[{\"type\":\"contourcarpet\",\"colorbar\":{\"outlinewidth\":0,\"ticks\":\"\"}}],\"contour\":[{\"type\":\"contour\",\"colorbar\":{\"outlinewidth\":0,\"ticks\":\"\"},\"colorscale\":[[0.0,\"#0d0887\"],[0.1111111111111111,\"#46039f\"],[0.2222222222222222,\"#7201a8\"],[0.3333333333333333,\"#9c179e\"],[0.4444444444444444,\"#bd3786\"],[0.5555555555555556,\"#d8576b\"],[0.6666666666666666,\"#ed7953\"],[0.7777777777777778,\"#fb9f3a\"],[0.8888888888888888,\"#fdca26\"],[1.0,\"#f0f921\"]]}],\"surface\":[{\"type\":\"surface\",\"colorbar\":{\"outlinewidth\":0,\"ticks\":\"\"},\"colorscale\":[[0.0,\"#0d0887\"],[0.1111111111111111,\"#46039f\"],[0.2222222222222222,\"#7201a8\"],[0.3333333333333333,\"#9c179e\"],[0.4444444444444444,\"#bd3786\"],[0.5555555555555556,\"#d8576b\"],[0.6666666666666666,\"#ed7953\"],[0.7777777777777778,\"#fb9f3a\"],[0.8888888888888888,\"#fdca26\"],[1.0,\"#f0f921\"]]}],\"mesh3d\":[{\"type\":\"mesh3d\",\"colorbar\":{\"outlinewidth\":0,\"ticks\":\"\"}}],\"scatter\":[{\"fillpattern\":{\"fillmode\":\"overlay\",\"size\":10,\"solidity\":0.2},\"type\":\"scatter\"}],\"parcoords\":[{\"type\":\"parcoords\",\"line\":{\"colorbar\":{\"outlinewidth\":0,\"ticks\":\"\"}}}],\"scatterpolargl\":[{\"type\":\"scatterpolargl\",\"marker\":{\"colorbar\":{\"outlinewidth\":0,\"ticks\":\"\"}}}],\"bar\":[{\"error_x\":{\"color\":\"#2a3f5f\"},\"error_y\":{\"color\":\"#2a3f5f\"},\"marker\":{\"line\":{\"color\":\"#E5ECF6\",\"width\":0.5},\"pattern\":{\"fillmode\":\"overlay\",\"size\":10,\"solidity\":0.2}},\"type\":\"bar\"}],\"scattergeo\":[{\"type\":\"scattergeo\",\"marker\":{\"colorbar\":{\"outlinewidth\":0,\"ticks\":\"\"}}}],\"scatterpolar\":[{\"type\":\"scatterpolar\",\"marker\":{\"colorbar\":{\"outlinewidth\":0,\"ticks\":\"\"}}}],\"histogram\":[{\"marker\":{\"pattern\":{\"fillmode\":\"overlay\",\"size\":10,\"solidity\":0.2}},\"type\":\"histogram\"}],\"scattergl\":[{\"type\":\"scattergl\",\"marker\":{\"colorbar\":{\"outlinewidth\":0,\"ticks\":\"\"}}}],\"scatter3d\":[{\"type\":\"scatter3d\",\"line\":{\"colorbar\":{\"outlinewidth\":0,\"ticks\":\"\"}},\"marker\":{\"colorbar\":{\"outlinewidth\":0,\"ticks\":\"\"}}}],\"scattermapbox\":[{\"type\":\"scattermapbox\",\"marker\":{\"colorbar\":{\"outlinewidth\":0,\"ticks\":\"\"}}}],\"scatterternary\":[{\"type\":\"scatterternary\",\"marker\":{\"colorbar\":{\"outlinewidth\":0,\"ticks\":\"\"}}}],\"scattercarpet\":[{\"type\":\"scattercarpet\",\"marker\":{\"colorbar\":{\"outlinewidth\":0,\"ticks\":\"\"}}}],\"carpet\":[{\"aaxis\":{\"endlinecolor\":\"#2a3f5f\",\"gridcolor\":\"white\",\"linecolor\":\"white\",\"minorgridcolor\":\"white\",\"startlinecolor\":\"#2a3f5f\"},\"baxis\":{\"endlinecolor\":\"#2a3f5f\",\"gridcolor\":\"white\",\"linecolor\":\"white\",\"minorgridcolor\":\"white\",\"startlinecolor\":\"#2a3f5f\"},\"type\":\"carpet\"}],\"table\":[{\"cells\":{\"fill\":{\"color\":\"#EBF0F8\"},\"line\":{\"color\":\"white\"}},\"header\":{\"fill\":{\"color\":\"#C8D4E3\"},\"line\":{\"color\":\"white\"}},\"type\":\"table\"}],\"barpolar\":[{\"marker\":{\"line\":{\"color\":\"#E5ECF6\",\"width\":0.5},\"pattern\":{\"fillmode\":\"overlay\",\"size\":10,\"solidity\":0.2}},\"type\":\"barpolar\"}],\"pie\":[{\"automargin\":true,\"type\":\"pie\"}]},\"layout\":{\"autotypenumbers\":\"strict\",\"colorway\":[\"#636efa\",\"#EF553B\",\"#00cc96\",\"#ab63fa\",\"#FFA15A\",\"#19d3f3\",\"#FF6692\",\"#B6E880\",\"#FF97FF\",\"#FECB52\"],\"font\":{\"color\":\"#2a3f5f\"},\"hovermode\":\"closest\",\"hoverlabel\":{\"align\":\"left\"},\"paper_bgcolor\":\"white\",\"plot_bgcolor\":\"#E5ECF6\",\"polar\":{\"bgcolor\":\"#E5ECF6\",\"angularaxis\":{\"gridcolor\":\"white\",\"linecolor\":\"white\",\"ticks\":\"\"},\"radialaxis\":{\"gridcolor\":\"white\",\"linecolor\":\"white\",\"ticks\":\"\"}},\"ternary\":{\"bgcolor\":\"#E5ECF6\",\"aaxis\":{\"gridcolor\":\"white\",\"linecolor\":\"white\",\"ticks\":\"\"},\"baxis\":{\"gridcolor\":\"white\",\"linecolor\":\"white\",\"ticks\":\"\"},\"caxis\":{\"gridcolor\":\"white\",\"linecolor\":\"white\",\"ticks\":\"\"}},\"coloraxis\":{\"colorbar\":{\"outlinewidth\":0,\"ticks\":\"\"}},\"colorscale\":{\"sequential\":[[0.0,\"#0d0887\"],[0.1111111111111111,\"#46039f\"],[0.2222222222222222,\"#7201a8\"],[0.3333333333333333,\"#9c179e\"],[0.4444444444444444,\"#bd3786\"],[0.5555555555555556,\"#d8576b\"],[0.6666666666666666,\"#ed7953\"],[0.7777777777777778,\"#fb9f3a\"],[0.8888888888888888,\"#fdca26\"],[1.0,\"#f0f921\"]],\"sequentialminus\":[[0.0,\"#0d0887\"],[0.1111111111111111,\"#46039f\"],[0.2222222222222222,\"#7201a8\"],[0.3333333333333333,\"#9c179e\"],[0.4444444444444444,\"#bd3786\"],[0.5555555555555556,\"#d8576b\"],[0.6666666666666666,\"#ed7953\"],[0.7777777777777778,\"#fb9f3a\"],[0.8888888888888888,\"#fdca26\"],[1.0,\"#f0f921\"]],\"diverging\":[[0,\"#8e0152\"],[0.1,\"#c51b7d\"],[0.2,\"#de77ae\"],[0.3,\"#f1b6da\"],[0.4,\"#fde0ef\"],[0.5,\"#f7f7f7\"],[0.6,\"#e6f5d0\"],[0.7,\"#b8e186\"],[0.8,\"#7fbc41\"],[0.9,\"#4d9221\"],[1,\"#276419\"]]},\"xaxis\":{\"gridcolor\":\"white\",\"linecolor\":\"white\",\"ticks\":\"\",\"title\":{\"standoff\":15},\"zerolinecolor\":\"white\",\"automargin\":true,\"zerolinewidth\":2},\"yaxis\":{\"gridcolor\":\"white\",\"linecolor\":\"white\",\"ticks\":\"\",\"title\":{\"standoff\":15},\"zerolinecolor\":\"white\",\"automargin\":true,\"zerolinewidth\":2},\"scene\":{\"xaxis\":{\"backgroundcolor\":\"#E5ECF6\",\"gridcolor\":\"white\",\"linecolor\":\"white\",\"showbackground\":true,\"ticks\":\"\",\"zerolinecolor\":\"white\",\"gridwidth\":2},\"yaxis\":{\"backgroundcolor\":\"#E5ECF6\",\"gridcolor\":\"white\",\"linecolor\":\"white\",\"showbackground\":true,\"ticks\":\"\",\"zerolinecolor\":\"white\",\"gridwidth\":2},\"zaxis\":{\"backgroundcolor\":\"#E5ECF6\",\"gridcolor\":\"white\",\"linecolor\":\"white\",\"showbackground\":true,\"ticks\":\"\",\"zerolinecolor\":\"white\",\"gridwidth\":2}},\"shapedefaults\":{\"line\":{\"color\":\"#2a3f5f\"}},\"annotationdefaults\":{\"arrowcolor\":\"#2a3f5f\",\"arrowhead\":0,\"arrowwidth\":1},\"geo\":{\"bgcolor\":\"white\",\"landcolor\":\"#E5ECF6\",\"subunitcolor\":\"white\",\"showland\":true,\"showlakes\":true,\"lakecolor\":\"white\"},\"title\":{\"x\":0.05},\"mapbox\":{\"style\":\"light\"}}},\"xaxis\":{\"anchor\":\"y\",\"domain\":[0.0,1.0],\"title\":{\"text\":\"parental level of education\"}},\"yaxis\":{\"anchor\":\"x\",\"domain\":[0.0,1.0],\"title\":{\"text\":\"score\"}},\"legend\":{\"title\":{\"text\":\"gender\"},\"tracegroupgap\":0},\"margin\":{\"t\":60},\"barmode\":\"group\"},                        {\"responsive\": true}                    ).then(function(){\n",
       "                            \n",
       "var gd = document.getElementById('27a808ce-bbf7-49e1-82f8-be33958f31d6');\n",
       "var x = new MutationObserver(function (mutations, observer) {{\n",
       "        var display = window.getComputedStyle(gd).display;\n",
       "        if (!display || display === 'none') {{\n",
       "            console.log([gd, 'removed!']);\n",
       "            Plotly.purge(gd);\n",
       "            observer.disconnect();\n",
       "        }}\n",
       "}});\n",
       "\n",
       "// Listen for the removal of the full notebook cells\n",
       "var notebookContainer = gd.closest('#notebook-container');\n",
       "if (notebookContainer) {{\n",
       "    x.observe(notebookContainer, {childList: true});\n",
       "}}\n",
       "\n",
       "// Listen for the clearing of the current output cell\n",
       "var outputEl = gd.closest('.output');\n",
       "if (outputEl) {{\n",
       "    x.observe(outputEl, {childList: true});\n",
       "}}\n",
       "\n",
       "                        })                };                });            </script>        </div>"
      ]
     },
     "metadata": {},
     "output_type": "display_data"
    }
   ],
   "source": [
    "fig = px.bar(data_frame = df_education_alt,\n",
    "             x='parental level of education',\n",
    "             y='score',\n",
    "             color='gender',\n",
    "             barmode='group')\n",
    "fig.write_html('Output/histogram_education.html')\n",
    "fig.write_image('Output/histogram_education.png')\n",
    "fig"
   ]
  },
  {
   "cell_type": "markdown",
   "metadata": {},
   "source": [
    "## Exportación a un archivo .pptx\n",
    "\n",
    "Más información de esta librería puede encontrarse en este [link ](https://python-pptx.readthedocs.io/en/latest/).\n",
    "\n",
    "Un código rápido puede encontrarse en el siguiente [link](https://www.geeksforgeeks.org/creating-and-updating-powerpoint-presentations-in-python-using-python-pptx/)."
   ]
  },
  {
   "cell_type": "code",
   "execution_count": 134,
   "metadata": {},
   "outputs": [],
   "source": [
    "## Crear una presentación PPT\n",
    "# se van añadiendo objetos\n",
    "\n",
    "pr = Presentation()\n",
    "\n",
    "# layouts por slide, en orden\n",
    "#0 Title (presentation title slide)\n",
    "#1 Title and Content\n",
    "#2 Section Header (sometimes called Segue)\n",
    "#3 Two Content (side by side bullet textboxes)\n",
    "#4 Comparison (same but additional title for each side by side content box)\n",
    "#5 Title Only\n",
    "#6 Blank\n",
    "#7 Content with Caption\n",
    "#8 Picture with Caption\n",
    "\n",
    "##### SLIDE 0 ##### Title\n",
    "#seleccionar layout\n",
    "slide1_register = pr.slide_layouts[0]\n",
    "#crear slide con este layout\n",
    "slide1 = pr.slides.add_slide(slide1_register)\n",
    "#placeholder\n",
    "title1 = slide1.shapes.title\n",
    "title1.text = 'Notas de alumnos de bachillerato'\n",
    "subtitle1 = slide1.placeholders[1]\n",
    "subtitle1.text = 'Comparación de datos de género, raza y nivel educativo de los padres'\n",
    "\n",
    "##### SLIDE 1 ##### Title and content\n",
    "slide2 = pr.slides.add_slide(pr.slide_layouts[1])\n",
    "slide2.shapes.title.text = \"Contenido\"\n",
    "# Bullet points\n",
    "bullet_point_box = slide2.shapes\n",
    "\n",
    "bullet_points_lvl1 = bullet_point_box.placeholders[1] #primer nivel de la lista\n",
    "bullet_points_lvl1.text = \"Estadísticas por categoría:\"\n",
    "bullet_points_lvl2 = bullet_points_lvl1.text_frame.add_paragraph() \n",
    "bullet_points_lvl2.text = \"Género\"\n",
    "bullet_points_lvl2.level = 1 # segundo nivel de la lista\n",
    "bullet_points_lvl3 = bullet_points_lvl1.text_frame.add_paragraph() \n",
    "bullet_points_lvl3.text = \"Raza\"\n",
    "bullet_points_lvl3.level = 1\n",
    "bullet_points_lvl4 = bullet_points_lvl1.text_frame.add_paragraph() \n",
    "bullet_points_lvl4.text = \"Nivel educativo de los padres\"\n",
    "bullet_points_lvl4.level = 1\n",
    "\n",
    "\n",
    "##### SLIDE 2 ##### Title only (and image)\n",
    "slide3 = pr.slides.add_slide(pr.slide_layouts[5])\n",
    "slide3.shapes.title.text = \"Pandas\"\n",
    "\n",
    "# Añadir imagen\n",
    "img1_path = \"Imagenes/pandas.png\" #path\n",
    "from_left = Inches(3)\n",
    "from_top = Inches(3)\n",
    "add_picture = slide3.shapes.add_picture(img1_path,\n",
    "                                        from_left,\n",
    "                                        from_top)\n",
    "\n",
    "\n",
    "##### SLIDE 3 ##### Title only (and Pandas DataFrame)\n",
    "slide4 = pr.slides.add_slide(pr.slide_layouts[5])\n",
    "slide4.shapes.title.text = \"Pandas DataFrame: media de calificación en exámenes, por género y raza.\"\n",
    "\n",
    "img_path = \"Output/df_gender.png\" #path\n",
    "from_left = Inches(1)\n",
    "from_top = Inches(2)\n",
    "add_picture = slide4.shapes.add_picture(img_path,\n",
    "                                        from_left,\n",
    "                                        from_top)\n",
    "\n",
    "img_path = \"Output/df_race.png\" #path\n",
    "from_left = Inches(1)\n",
    "from_top = Inches(4)\n",
    "add_picture = slide4.shapes.add_picture(img_path,\n",
    "                                        from_left,\n",
    "                                        from_top)\n",
    "\n",
    "\n",
    "\n",
    "##### SLIDE 4 ##### Title only (and Pandas DataFrame)\n",
    "slide5 = pr.slides.add_slide(pr.slide_layouts[5])\n",
    "slide5.shapes.title.text = \"Pandas DataFrame: media de calificación en exámenes, por nivel educativo de padres.\"\n",
    "\n",
    "img_path = \"Output/df_education.png\" #path\n",
    "from_left = Inches(1)\n",
    "from_top = Inches(2)\n",
    "add_picture = slide5.shapes.add_picture(img_path,\n",
    "                                        from_left,\n",
    "                                        from_top)\n",
    "\n",
    "\n",
    "##### SLIDE 5 ##### Title only (and Plotly Bar Chart)\n",
    "slide6 = pr.slides.add_slide(pr.slide_layouts[5])\n",
    "slide6.shapes.title.text = \"Calificaciones por nivel educativo y género.\"\n",
    "\n",
    "img_path = \"Output/histogram_education.png\" #path\n",
    "from_left = Inches(1)\n",
    "from_top = Inches(1)\n",
    "width = Inches(9)\n",
    "height = Inches(6)\n",
    "add_picture = slide6.shapes.add_picture(img_path,\n",
    "                                        from_left,\n",
    "                                        from_top,\n",
    "                                        width=width,\n",
    "                                        height=height)\n",
    "\n",
    "## save presentation\n",
    "pr.save('Output/presentation.pptx')"
   ]
  },
  {
   "cell_type": "code",
   "execution_count": null,
   "metadata": {},
   "outputs": [],
   "source": []
  }
 ],
 "metadata": {
  "kernelspec": {
   "display_name": "clase_2024B",
   "language": "python",
   "name": "python3"
  },
  "language_info": {
   "codemirror_mode": {
    "name": "ipython",
    "version": 3
   },
   "file_extension": ".py",
   "mimetype": "text/x-python",
   "name": "python",
   "nbconvert_exporter": "python",
   "pygments_lexer": "ipython3",
   "version": "3.12.4"
  }
 },
 "nbformat": 4,
 "nbformat_minor": 2
}
