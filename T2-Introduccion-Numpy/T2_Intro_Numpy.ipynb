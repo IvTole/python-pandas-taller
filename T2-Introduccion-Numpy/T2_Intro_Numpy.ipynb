{
 "cells": [
  {
   "cell_type": "markdown",
   "id": "fa9b2a5b",
   "metadata": {},
   "source": [
    "<img src=\"Imagenes/logonumpy.png\" alt=\"Drawing\" style=\"width: 500px;\"/>\n",
    "\n",
    "**NumPy** es un paquete de Python que significa “Numerical Python”, es la biblioteca principal para la informática científica, proporciona potentes estructuras de datos, implementando matrices n-dimensionales. Estas estructuras de datos garantizan cálculos eficientes con matrices **(50 veces  rápido que una lista)**.\n",
    "\n",
    "### Características de Numpy\n",
    "\n",
    "1. Numpy tiene  sus propios tipos  de datos  pero es compatible con los datos nativos.\n",
    "2. Tipos de datos de numpy\n",
    "    1. Números Enteros \n",
    "        1. 8 bits: <span style=\"color:DarkRed\"> **np.int8()** </span>\n",
    "        2. 16 bits: <span style=\"color:DarkRed\"> **np.int16()** </span>\n",
    "        3. 32 bits: <span style=\"color:DarkRed\"> **np.int32()** </span>\n",
    "        4. 64 bits: <span style=\"color:DarkRed\"> **np.int64()** </span>\n",
    "    2. Números Enteros (Solo positivos)\n",
    "        1. 8 bits: <span style=\"color:DarkBlue\"> **np.uint8()** </span>\n",
    "        2. 16 bits: <span style=\"color:DarkBlue\"> **np.uint16()** </span>\n",
    "        3. 32 bits: <span style=\"color:DarkBlue\"> **np.uint32()** </span>\n",
    "        4. 64 bits: <span style=\"color:DarkBlue\"> **np.uint64()** </span>\n",
    "    3. Números Flotantes\n",
    "        1. 32 bits: <span style=\"color:DarkGreen\"> **np.float32()** </span>\n",
    "        2. 64 bits: <span style=\"color:DarkGreen\"> **np.float64()** </span>\n",
    "    4. Números Complejos\n",
    "        1. 64 bits: <span style=\"color:DarkOrange\"> **np.complex64()** </span>\n",
    "        2. 128 bits: <span style=\"color:DarkOrange\"> **np.complex128()** </span>\n",
    "        \n",
    "        \n"
   ]
  },
  {
   "cell_type": "code",
   "execution_count": 18,
   "id": "aa491fb4",
   "metadata": {
    "scrolled": true
   },
   "outputs": [
    {
     "name": "stdout",
     "output_type": "stream",
     "text": [
      "Help on _ArrayFunctionDispatcher in module numpy:\n",
      "\n",
      "mean(a, axis=None, dtype=None, out=None, keepdims=<no value>, *, where=<no value>)\n",
      "    Compute the arithmetic mean along the specified axis.\n",
      "    \n",
      "    Returns the average of the array elements.  The average is taken over\n",
      "    the flattened array by default, otherwise over the specified axis.\n",
      "    `float64` intermediate and return values are used for integer inputs.\n",
      "    \n",
      "    Parameters\n",
      "    ----------\n",
      "    a : array_like\n",
      "        Array containing numbers whose mean is desired. If `a` is not an\n",
      "        array, a conversion is attempted.\n",
      "    axis : None or int or tuple of ints, optional\n",
      "        Axis or axes along which the means are computed. The default is to\n",
      "        compute the mean of the flattened array.\n",
      "    \n",
      "        .. versionadded:: 1.7.0\n",
      "    \n",
      "        If this is a tuple of ints, a mean is performed over multiple axes,\n",
      "        instead of a single axis or all the axes as before.\n",
      "    dtype : data-type, optional\n",
      "        Type to use in computing the mean.  For integer inputs, the default\n",
      "        is `float64`; for floating point inputs, it is the same as the\n",
      "        input dtype.\n",
      "    out : ndarray, optional\n",
      "        Alternate output array in which to place the result.  The default\n",
      "        is ``None``; if provided, it must have the same shape as the\n",
      "        expected output, but the type will be cast if necessary.\n",
      "        See :ref:`ufuncs-output-type` for more details.\n",
      "        See :ref:`ufuncs-output-type` for more details.\n",
      "    \n",
      "    keepdims : bool, optional\n",
      "        If this is set to True, the axes which are reduced are left\n",
      "        in the result as dimensions with size one. With this option,\n",
      "        the result will broadcast correctly against the input array.\n",
      "    \n",
      "        If the default value is passed, then `keepdims` will not be\n",
      "        passed through to the `mean` method of sub-classes of\n",
      "        `ndarray`, however any non-default value will be.  If the\n",
      "        sub-class' method does not implement `keepdims` any\n",
      "        exceptions will be raised.\n",
      "    \n",
      "    where : array_like of bool, optional\n",
      "        Elements to include in the mean. See `~numpy.ufunc.reduce` for details.\n",
      "    \n",
      "        .. versionadded:: 1.20.0\n",
      "    \n",
      "    Returns\n",
      "    -------\n",
      "    m : ndarray, see dtype parameter above\n",
      "        If `out=None`, returns a new array containing the mean values,\n",
      "        otherwise a reference to the output array is returned.\n",
      "    \n",
      "    See Also\n",
      "    --------\n",
      "    average : Weighted average\n",
      "    std, var, nanmean, nanstd, nanvar\n",
      "    \n",
      "    Notes\n",
      "    -----\n",
      "    The arithmetic mean is the sum of the elements along the axis divided\n",
      "    by the number of elements.\n",
      "    \n",
      "    Note that for floating-point input, the mean is computed using the\n",
      "    same precision the input has.  Depending on the input data, this can\n",
      "    cause the results to be inaccurate, especially for `float32` (see\n",
      "    example below).  Specifying a higher-precision accumulator using the\n",
      "    `dtype` keyword can alleviate this issue.\n",
      "    \n",
      "    By default, `float16` results are computed using `float32` intermediates\n",
      "    for extra precision.\n",
      "    \n",
      "    Examples\n",
      "    --------\n",
      "    >>> a = np.array([[1, 2], [3, 4]])\n",
      "    >>> np.mean(a)\n",
      "    2.5\n",
      "    >>> np.mean(a, axis=0)\n",
      "    array([2., 3.])\n",
      "    >>> np.mean(a, axis=1)\n",
      "    array([1.5, 3.5])\n",
      "    \n",
      "    In single precision, `mean` can be inaccurate:\n",
      "    \n",
      "    >>> a = np.zeros((2, 512*512), dtype=np.float32)\n",
      "    >>> a[0, :] = 1.0\n",
      "    >>> a[1, :] = 0.1\n",
      "    >>> np.mean(a)\n",
      "    0.54999924\n",
      "    \n",
      "    Computing the mean in float64 is more accurate:\n",
      "    \n",
      "    >>> np.mean(a, dtype=np.float64)\n",
      "    0.55000000074505806 # may vary\n",
      "    \n",
      "    Specifying a where argument:\n",
      "    \n",
      "    >>> a = np.array([[5, 9, 13], [14, 10, 12], [11, 15, 19]])\n",
      "    >>> np.mean(a)\n",
      "    12.0\n",
      "    >>> np.mean(a, where=[[True], [False], [False]])\n",
      "    9.0\n",
      "\n"
     ]
    }
   ],
   "source": [
    "import numpy as np # Aqui se importa la libreria numpy\n",
    "\n",
    "help(np.mean) # Uno puede desplegar la documentación de alguna función de numpy"
   ]
  },
  {
   "cell_type": "code",
   "execution_count": 19,
   "id": "b06b3f57",
   "metadata": {},
   "outputs": [
    {
     "name": "stdout",
     "output_type": "stream",
     "text": [
      "La biblioteca numpy tiene  532 métodos\n",
      "media 2.5\n",
      "maximo 4\n",
      "minimo 1\n"
     ]
    }
   ],
   "source": [
    "print (\"La biblioteca numpy tiene \",len(dir(np)),\"métodos\")\n",
    "\n",
    "lista1 = [1,2,3,4]\n",
    "\n",
    "print('media', np.mean(lista1))\n",
    "print('maximo', np.max(lista1))\n",
    "print('minimo', np.min(lista1))"
   ]
  },
  {
   "cell_type": "markdown",
   "id": "125f73d1",
   "metadata": {},
   "source": [
    "### Arreglos n-dimensionales de Numpy\n",
    "\n",
    "<img src=\"Imagenes/arrays.jpg\" alt=\"Drawing\" style=\"width: 700px;\"/>\n"
   ]
  },
  {
   "cell_type": "code",
   "execution_count": 27,
   "id": "2d0abcab",
   "metadata": {},
   "outputs": [
    {
     "name": "stdout",
     "output_type": "stream",
     "text": [
      "Array: [10 20 30 40 50] \n",
      "\n",
      "Elemento 0: 10\n",
      "Elemento 1: 20\n",
      "Elemento 2: 30\n",
      "Elemento 3: 40\n",
      "Elemento 4: 50\n",
      "\n",
      "Tipos de datos del arreglo:  int64\n",
      "\n",
      "Generamos un array con  diferentes tipos de datos:\n",
      "Tipo de dato del array:  <U32\n",
      "<U32  se refiere  a UNICODE\n",
      "En esta caso, convierte todos los elementos a  cadenas de texto:\n",
      " ['Hola' '1234' '3.1415']\n"
     ]
    }
   ],
   "source": [
    "#Creamos arreglos\n",
    "\n",
    "arr1 = np.array([10,20,30,40,50])\n",
    "print (\"Array:\",arr1,\"\\n\")\n",
    "print (\"Elemento 0:\",arr1[0]) # Podemos referirnos a un valor particular con un índice, de igual forma que con listas\n",
    "print (\"Elemento 1:\",arr1[1])\n",
    "print (\"Elemento 2:\",arr1[2])\n",
    "print (\"Elemento 3:\",arr1[3])\n",
    "print (\"Elemento 4:\",arr1[4])\n",
    "\n",
    "print (\"\\nTipos de datos del arreglo: \",arr1.dtype) # tipos de datos en el array\n",
    "\n",
    "\n",
    "print (\"\\nGeneramos un array con  diferentes tipos de datos:\")\n",
    "array = np.array([\"Hola\", 1234, 3.1415])\n",
    "print(\"Tipo de dato del array: \", array.dtype)\n",
    "print (\"<U32  se refiere  a UNICODE\")\n",
    "print (\"En esta caso, convierte todos los elementos a  cadenas de texto:\\n\", array)\n"
   ]
  },
  {
   "cell_type": "code",
   "execution_count": 30,
   "id": "5a2b764a",
   "metadata": {},
   "outputs": [
    {
     "name": "stdout",
     "output_type": "stream",
     "text": [
      "[1, 2, 3, 4, 1, 2, 3, 4]\n",
      "[2 4 6 8]\n"
     ]
    }
   ],
   "source": [
    "list1 = [1,2,3,4]\n",
    "list2 = [5,6,7,8]\n",
    "\n",
    "array1 = np.array(list1)\n",
    "array2 = np.array(list2)\n",
    "\n",
    "print(list1*2)\n",
    "print(array1*2)\n"
   ]
  },
  {
   "cell_type": "code",
   "execution_count": 31,
   "id": "2ea731d1",
   "metadata": {},
   "outputs": [
    {
     "name": "stdout",
     "output_type": "stream",
     "text": [
      "Dimension del arreglo:  1\n",
      "Forma del arreglo:  (5,)\n"
     ]
    }
   ],
   "source": [
    "print(\"Dimension del arreglo: \",arr1.ndim)\n",
    "print(\"Forma del arreglo: \",arr1.shape)"
   ]
  },
  {
   "cell_type": "code",
   "execution_count": 37,
   "id": "b7185669",
   "metadata": {},
   "outputs": [
    {
     "name": "stdout",
     "output_type": "stream",
     "text": [
      "Arreglo: \n",
      " [[1 2 3 4 5]\n",
      " [6 7 8 9 0]]\n",
      "Dimension:  2\n",
      "Forma: (2, 5)\n"
     ]
    }
   ],
   "source": [
    "arr2 = np.array([\n",
    "    [1, 2, 3, 4, 5],\n",
    "    [6, 7, 8, 9, 0],\n",
    "    ])\n",
    "print(\"Arreglo: \\n\",arr2)\n",
    "print(\"Dimension: \",arr2.ndim)\n",
    "print(\"Forma:\",arr2.shape)"
   ]
  },
  {
   "cell_type": "code",
   "execution_count": 40,
   "id": "01da104e",
   "metadata": {},
   "outputs": [
    {
     "name": "stdout",
     "output_type": "stream",
     "text": [
      "Generamos un arreglo  en  Ceros de 3x3 : \n",
      " [[0. 0. 0.]\n",
      " [0. 0. 0.]\n",
      " [0. 0. 0.]]\n",
      "\n",
      "Generamos un arreglo en UNOS  de 3x3 : \n",
      " [[1. 1. 1.]\n",
      " [1. 1. 1.]\n",
      " [1. 1. 1.]]\n",
      "float64\n",
      "float64\n"
     ]
    }
   ],
   "source": [
    "#Iniciar un arreglo en ceros\n",
    "arr4 = np.zeros((3, 3))\n",
    "print (\"Generamos un arreglo  en  Ceros de 3x3 : \\n\",arr4)\n",
    "\n",
    "arr5 = np.ones((3, 3))\n",
    "print (\"\\nGeneramos un arreglo en UNOS  de 3x3 : \\n\",arr5)\n",
    "\n",
    "print(arr4.dtype)\n",
    "print(arr5.dtype)"
   ]
  },
  {
   "cell_type": "markdown",
   "id": "508a2906",
   "metadata": {},
   "source": [
    "### Generamos un arreglo de una dimensión   similar a  range."
   ]
  },
  {
   "cell_type": "code",
   "execution_count": 43,
   "id": "bbbae03c",
   "metadata": {},
   "outputs": [
    {
     "name": "stdout",
     "output_type": "stream",
     "text": [
      "Arange: 10\n",
      " Tipo:  int64 \n",
      "Array:  [0 2 4 6 8]\n"
     ]
    }
   ],
   "source": [
    "arr6 = np.arange(0,10,2)\n",
    "print (\"Arange: 10\\n\",\"Tipo: \",arr6.dtype,\"\\nArray: \",arr6)"
   ]
  },
  {
   "cell_type": "code",
   "execution_count": 41,
   "id": "43992639",
   "metadata": {},
   "outputs": [
    {
     "name": "stdout",
     "output_type": "stream",
     "text": [
      "np1: [-5.         -3.88888889 -2.77777778 -1.66666667 -0.55555556  0.55555556\n",
      "  1.66666667  2.77777778  3.88888889  5.        ]\n",
      "np2: [ 0.95892427  0.67965796 -0.35584199 -0.99540796 -0.52741539  0.52741539\n",
      "  0.99540796  0.35584199 -0.67965796 -0.95892427]\n"
     ]
    }
   ],
   "source": [
    "arr1  = np.linspace(-5,5,num=10)\n",
    "arr2 = np.sin(arr1)\n",
    "\n",
    "print (\"np1:\", arr1)\n",
    "print (\"np2:\", arr2)\n",
    "#Graficar seno\n"
   ]
  },
  {
   "cell_type": "markdown",
   "id": "00e3e8af",
   "metadata": {},
   "source": [
    "### Ejemplo de operaciones  básicas con arreglos"
   ]
  },
  {
   "cell_type": "code",
   "execution_count": 44,
   "id": "6f498dc1",
   "metadata": {},
   "outputs": [
    {
     "name": "stdout",
     "output_type": "stream",
     "text": [
      "Arreglo 1: [[1. 1. 1. 1. 1.]]\n",
      "Arreglo 2: [[5. 5. 5. 5. 5.]]\n",
      "\n",
      "Suma:  [[6. 6. 6. 6. 6.]]\n",
      "Resta:  [[-4. -4. -4. -4. -4.]]\n",
      "\n",
      "Raiz Cuadrada:  [[2.23606798 2.23606798 2.23606798 2.23606798 2.23606798]]\n",
      "Potencia (n=3):  [[125. 125. 125. 125. 125.]]\n",
      "\n",
      "Signo:  [[-1. -1. -1. -1. -1.]]\n"
     ]
    }
   ],
   "source": [
    "arr1 = np.ones((1,5))\n",
    "arr2 = np.ones((1,5))\n",
    "\n",
    "arr2+=4 # a cada uno de los elementos de le aplica la operación\n",
    "\n",
    "print(\"Arreglo 1:\",arr1)\n",
    "print(\"Arreglo 2:\",arr2)\n",
    "\n",
    "print(\"\\nSuma: \", arr1+arr2)\n",
    "print(\"Resta: \", arr1-arr2)\n",
    "\n",
    "print(\"\\nRaiz Cuadrada: \", np.sqrt(arr2))\n",
    "print(\"Potencia (n=3): \", np.power(arr2,3))\n",
    "\n",
    "print(\"\\nSigno: \", np.sign(-arr2)) # nos regresa un entero como referencia del signo del valor\n",
    "\n",
    "\n"
   ]
  },
  {
   "cell_type": "code",
   "execution_count": 52,
   "id": "2a80118f",
   "metadata": {},
   "outputs": [
    {
     "data": {
      "text/plain": [
       "array([[ 1,  4,  9, 16],\n",
       "       [ 4,  9, 16, 25]])"
      ]
     },
     "execution_count": 52,
     "metadata": {},
     "output_type": "execute_result"
    }
   ],
   "source": [
    "array_2d = np.array([[1,2,3,4],[2,3,4,5]])\n",
    "array_2d*array_2d"
   ]
  },
  {
   "cell_type": "code",
   "execution_count": 56,
   "id": "75dc05aa",
   "metadata": {},
   "outputs": [
    {
     "data": {
      "image/png": "[encoded data removed]",
      "text/plain": [
       "<Figure size 640x480 with 1 Axes>"
      ]
     },
     "metadata": {},
     "output_type": "display_data"
    }
   ],
   "source": [
    "import matplotlib.pyplot as plt\n",
    "\n",
    "#x=np.random.randint(-100,100, size=(1200))\n",
    "#y=np.random.randint(-100,100, size=(1200))\n",
    "\n",
    "x=np.random.normal(170,10,1000)\n",
    "y=np.random.normal(170,10,1000)\n",
    "\n",
    "plt.scatter(x, y,color=\"blue\",alpha=0.7)\n",
    "plt.title(\"Puntos Aleatorios\")\n",
    "plt.grid(alpha=0.2)\n",
    "plt.show()\n"
   ]
  },
  {
   "cell_type": "markdown",
   "id": "0d81b9b5",
   "metadata": {},
   "source": [
    "### Numpy Funciones"
   ]
  },
  {
   "cell_type": "code",
   "execution_count": 60,
   "id": "d9a81cc1",
   "metadata": {},
   "outputs": [
    {
     "name": "stdout",
     "output_type": "stream",
     "text": [
      "Array 4x4: \n",
      " [[1 2 3 6]\n",
      " [5 6 7 4]\n",
      " [8 9 4 1]\n",
      " [1 5 4 3]] \n",
      "\n",
      "Primeras 2 filas:\n",
      " [[5 6 7 4]\n",
      " [8 9 4 1]]\n",
      "\n",
      "Primeras 2 columnas de lo anterior:\n",
      " [[1 2]\n",
      " [5 6]]\n",
      "\n",
      "Columna 0: \n",
      " [[1 2 3]\n",
      " [5 6 7]\n",
      " [8 9 4]\n",
      " [1 5 4]]\n"
     ]
    }
   ],
   "source": [
    "arr = np.array(([1,2,3,6],[5,6,7,4],[8,9,4,1],[1,5,4,3]))\n",
    "\n",
    "print(\"Array 4x4: \\n\",arr,\"\\n\")\n",
    "\n",
    "print(\"Primeras 2 filas:\\n\",arr[1:-1]) #slicing similar a listas\n",
    "\n",
    "print(\"\\nPrimeras 2 columnas de lo anterior:\\n\",arr[:2,:2])\n",
    "\n",
    "print(\"\\nColumna 0: \\n\", arr[:,0:3])"
   ]
  },
  {
   "cell_type": "markdown",
   "id": "3a315106",
   "metadata": {},
   "source": [
    "\n",
    "### Funciones trigonométricas\n",
    "\n",
    "* Seno <span style=\"color:DarkRed\"> **np.sin()** </span>\n",
    "* Coseno <span style=\"color:DarkRed\"> **np.cos()** </span>\n",
    "* Tangente <span style=\"color:DarkRed\"> **np.tan()** </span>\n",
    "* Arco Seno <span style=\"color:DarkRed\"> **np.arcsin()** </span>\n",
    "* Arco Coseno <span style=\"color:DarkRed\"> **np.arccos()** </span>\n",
    "* Arco Tangente <span style=\"color:DarkRed\"> **np.arctan()** </span>\n",
    "* Grados a radianes <span style=\"color:DarkRed\"> **np.deg2rad()** </span>\n",
    "* Radianes a grados <span style=\"color:DarkRed\"> **np.rad2deg()** </span>\n",
    "\n",
    "### Hiperbólicas\n",
    "* Seno hiperbólico <span style=\"color:DarkRed\"> **np.sinh()** </span>\n",
    "* Coseno hiperbólico <span style=\"color:DarkRed\"> **np.cosh()** </span>\n",
    "* Tangente hiperbólico <span style=\"color:DarkRed\"> **np.tanh()** </span>\n",
    "* Arco Seno hiperbólico <span style=\"color:DarkRed\"> **np.arcsinh()** </span>\n",
    "* Arco Coseno hiperbólico <span style=\"color:DarkRed\"> **np.arccosh()** </span>\n",
    "* Arco Tangente hiperbólico <span style=\"color:DarkRed\"> **np.arctanh()** </span>\n",
    "\n",
    "\n"
   ]
  },
  {
   "cell_type": "markdown",
   "id": "db30a5dd",
   "metadata": {},
   "source": [
    "## Funciones con matrices"
   ]
  },
  {
   "cell_type": "code",
   "execution_count": 61,
   "id": "650d38b5",
   "metadata": {},
   "outputs": [
    {
     "name": "stdout",
     "output_type": "stream",
     "text": [
      "Matriz original:\n",
      " [[1 2 3 6]\n",
      " [5 6 7 4]\n",
      " [8 9 4 1]\n",
      " [1 5 4 3]]\n",
      "\n",
      "Matriz transpuesta:\n",
      " [[1 5 8 1]\n",
      " [2 6 9 5]\n",
      " [3 7 4 4]\n",
      " [6 4 1 3]]\n",
      "\n",
      "Matriz inversa:\n",
      " [[ 0.08235294  0.09019608  0.09803922 -0.31764706]\n",
      " [-0.01764706 -0.20980392  0.09803922  0.28235294]\n",
      " [-0.18823529  0.31764706 -0.17647059  0.01176471]\n",
      " [ 0.25294118 -0.10392157  0.03921569 -0.04705882]]\n",
      "\n",
      "Determinante de la matriz:\n",
      " -509.9999999999999\n",
      "\n",
      "Traza de la matriz:\n",
      " 14\n",
      "\n",
      "Producto de matrices:\n",
      " [[ 2  4  9 24]\n",
      " [20 36 35 32]\n",
      " [24 81  8  8]\n",
      " [ 8 35 16  0]]\n",
      "\n",
      "Eigen Valores de la matriz:\n",
      " EigResult(eigenvalues=array([17.97879602+0.j        , -0.4064793 +2.96564357j,\n",
      "       -0.4064793 -2.96564357j, -3.16583743+0.j        ]), eigenvectors=matrix([[-0.31724841+0.j        , -0.60367228+0.j        ,\n",
      "         -0.60367228-0.j        , -0.19740428+0.j        ],\n",
      "        [-0.61668367+0.j        ,  0.25250792-0.08115721j,\n",
      "          0.25250792+0.08115721j, -0.4828286 +0.j        ],\n",
      "        [-0.60642669+0.j        ,  0.28240003+0.47081775j,\n",
      "          0.28240003-0.47081775j,  0.84410847+0.j        ],\n",
      "        [-0.38897476+0.j        , -0.08386056-0.50673594j,\n",
      "         -0.08386056+0.50673594j, -0.12405234+0.j        ]]))\n",
      "\n",
      "Descomposición QR de matrices:\n",
      " QRResult(Q=matrix([[-0.10482848,  0.20415687,  0.36418952, -0.90260565],\n",
      "        [-0.52414242,  0.00279667,  0.76664601,  0.37083798],\n",
      "        [-0.83862787, -0.14822348, -0.50512396, -0.13993886],\n",
      "        [-0.10482848,  0.96764764, -0.15642789,  0.16792663]]), R=matrix([[ -9.53939201, -11.42630472,  -7.75730779,  -3.8786539 ],\n",
      "        [  0.        ,   3.92932061,   3.90974392,   3.99084734],\n",
      "        [  0.        ,   0.        ,   3.8128832 ,   4.2773135 ],\n",
      "        [  0.        ,   0.        ,   0.        ,  -3.56844093]]))\n"
     ]
    }
   ],
   "source": [
    "mat1 = np.matrix(([1,2,3,6],[5,6,7,4],[8,9,4,1],[1,5,4,3]))\n",
    "mat2 = np.matrix(([2,2,3,4],[4,6,5,8],[3,9,2,8],[8,7,4,0]))\n",
    "\n",
    "print (\"Matriz original:\\n\", mat1)\n",
    "\n",
    "print (\"\\nMatriz transpuesta:\\n\", mat1.T)\n",
    "\n",
    "print (\"\\nMatriz inversa:\\n\", mat1.I)\n",
    "\n",
    "print (\"\\nDeterminante de la matriz:\\n\",np.linalg.det(mat1))\n",
    "\n",
    "print (\"\\nTraza de la matriz:\\n\",np.trace(mat1))\n",
    "\n",
    "print (\"\\nProducto de matrices:\\n\",np.multiply(mat1,mat2))\n",
    "\n",
    "print (\"\\nEigen Valores de la matriz:\\n\",np.linalg.eig(mat1))\n",
    "\n",
    "print (\"\\nDescomposición QR de matrices:\\n\",np.linalg.qr(mat1))\n"
   ]
  },
  {
   "cell_type": "markdown",
   "id": "bebf2aa1",
   "metadata": {},
   "source": [
    "Mas información: https://numpy.org/doc/stable/reference/"
   ]
  },
  {
   "cell_type": "markdown",
   "id": "30eff958",
   "metadata": {},
   "source": [
    "### Ejemplos utilizando numpy"
   ]
  },
  {
   "cell_type": "code",
   "execution_count": 14,
   "id": "4c6a1168",
   "metadata": {},
   "outputs": [
    {
     "name": "stdout",
     "output_type": "stream",
     "text": [
      "\tOperaciones aritmeticas con  el mismo valor\n",
      "\n",
      "Arreglo  inicial:  [11 12 17 14]\n",
      "Arreglo + 4:       [15 16 21 18]\n",
      "\n",
      "Arreglo  inicial:  [11 12 17 14]\n",
      "Arreglo  * 10:     [110 120 170 140]\n",
      "\n",
      "Arreglo  inicial:  [11 12 17 14]\n",
      "Arreglo  * 10:     [110 120 170 140]\n",
      "\n",
      "Arreglo  inicial: \t [11 12 17 14]\n",
      "Arreglo  Division entera //2 :     [5 6 8 7]\n",
      "\n",
      "Arreglo  inicial: \t [11 12 17 14]\n",
      "Arreglo elevado a la 1/2 :     [3.31662479 3.46410162 4.12310563 3.74165739]\n"
     ]
    }
   ],
   "source": [
    "arr1 = np.array([1.2,2,7,4],dtype=\"int64\")\n",
    "mat1 = np.matrix(([1,2,3,6],[5,6,7,4],[8,9,4,1],[1,5,4,3]))\n",
    "mat2 = np.matrix(([2,2,3,4],[4,6,5,8],[3,9,2,8],[8,7,4,0]))\n",
    "\n",
    "print (\"\\tOperaciones aritmeticas con  el mismo valor\\n\")\n",
    "\n",
    "\n",
    "#Suma o resta de un  mismo elemento\n",
    "arr1 += 10\n",
    "print  (\"Arreglo  inicial: \", arr1)\n",
    "print  (\"Arreglo + 4:      \", arr1+4)\n",
    "\n",
    "#Producto  por un mismo elemento\n",
    "\n",
    "print  (\"\\nArreglo  inicial: \", arr1)\n",
    "print  (\"Arreglo  * 10:    \", arr1*10)\n",
    "\n",
    "print  (\"\\nArreglo  inicial: \", arr1)\n",
    "print  (\"Arreglo  * 10:    \", arr1*10)\n",
    "\n",
    "print  (\"\\nArreglo  inicial: \\t\", arr1)\n",
    "print  (\"Arreglo  Division entera //2 :    \", arr1//2)\n",
    "\n",
    "print  (\"\\nArreglo  inicial: \\t\", arr1)\n",
    "print  (\"Arreglo elevado a la 1/2 :    \", arr1**.5)\n"
   ]
  },
  {
   "cell_type": "code",
   "execution_count": 15,
   "id": "6c8df8a9",
   "metadata": {},
   "outputs": [
    {
     "name": "stdout",
     "output_type": "stream",
     "text": [
      "\tSuma y diferencia   de arrays de  la misma dimensión\n",
      "\n",
      "Array 1:  [1 2 7 4]\n",
      "Array 2:  [0 6 2 1] \n",
      "\n",
      "Suma de arrays:     [1 8 9 5]\n",
      "Diferencia de arrays (arr1-arr2:)     [ 1 -4  5  3] \n",
      "\n"
     ]
    }
   ],
   "source": [
    "arr1 = np.array([1.2,2,7,4],dtype=\"int64\")\n",
    "arr2 = np.array([0,6,2,1],dtype=\"int64\")\n",
    "mat1 = np.matrix(([1,2,3,6],[5,6,7,4],[8,9,4,1],[1,5,4,3]))\n",
    "mat2 = np.matrix(([2,2,3,4],[4,6,5,8],[3,9,2,8],[8,7,4,0]))\n",
    "\n",
    "print (\"\\tSuma y diferencia   de arrays de  la misma dimensión\\n\")\n",
    "\n",
    "print  (\"Array 1: \", arr1)\n",
    "print  (\"Array 2: \", arr2,\"\\n\")\n",
    "\n",
    "print  (\"Suma de arrays:    \", arr1+arr2)\n",
    "print  (\"Diferencia de arrays (arr1-arr2:)    \", arr1-arr2,\"\\n\")\n"
   ]
  },
  {
   "cell_type": "markdown",
   "id": "d41ee80d",
   "metadata": {},
   "source": [
    "### Operadores para arrays"
   ]
  },
  {
   "cell_type": "code",
   "execution_count": 16,
   "id": "dffcc1fc",
   "metadata": {
    "scrolled": true
   },
   "outputs": [
    {
     "name": "stdout",
     "output_type": "stream",
     "text": [
      "Array 1: \n",
      " [[1 2 3]\n",
      " [4 5 6]] \n",
      "\n",
      "Array 2: \n",
      " [[2. 2. 2.]\n",
      " [2. 2. 2.]]\n",
      "\n",
      "Adición  de dos arrays con np.add() :\n",
      " [[3. 4. 5.]\n",
      " [6. 7. 8.]]\n",
      "\n",
      "Sustracción de dos arrays con np.subtract() :\n",
      " [[-1.  0.  1.]\n",
      " [ 2.  3.  4.]]\n",
      "\n",
      "Multiplicación elemento a elemento con np.multiply() :\n",
      " [[ 2.  4.  6.]\n",
      " [ 8. 10. 12.]]\n",
      "\n",
      "Array 3:  [1 2 7 4] Array 4:  [0 6 2 1]\n",
      "Producto punto de dos arrays con np.dot() : 30\n"
     ]
    }
   ],
   "source": [
    "\n",
    "arr1 = np.array([(1, 2, 3), (4, 5, 6)], dtype=np.int8)\n",
    "arr2 = (np.ones((2, 3)))+1\n",
    "arr3 = np.array([1.2,2,7,4],dtype=\"int64\")\n",
    "arr4 = np.array([0,6,2,1],dtype=\"int64\")\n",
    "\n",
    "print (\"Array 1: \\n\", arr1, \"\\n\\nArray 2: \\n\", arr2)\n",
    "\n",
    "print (\"\\nAdición  de dos arrays con np.add() :\\n\", np.add(arr1,arr2))\n",
    "\n",
    "print (\"\\nSustracción de dos arrays con np.subtract() :\\n\", np.subtract(arr1,arr2))\n",
    "\n",
    "print (\"\\nMultiplicación elemento a elemento con np.multiply() :\\n\", np.multiply(arr1,arr2))\n",
    "\n",
    "\n",
    "print (\"\\nArray 3: \", arr3, \"Array 4: \", arr4)\n",
    "print (\"Producto punto de dos arrays con np.dot() :\", np.dot(arr3,arr4))"
   ]
  },
  {
   "cell_type": "markdown",
   "id": "213304b5",
   "metadata": {},
   "source": [
    "###  <center> <span style=\"color:DarkBlue\">  Ejmplos de Funciones por ejes </span>  </center>"
   ]
  },
  {
   "cell_type": "code",
   "execution_count": 62,
   "id": "46d6f7c0",
   "metadata": {
    "tags": []
   },
   "outputs": [
    {
     "name": "stdout",
     "output_type": "stream",
     "text": [
      "[0 1 2 3 4 5 6 7 8]\n",
      "Array 1: \n",
      " [[0 1 2]\n",
      " [3 4 5]\n",
      " [6 7 8]]\n",
      "\n",
      "Array 2: \n",
      " [[12 13 14]\n",
      " [15 16 17]\n",
      " [18 19 20]]\n",
      "\n",
      "Suma  de columnas de array1:  [ 9 12 15]\n",
      "\n",
      "Suma  de filas de array1:  [ 3 12 21]\n",
      "\n",
      "Suma  de todos los elementos en  array1:  36\n"
     ]
    }
   ],
   "source": [
    "print(np.arange(9))\n",
    "\n",
    "arr1 = np.arange(9).reshape((3, 3))\n",
    "arr2 = np.arange(12,21).reshape((3, 3))\n",
    "\n",
    "\n",
    "print (\"Array 1: \\n\",arr1)\n",
    "print (\"\\nArray 2: \\n\",arr2)\n",
    "\n",
    "\n",
    "#Axis cero  se refiere a columnas \n",
    "#Axis uno   se refiere  a  filas\n",
    "\n",
    "\n",
    "s1= np.add.reduce(arr1, axis=0)  #suma  de columnas\n",
    "print  (\"\\nSuma  de columnas de array1: \", s1)\n",
    "\n",
    "s1= np.add.reduce(arr1, axis=1)  #suma  de filas\n",
    "print  (\"\\nSuma  de filas de array1: \", s1)\n",
    "\n",
    "s1= np.add.reduce(arr1,None)  #suma  de filas\n",
    "print  (\"\\nSuma  de todos los elementos en  array1: \", s1)\n",
    "\n"
   ]
  },
  {
   "cell_type": "code",
   "execution_count": null,
   "id": "ad112e7b",
   "metadata": {},
   "outputs": [],
   "source": []
  },
  {
   "cell_type": "code",
   "execution_count": null,
   "id": "f148bc84",
   "metadata": {},
   "outputs": [],
   "source": []
  }
 ],
 "metadata": {
  "kernelspec": {
   "display_name": "tsi_ml_env",
   "language": "python",
   "name": "python3"
  },
  "language_info": {
   "codemirror_mode": {
    "name": "ipython",
    "version": 3
   },
   "file_extension": ".py",
   "mimetype": "text/x-python",
   "name": "python",
   "nbconvert_exporter": "python",
   "pygments_lexer": "ipython3",
   "version": "3.10.16"
  }
 },
 "nbformat": 4,
 "nbformat_minor": 5
}
